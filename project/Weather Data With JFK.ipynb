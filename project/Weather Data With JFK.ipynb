{
 "cells": [
  {
   "cell_type": "markdown",
   "metadata": {},
   "source": [
    "# Weather and Motor Vehicle Collisions"
   ]
  },
  {
   "cell_type": "code",
   "execution_count": 4,
   "metadata": {
    "collapsed": true
   },
   "outputs": [],
   "source": [
    "import pandas as pd\n",
    "import numpy as np\n",
    "import datetime\n",
    "from datetime import date\n",
    "from dateutil.rrule import rrule, DAILY\n",
    "from __future__ import division\n",
    "import geoplotlib as glp\n",
    "from geoplotlib.utils import BoundingBox, DataAccessObject\n",
    "\n",
    "pd.set_option('display.max_columns', None)\n",
    "%matplotlib inline  "
   ]
  },
  {
   "cell_type": "markdown",
   "metadata": {},
   "source": [
    "## Read weather data from csv file"
   ]
  },
  {
   "cell_type": "code",
   "execution_count": 116,
   "metadata": {
    "collapsed": false
   },
   "outputs": [],
   "source": [
    "weather = pd.read_csv('datasets/weather_data_nyc_kjfk_clean2.csv')\n",
    "incidents = pd.read_csv(\"datasets/NYPD_Motor_Vehicle_Collisions_weather4.csv\")\n",
    "weather['date'] = weather.Year.astype('str') +'/'+ weather.Month.astype('str') +'/'+ weather.Day.astype('str') +'/'+ weather.Hour.astype('str')\n",
    "\n"
   ]
  },
  {
   "cell_type": "code",
   "execution_count": 105,
   "metadata": {
    "collapsed": false,
    "scrolled": false
   },
   "outputs": [
    {
     "data": {
      "text/plain": [
       "{'Blowing Snow': 0,\n",
       " 'Clear': 0,\n",
       " 'Fog': 0,\n",
       " 'Haze': 0,\n",
       " 'Heavy Rain': 0,\n",
       " 'Heavy Snow': 0,\n",
       " 'Heavy Thunderstorms and Rain': 0,\n",
       " 'Ice Pellets': 0,\n",
       " 'Light Drizzle': 0,\n",
       " 'Light Freezing Drizzle': 0,\n",
       " 'Light Freezing Rain': 0,\n",
       " 'Light Ice Pellets': 0,\n",
       " 'Light Rain': 0,\n",
       " 'Light Rain Showers': 0,\n",
       " 'Light Snow': 0,\n",
       " 'Light Thunderstorms and Rain': 0,\n",
       " 'Mist': 0,\n",
       " 'Mostly Cloudy': 0,\n",
       " 'Overcast': 0,\n",
       " 'Partly Cloudy': 0,\n",
       " 'Patches of Fog': 0,\n",
       " 'Rain': 0,\n",
       " 'Scattered Clouds': 0,\n",
       " 'Shallow Fog': 0,\n",
       " 'Snow': 0,\n",
       " 'Squalls': 0,\n",
       " 'Thunderstorm': 0,\n",
       " 'Thunderstorms and Rain': 0,\n",
       " 'Thunderstorms with Small Hail': 0,\n",
       " 'Unknown': 0}"
      ]
     },
     "execution_count": 105,
     "metadata": {},
     "output_type": "execute_result"
    }
   ],
   "source": [
    "conditions = list(weather.Conditions.unique())\n",
    "condic = {}\n",
    "for cond in conditions:\n",
    "    condic[cond] = 0;\n",
    "condic"
   ]
  },
  {
   "cell_type": "markdown",
   "metadata": {},
   "source": [
    "*** Frequency of measured weather conditions from 7/1/2012 to 3/1/2016, on hourly basis ***"
   ]
  },
  {
   "cell_type": "code",
   "execution_count": 126,
   "metadata": {
    "collapsed": false,
    "scrolled": true
   },
   "outputs": [
    {
     "data": {
      "text/plain": [
       "{'Blowing Snow': 9,\n",
       " 'Clear': 7312,\n",
       " 'Fog': 729,\n",
       " 'Haze': 377,\n",
       " 'Heavy Rain': 326,\n",
       " 'Heavy Snow': 34,\n",
       " 'Heavy Thunderstorms and Rain': 67,\n",
       " 'Ice Pellets': 7,\n",
       " 'Light Drizzle': 984,\n",
       " 'Light Freezing Drizzle': 27,\n",
       " 'Light Freezing Rain': 128,\n",
       " 'Light Ice Pellets': 40,\n",
       " 'Light Rain': 6061,\n",
       " 'Light Rain Showers': 3,\n",
       " 'Light Snow': 1901,\n",
       " 'Light Thunderstorms and Rain': 179,\n",
       " 'Mist': 50,\n",
       " 'Mostly Cloudy': 36032,\n",
       " 'Overcast': 19924,\n",
       " 'Partly Cloudy': 14058,\n",
       " 'Patches of Fog': 24,\n",
       " 'Rain': 989,\n",
       " 'Scattered Clouds': 20917,\n",
       " 'Shallow Fog': 28,\n",
       " 'Snow': 107,\n",
       " 'Squalls': 7,\n",
       " 'Thunderstorm': 102,\n",
       " 'Thunderstorms and Rain': 48,\n",
       " 'Thunderstorms with Small Hail': 4,\n",
       " 'Unknown': 28}"
      ]
     },
     "execution_count": 126,
     "metadata": {},
     "output_type": "execute_result"
    }
   ],
   "source": [
    "for d in weather.date.unique():\n",
    "    condi = weather[weather.date == d]['Conditions'].iloc[0]\n",
    "    condic[condi] += 1\n",
    "\n",
    "condic"
   ]
  },
  {
   "cell_type": "markdown",
   "metadata": {},
   "source": [
    "## Get frequency of collision per hour of specific weather condition"
   ]
  },
  {
   "cell_type": "code",
   "execution_count": 110,
   "metadata": {
    "collapsed": false,
    "scrolled": true
   },
   "outputs": [
    {
     "data": {
      "text/plain": [
       "{'Blowing Snow': 884,\n",
       " 'Clear': 1043732,\n",
       " 'Fog': 116518,\n",
       " 'Haze': 112200,\n",
       " 'Heavy Rain': 82246,\n",
       " 'Heavy Snow': 5644,\n",
       " 'Heavy Thunderstorms and Rain': 21522,\n",
       " 'Ice Pellets': 1496,\n",
       " 'Light Drizzle': 229636,\n",
       " 'Light Freezing Drizzle': 4760,\n",
       " 'Light Freezing Rain': 30770,\n",
       " 'Light Ice Pellets': 13090,\n",
       " 'Light Rain': 1548632,\n",
       " 'Light Rain Showers': 1326,\n",
       " 'Light Snow': 479026,\n",
       " 'Light Thunderstorms and Rain': 52258,\n",
       " 'Mist': 9826,\n",
       " 'Mostly Cloudy': 8756700,\n",
       " 'Overcast': 3677100,\n",
       " 'Partly Cloudy': 2912236,\n",
       " 'Patches of Fog': 2346,\n",
       " 'Rain': 267410,\n",
       " 'Scattered Clouds': 5272788,\n",
       " 'Shallow Fog': 3366,\n",
       " 'Snow': 45628,\n",
       " 'Squalls': 1564,\n",
       " 'Thunderstorm': 29104,\n",
       " 'Thunderstorms and Rain': 8670,\n",
       " 'Thunderstorms with Small Hail': 1190,\n",
       " 'Unknown': 6834}"
      ]
     },
     "execution_count": 110,
     "metadata": {},
     "output_type": "execute_result"
    }
   ],
   "source": [
    "conditionCount = {}\n",
    "for c in incidents.Conditions.unique():\n",
    "    if (pd.notnull(c)):\n",
    "        mask = ((incidents.Conditions == c))\n",
    "        filtered_incidents = incidents[mask]\n",
    "        conditionCount[c] = filtered_incidents.size\n",
    "    \n",
    "conditionCount"
   ]
  },
  {
   "cell_type": "code",
   "execution_count": 140,
   "metadata": {
    "collapsed": false,
    "scrolled": true
   },
   "outputs": [
    {
     "data": {
      "text/plain": [
       "{'Blowing Snow': 40.416402424556189,\n",
       " 'Clear': 58.735505884222093,\n",
       " 'Fog': 65.767811542713218,\n",
       " 'Haze': 122.46145194953262,\n",
       " 'Heavy Rain': 103.81140835122848,\n",
       " 'Heavy Snow': 68.305548893989737,\n",
       " 'Heavy Thunderstorms and Rain': 132.17694868696702,\n",
       " 'Ice Pellets': 87.938985495188177,\n",
       " 'Light Drizzle': 96.02686983188994,\n",
       " 'Light Freezing Drizzle': 72.542260762023915,\n",
       " 'Light Freezing Rain': 98.915744515628035,\n",
       " 'Light Ice Pellets': 134.6565715395069,\n",
       " 'Light Rain': 105.13609507635935,\n",
       " 'Light Rain Showers': 181.87381091050281,\n",
       " 'Light Snow': 103.68713316546247,\n",
       " 'Light Thunderstorms and Rain': 120.12894171441462,\n",
       " 'Mist': 80.863894389438954,\n",
       " 'Mostly Cloudy': 100.0,\n",
       " 'Overcast': 75.941086320212492,\n",
       " 'Partly Cloudy': 85.241468858291512,\n",
       " 'Patches of Fog': 40.222092797515046,\n",
       " 'Rain': 111.25748796850779,\n",
       " 'Scattered Clouds': 103.72628205847508,\n",
       " 'Shallow Fog': 49.465679341043348,\n",
       " 'Snow': 175.46704115161378,\n",
       " 'Squalls': 91.936212108605815,\n",
       " 'Thunderstorm': 117.4087346450908,\n",
       " 'Thunderstorms and Rain': 74.323432343234316,\n",
       " 'Thunderstorms with Small Hail': 122.41506503591535,\n",
       " 'Unknown': 100.43031866211831}"
      ]
     },
     "execution_count": 140,
     "metadata": {},
     "output_type": "execute_result"
    }
   ],
   "source": [
    "# Calculate ratios\n",
    "ratios = {}\n",
    "\n",
    "for k,v in conditionCount.iteritems():\n",
    "    conditionCountValue = conditionCount[k]\n",
    "    weatherConditionCountValue = condic[k]\n",
    "    ratio =  conditionCountValue / weatherConditionCountValue\n",
    "    ratios[k] = ratio\n",
    "    #print \"%s: %s\" % (k, ratio)\n",
    "    \n",
    "# Normalize ratios\n",
    "#factor = 1.0/sum(ratios.itervalues())\n",
    "#for k in ratios:\n",
    "#    ratios[k] = ratios[k]*factor\n",
    "\n",
    "reference = ratios[\"Mostly Cloudy\"]\n",
    "\n",
    "for k in ratios:\n",
    "    ratios[k] = (ratios[k]/reference)*100\n",
    "\n",
    "ratios"
   ]
  },
  {
   "cell_type": "code",
   "execution_count": null,
   "metadata": {
    "collapsed": false
   },
   "outputs": [],
   "source": [
    "# Plot ratios\n",
    "\n",
    "df = pd.DataFrame(pd.Series(ratios, name=\"Collision Frequency (Normalized)\").sort_values())\n",
    "df.plot(kind='barh', figsize=(8,8))"
   ]
  },
  {
   "cell_type": "code",
   "execution_count": null,
   "metadata": {
    "collapsed": true
   },
   "outputs": [],
   "source": []
  },
  {
   "cell_type": "code",
   "execution_count": null,
   "metadata": {
    "collapsed": true
   },
   "outputs": [],
   "source": []
  }
 ],
 "metadata": {
  "kernelspec": {
   "display_name": "Python 2",
   "language": "python",
   "name": "python2"
  },
  "language_info": {
   "codemirror_mode": {
    "name": "ipython",
    "version": 2
   },
   "file_extension": ".py",
   "mimetype": "text/x-python",
   "name": "python",
   "nbconvert_exporter": "python",
   "pygments_lexer": "ipython2",
   "version": "2.7.11"
  }
 },
 "nbformat": 4,
 "nbformat_minor": 0
}
