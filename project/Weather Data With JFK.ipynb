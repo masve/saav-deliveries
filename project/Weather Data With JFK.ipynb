{
 "cells": [
  {
   "cell_type": "markdown",
   "metadata": {},
   "source": [
    "# Weather and Motor Vehicle Collisions"
   ]
  },
  {
   "cell_type": "code",
   "execution_count": 4,
   "metadata": {
    "collapsed": true
   },
   "outputs": [],
   "source": [
    "import pandas as pd\n",
    "import numpy as np\n",
    "import datetime\n",
    "from datetime import date\n",
    "from dateutil.rrule import rrule, DAILY\n",
    "from __future__ import division\n",
    "import geoplotlib as glp\n",
    "from geoplotlib.utils import BoundingBox, DataAccessObject\n",
    "\n",
    "pd.set_option('display.max_columns', None)\n",
    "%matplotlib inline  "
   ]
  },
  {
   "cell_type": "markdown",
   "metadata": {},
   "source": [
    "## Read weather data from csv file"
   ]
  },
  {
   "cell_type": "code",
   "execution_count": 89,
   "metadata": {
    "collapsed": false
   },
   "outputs": [],
   "source": [
    "weather = pd.read_csv('datasets/weather_data_nyc_clean2.csv')\n",
    "incidents = pd.read_csv(\"datasets/NYPD_Motor_Vehicle_Collisions_weather4.csv\")"
   ]
  },
  {
   "cell_type": "code",
   "execution_count": 91,
   "metadata": {
    "collapsed": false
   },
   "outputs": [],
   "source": [
    "weather['date'] = weather.Year.astype('str') +'/'+ weather.Month.astype('str') +'/'+ weather.Day.astype('str') +'/'+ weather.Hour.astype('str')\n"
   ]
  },
  {
   "cell_type": "code",
   "execution_count": 92,
   "metadata": {
    "collapsed": false,
    "scrolled": true
   },
   "outputs": [
    {
     "data": {
      "text/plain": [
       "array(['Clear', 'Partly Cloudy', 'Scattered Clouds', 'Unknown',\n",
       "       'Mostly Cloudy', 'Overcast', 'Light Rain', 'Heavy Rain', 'Rain',\n",
       "       'Haze', 'Fog', 'Mist', 'Light Snow', 'Heavy Snow', 'Snow',\n",
       "       'Light Freezing Rain', 'Light Freezing Fog'], dtype=object)"
      ]
     },
     "execution_count": 92,
     "metadata": {},
     "output_type": "execute_result"
    }
   ],
   "source": [
    "weather.Conditions.unique()"
   ]
  },
  {
   "cell_type": "markdown",
   "metadata": {},
   "source": [
    "*** Frequency of measured weather conditions from 7/1/2012 to 3/1/2016, on hourly basis ***"
   ]
  },
  {
   "cell_type": "code",
   "execution_count": 93,
   "metadata": {
    "collapsed": false,
    "scrolled": true
   },
   "outputs": [
    {
     "data": {
      "text/plain": [
       "{'Clear': 16042,\n",
       " 'Fog': 34,\n",
       " 'Haze': 742,\n",
       " 'Heavy Rain': 132,\n",
       " 'Heavy Snow': 25,\n",
       " 'Light Freezing Fog': 1,\n",
       " 'Light Freezing Rain': 18,\n",
       " 'Light Rain': 1149,\n",
       " 'Light Snow': 332,\n",
       " 'Mist': 6,\n",
       " 'Mostly Cloudy': 2504,\n",
       " 'Overcast': 7169,\n",
       " 'Partly Cloudy': 1665,\n",
       " 'Rain': 290,\n",
       " 'Scattered Clouds': 1401,\n",
       " 'Snow': 88,\n",
       " 'Unknown': 410}"
      ]
     },
     "execution_count": 93,
     "metadata": {},
     "output_type": "execute_result"
    }
   ],
   "source": [
    "weatherConditionCount = {'Clear':0, 'Partly Cloudy':0, 'Scattered Clouds':0, 'Unknown':0,\n",
    "       'Mostly Cloudy':0, 'Overcast':0, 'Light Rain':0, 'Heavy Rain':0, 'Rain':0,\n",
    "       'Haze':0, 'Fog':0, 'Mist':0, 'Light Snow':0, 'Heavy Snow':0, 'Snow':0,\n",
    "       'Light Freezing Rain':0, 'Light Freezing Fog':0}\n",
    "\n",
    "for d in weather.date.unique():\n",
    "    condi = weather[weather.date == d]['Conditions'].iloc[0]\n",
    "    weatherConditionCount[condi] += 1\n",
    "\n",
    "weatherConditionCount"
   ]
  },
  {
   "cell_type": "markdown",
   "metadata": {},
   "source": [
    "## Get frequency of collision per hour of specific weather condition"
   ]
  },
  {
   "cell_type": "code",
   "execution_count": 85,
   "metadata": {
    "collapsed": false
   },
   "outputs": [
    {
     "data": {
      "text/plain": [
       "{'Blowing Snow': 884,\n",
       " 'Clear': 1043732,\n",
       " 'Fog': 116518,\n",
       " 'Haze': 112200,\n",
       " 'Heavy Rain': 82246,\n",
       " 'Heavy Snow': 5644,\n",
       " 'Heavy Thunderstorms and Rain': 21522,\n",
       " 'Ice Pellets': 1496,\n",
       " 'Light Drizzle': 229636,\n",
       " 'Light Freezing Drizzle': 4760,\n",
       " 'Light Freezing Rain': 30770,\n",
       " 'Light Ice Pellets': 13090,\n",
       " 'Light Rain': 1548632,\n",
       " 'Light Rain Showers': 1326,\n",
       " 'Light Snow': 479026,\n",
       " 'Light Thunderstorms and Rain': 52258,\n",
       " 'Mist': 9826,\n",
       " 'Mostly Cloudy': 8756700,\n",
       " 'Overcast': 3677100,\n",
       " 'Partly Cloudy': 2912236,\n",
       " 'Patches of Fog': 2346,\n",
       " 'Rain': 267410,\n",
       " 'Scattered Clouds': 5272788,\n",
       " 'Shallow Fog': 3366,\n",
       " 'Snow': 45628,\n",
       " 'Squalls': 1564,\n",
       " 'Thunderstorm': 29104,\n",
       " 'Thunderstorms and Rain': 8670,\n",
       " 'Thunderstorms with Small Hail': 1190,\n",
       " 'Unknown': 6834}"
      ]
     },
     "execution_count": 85,
     "metadata": {},
     "output_type": "execute_result"
    }
   ],
   "source": [
    "conditionCount = {}\n",
    "for c in incidents.Conditions.unique():\n",
    "    if (pd.notnull(c)):\n",
    "        mask = ((incidents.Conditions == c))\n",
    "        filtered_incidents = incidents[mask]\n",
    "        conditionCount[c] = filtered_incidents.size\n",
    "    \n",
    "conditionCount\n",
    "\n",
    "\n",
    "    \n",
    "    "
   ]
  },
  {
   "cell_type": "code",
   "execution_count": 86,
   "metadata": {
    "collapsed": false
   },
   "outputs": [
    {
     "ename": "KeyError",
     "evalue": "'Light Drizzle'",
     "output_type": "error",
     "traceback": [
      "\u001b[0;31m---------------------------------------------------------------------------\u001b[0m",
      "\u001b[0;31mKeyError\u001b[0m                                  Traceback (most recent call last)",
      "\u001b[0;32m<ipython-input-86-4e608096f8d5>\u001b[0m in \u001b[0;36m<module>\u001b[0;34m()\u001b[0m\n\u001b[1;32m      1\u001b[0m \u001b[0;32mfor\u001b[0m \u001b[0mk\u001b[0m\u001b[0;34m,\u001b[0m\u001b[0mv\u001b[0m \u001b[0;32min\u001b[0m \u001b[0mconditionCount\u001b[0m\u001b[0;34m.\u001b[0m\u001b[0miteritems\u001b[0m\u001b[0;34m(\u001b[0m\u001b[0;34m)\u001b[0m\u001b[0;34m:\u001b[0m\u001b[0;34m\u001b[0m\u001b[0m\n\u001b[1;32m      2\u001b[0m     \u001b[0mconditionCountValue\u001b[0m \u001b[0;34m=\u001b[0m \u001b[0mconditionCount\u001b[0m\u001b[0;34m[\u001b[0m\u001b[0mk\u001b[0m\u001b[0;34m]\u001b[0m\u001b[0;34m\u001b[0m\u001b[0m\n\u001b[0;32m----> 3\u001b[0;31m     \u001b[0mweatherConditionCountValue\u001b[0m \u001b[0;34m=\u001b[0m \u001b[0mweatherConditionCount\u001b[0m\u001b[0;34m[\u001b[0m\u001b[0mk\u001b[0m\u001b[0;34m]\u001b[0m\u001b[0;34m\u001b[0m\u001b[0m\n\u001b[0m\u001b[1;32m      4\u001b[0m     \u001b[0;32mprint\u001b[0m \u001b[0mv\u001b[0m\u001b[0;34m\u001b[0m\u001b[0m\n",
      "\u001b[0;31mKeyError\u001b[0m: 'Light Drizzle'"
     ]
    }
   ],
   "source": [
    "for k,v in conditionCount.iteritems():\n",
    "    conditionCountValue = conditionCount[k]\n",
    "    weatherConditionCountValue = weatherConditionCount[k]\n",
    "    print v"
   ]
  },
  {
   "cell_type": "code",
   "execution_count": null,
   "metadata": {
    "collapsed": true
   },
   "outputs": [],
   "source": []
  }
 ],
 "metadata": {
  "kernelspec": {
   "display_name": "Python 2",
   "language": "python",
   "name": "python2"
  },
  "language_info": {
   "codemirror_mode": {
    "name": "ipython",
    "version": 2
   },
   "file_extension": ".py",
   "mimetype": "text/x-python",
   "name": "python",
   "nbconvert_exporter": "python",
   "pygments_lexer": "ipython2",
   "version": "2.7.11"
  }
 },
 "nbformat": 4,
 "nbformat_minor": 0
}
