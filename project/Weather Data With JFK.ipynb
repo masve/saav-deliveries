{
 "cells": [
  {
   "cell_type": "markdown",
   "metadata": {},
   "source": [
    "# Weather and Motor Vehicle Collisions"
   ]
  },
  {
   "cell_type": "code",
   "execution_count": 1,
   "metadata": {
    "collapsed": true
   },
   "outputs": [],
   "source": [
    "import pandas as pd\n",
    "import numpy as np\n",
    "import datetime\n",
    "from datetime import date\n",
    "from dateutil.rrule import rrule, DAILY\n",
    "from __future__ import division\n",
    "import geoplotlib as glp\n",
    "from geoplotlib.utils import BoundingBox, DataAccessObject\n",
    "\n",
    "pd.set_option('display.max_columns', None)\n",
    "%matplotlib inline  "
   ]
  },
  {
   "cell_type": "markdown",
   "metadata": {},
   "source": [
    "## Read weather data from csv file"
   ]
  },
  {
   "cell_type": "code",
   "execution_count": 2,
   "metadata": {
    "collapsed": false
   },
   "outputs": [
    {
     "name": "stderr",
     "output_type": "stream",
     "text": [
      "/Users/masve/anaconda/lib/python2.7/site-packages/IPython/core/interactiveshell.py:2902: DtypeWarning: Columns (11) have mixed types. Specify dtype option on import or set low_memory=False.\n",
      "  interactivity=interactivity, compiler=compiler, result=result)\n",
      "/Users/masve/anaconda/lib/python2.7/site-packages/IPython/core/interactiveshell.py:2902: DtypeWarning: Columns (30,31) have mixed types. Specify dtype option on import or set low_memory=False.\n",
      "  interactivity=interactivity, compiler=compiler, result=result)\n"
     ]
    }
   ],
   "source": [
    "weather = pd.read_csv('datasets/weather_data_nyc_kjfk_clean2.csv')\n",
    "incidents = pd.read_csv(\"datasets/NYPD_Motor_Vehicle_Collisions_weather4.csv\")\n",
    "weather['date'] = weather.Year.astype('str') +'/'+ weather.Month.astype('str') +'/'+ weather.Day.astype('str') +'/'+ weather.Hour.astype('str')\n",
    "\n"
   ]
  },
  {
   "cell_type": "code",
   "execution_count": 3,
   "metadata": {
    "collapsed": false,
    "scrolled": false
   },
   "outputs": [
    {
     "data": {
      "text/plain": [
       "{'Blowing Snow': 0,\n",
       " 'Clear': 0,\n",
       " 'Fog': 0,\n",
       " 'Haze': 0,\n",
       " 'Heavy Rain': 0,\n",
       " 'Heavy Snow': 0,\n",
       " 'Heavy Thunderstorms and Rain': 0,\n",
       " 'Ice Pellets': 0,\n",
       " 'Light Drizzle': 0,\n",
       " 'Light Freezing Drizzle': 0,\n",
       " 'Light Freezing Rain': 0,\n",
       " 'Light Ice Pellets': 0,\n",
       " 'Light Rain': 0,\n",
       " 'Light Rain Showers': 0,\n",
       " 'Light Snow': 0,\n",
       " 'Light Thunderstorms and Rain': 0,\n",
       " 'Mist': 0,\n",
       " 'Mostly Cloudy': 0,\n",
       " 'Overcast': 0,\n",
       " 'Partly Cloudy': 0,\n",
       " 'Patches of Fog': 0,\n",
       " 'Rain': 0,\n",
       " 'Scattered Clouds': 0,\n",
       " 'Shallow Fog': 0,\n",
       " 'Snow': 0,\n",
       " 'Squalls': 0,\n",
       " 'Thunderstorm': 0,\n",
       " 'Thunderstorms and Rain': 0,\n",
       " 'Thunderstorms with Small Hail': 0,\n",
       " 'Unknown': 0}"
      ]
     },
     "execution_count": 3,
     "metadata": {},
     "output_type": "execute_result"
    }
   ],
   "source": [
    "conditions = list(weather.Conditions.unique())\n",
    "condic = {}\n",
    "for cond in conditions:\n",
    "    condic[cond] = 0;\n",
    "condic"
   ]
  },
  {
   "cell_type": "markdown",
   "metadata": {},
   "source": [
    "*** Frequency of measured weather conditions from 7/1/2012 to 3/1/2016, on hourly basis ***"
   ]
  },
  {
   "cell_type": "code",
   "execution_count": 4,
   "metadata": {
    "collapsed": false,
    "scrolled": true
   },
   "outputs": [
    {
     "data": {
      "text/plain": [
       "{'Blowing Snow': 3,\n",
       " 'Clear': 2142,\n",
       " 'Fog': 212,\n",
       " 'Haze': 107,\n",
       " 'Heavy Rain': 96,\n",
       " 'Heavy Snow': 11,\n",
       " 'Heavy Thunderstorms and Rain': 18,\n",
       " 'Ice Pellets': 2,\n",
       " 'Light Drizzle': 291,\n",
       " 'Light Freezing Drizzle': 8,\n",
       " 'Light Freezing Rain': 41,\n",
       " 'Light Ice Pellets': 11,\n",
       " 'Light Rain': 1759,\n",
       " 'Light Rain Showers': 1,\n",
       " 'Light Snow': 569,\n",
       " 'Light Thunderstorms and Rain': 49,\n",
       " 'Mist': 15,\n",
       " 'Mostly Cloudy': 10366,\n",
       " 'Overcast': 5823,\n",
       " 'Partly Cloudy': 4102,\n",
       " 'Patches of Fog': 7,\n",
       " 'Rain': 295,\n",
       " 'Scattered Clouds': 6060,\n",
       " 'Shallow Fog': 9,\n",
       " 'Snow': 33,\n",
       " 'Squalls': 2,\n",
       " 'Thunderstorm': 27,\n",
       " 'Thunderstorms and Rain': 15,\n",
       " 'Thunderstorms with Small Hail': 1,\n",
       " 'Unknown': 7}"
      ]
     },
     "execution_count": 4,
     "metadata": {},
     "output_type": "execute_result"
    }
   ],
   "source": [
    "for d in weather.date.unique():\n",
    "    condi = weather[weather.date == d]['Conditions'].iloc[0]\n",
    "    condic[condi] += 1\n",
    "\n",
    "condic"
   ]
  },
  {
   "cell_type": "markdown",
   "metadata": {},
   "source": [
    "## Get frequency of collision per hour of specific weather condition"
   ]
  },
  {
   "cell_type": "code",
   "execution_count": 5,
   "metadata": {
    "collapsed": false,
    "scrolled": true
   },
   "outputs": [
    {
     "data": {
      "text/plain": [
       "{'Blowing Snow': 884,\n",
       " 'Clear': 1043732,\n",
       " 'Fog': 116518,\n",
       " 'Haze': 112200,\n",
       " 'Heavy Rain': 82246,\n",
       " 'Heavy Snow': 5644,\n",
       " 'Heavy Thunderstorms and Rain': 21522,\n",
       " 'Ice Pellets': 1496,\n",
       " 'Light Drizzle': 229636,\n",
       " 'Light Freezing Drizzle': 4760,\n",
       " 'Light Freezing Rain': 30770,\n",
       " 'Light Ice Pellets': 13090,\n",
       " 'Light Rain': 1548632,\n",
       " 'Light Rain Showers': 1326,\n",
       " 'Light Snow': 479026,\n",
       " 'Light Thunderstorms and Rain': 52258,\n",
       " 'Mist': 9826,\n",
       " 'Mostly Cloudy': 8756700,\n",
       " 'Overcast': 3677100,\n",
       " 'Partly Cloudy': 2912236,\n",
       " 'Patches of Fog': 2346,\n",
       " 'Rain': 267410,\n",
       " 'Scattered Clouds': 5272788,\n",
       " 'Shallow Fog': 3366,\n",
       " 'Snow': 45628,\n",
       " 'Squalls': 1564,\n",
       " 'Thunderstorm': 29104,\n",
       " 'Thunderstorms and Rain': 8670,\n",
       " 'Thunderstorms with Small Hail': 1190,\n",
       " 'Unknown': 6834}"
      ]
     },
     "execution_count": 5,
     "metadata": {},
     "output_type": "execute_result"
    }
   ],
   "source": [
    "conditionCount = {}\n",
    "for c in incidents.Conditions.unique():\n",
    "    if (pd.notnull(c)):\n",
    "        mask = ((incidents.Conditions == c))\n",
    "        filtered_incidents = incidents[mask]\n",
    "        conditionCount[c] = filtered_incidents.size\n",
    "    \n",
    "conditionCount"
   ]
  },
  {
   "cell_type": "code",
   "execution_count": 6,
   "metadata": {
    "collapsed": false,
    "scrolled": true
   },
   "outputs": [
    {
     "data": {
      "text/plain": [
       "{'Blowing Snow': 34.882029379408529,\n",
       " 'Clear': 57.681994068578057,\n",
       " 'Fog': 65.062072577957025,\n",
       " 'Haze': 124.13087378006628,\n",
       " 'Heavy Rain': 101.41782339998706,\n",
       " 'Heavy Snow': 60.738638569739337,\n",
       " 'Heavy Thunderstorms and Rain': 141.54054228952307,\n",
       " 'Ice Pellets': 88.546689963113963,\n",
       " 'Light Drizzle': 93.41523649029547,\n",
       " 'Light Freezing Drizzle': 70.434867016113373,\n",
       " 'Light Freezing Rain': 88.841191149244054,\n",
       " 'Light Ice Pellets': 140.86973403222675,\n",
       " 'Light Rain': 104.22049290505748,\n",
       " 'Light Rain Showers': 156.96913220733839,\n",
       " 'Light Snow': 99.659235891541186,\n",
       " 'Light Thunderstorms and Rain': 126.24885201605393,\n",
       " 'Mist': 77.545434543454348,\n",
       " 'Mostly Cloudy': 100.0,\n",
       " 'Overcast': 74.753130372588132,\n",
       " 'Partly Cloudy': 84.043018728121126,\n",
       " 'Patches of Fog': 39.673516931525086,\n",
       " 'Rain': 107.30658190445166,\n",
       " 'Scattered Clouds': 103.00028332477977,\n",
       " 'Shallow Fog': 44.273344981556981,\n",
       " 'Snow': 163.67721478030157,\n",
       " 'Squalls': 92.571539506891867,\n",
       " 'Thunderstorm': 127.60263738792179,\n",
       " 'Thunderstorms and Rain': 68.422442244224428,\n",
       " 'Thunderstorms with Small Hail': 140.86973403222675,\n",
       " 'Unknown': 115.57067975705134}"
      ]
     },
     "execution_count": 6,
     "metadata": {},
     "output_type": "execute_result"
    }
   ],
   "source": [
    "# Calculate ratios\n",
    "ratios = {}\n",
    "\n",
    "for k,v in conditionCount.iteritems():\n",
    "    conditionCountValue = conditionCount[k]\n",
    "    weatherConditionCountValue = condic[k]\n",
    "    ratio =  conditionCountValue / weatherConditionCountValue\n",
    "    ratios[k] = ratio\n",
    "    #print \"%s: %s\" % (k, ratio)\n",
    "    \n",
    "# Normalize ratios\n",
    "#factor = 1.0/sum(ratios.itervalues())\n",
    "#for k in ratios:\n",
    "#    ratios[k] = ratios[k]*factor\n",
    "\n",
    "reference = ratios[\"Mostly Cloudy\"]\n",
    "\n",
    "for k in ratios:\n",
    "    ratios[k] = (ratios[k]/reference)*100\n",
    "\n",
    "ratios"
   ]
  },
  {
   "cell_type": "code",
   "execution_count": 7,
   "metadata": {
    "collapsed": false
   },
   "outputs": [
    {
     "data": {
      "text/plain": [
       "<matplotlib.axes._subplots.AxesSubplot at 0x104092550>"
      ]
     },
     "execution_count": 7,
     "metadata": {},
     "output_type": "execute_result"
    },
    {
     "data": {
      "image/png": "[encoded data removed]",
      "text/plain": [
       "<matplotlib.figure.Figure at 0x104082f10>"
      ]
     },
     "metadata": {},
     "output_type": "display_data"
    }
   ],
   "source": [
    "# Plot ratios\n",
    "\n",
    "df = pd.DataFrame(pd.Series(ratios, name=\"Collision Frequency (Normalized)\").sort_values())\n",
    "df.plot(kind='barh', figsize=(8,8))"
   ]
  },
  {
   "cell_type": "code",
   "execution_count": 25,
   "metadata": {
    "collapsed": false
   },
   "outputs": [],
   "source": [
    "# Export to json for d3 viz\n",
    "from collections import OrderedDict\n",
    "import json\n",
    "with open('datasets/freq_weather.json', 'w') as fp:\n",
    "    json.dump(OrderedDict(sorted(ratios.items(), key=lambda x: x[1], reverse=True)), fp)"
   ]
  },
  {
   "cell_type": "code",
   "execution_count": 18,
   "metadata": {
    "collapsed": false
   },
   "outputs": [
    {
     "data": {
      "text/plain": [
       "OrderedDict([('Light Drizzle', 93.41523649029547),\n",
       "             ('Mostly Cloudy', 100.0),\n",
       "             ('Unknown', 115.57067975705134),\n",
       "             ('Snow', 163.67721478030157),\n",
       "             ('Haze', 124.13087378006628),\n",
       "             ('Fog', 65.062072577957025),\n",
       "             ('Shallow Fog', 44.273344981556981),\n",
       "             ('Light Snow', 99.659235891541186),\n",
       "             ('Scattered Clouds', 103.00028332477977),\n",
       "             ('Ice Pellets', 88.546689963113963),\n",
       "             ('Light Freezing Rain', 88.841191149244054),\n",
       "             ('Light Rain', 104.22049290505748),\n",
       "             ('Thunderstorm', 127.60263738792179),\n",
       "             ('Rain', 107.30658190445166),\n",
       "             ('Light Thunderstorms and Rain', 126.24885201605393),\n",
       "             ('Patches of Fog', 39.673516931525086),\n",
       "             ('Heavy Snow', 60.738638569739337),\n",
       "             ('Light Rain Showers', 156.96913220733839),\n",
       "             ('Clear', 57.681994068578057),\n",
       "             ('Overcast', 74.753130372588132),\n",
       "             ('Heavy Thunderstorms and Rain', 141.54054228952307),\n",
       "             ('Blowing Snow', 34.882029379408529),\n",
       "             ('Partly Cloudy', 84.043018728121126),\n",
       "             ('Squalls', 92.571539506891867),\n",
       "             ('Thunderstorms and Rain', 68.422442244224428),\n",
       "             ('Thunderstorms with Small Hail', 140.86973403222675),\n",
       "             ('Heavy Rain', 101.41782339998706),\n",
       "             ('Light Ice Pellets', 140.86973403222675),\n",
       "             ('Mist', 77.545434543454348),\n",
       "             ('Light Freezing Drizzle', 70.434867016113373)])"
      ]
     },
     "execution_count": 18,
     "metadata": {},
     "output_type": "execute_result"
    }
   ],
   "source": [
    "OrderedDict(ratios)"
   ]
  },
  {
   "cell_type": "code",
   "execution_count": 24,
   "metadata": {
    "collapsed": false
   },
   "outputs": [
    {
     "data": {
      "text/plain": [
       "[('Snow', 163.67721478030157),\n",
       " ('Light Rain Showers', 156.96913220733839),\n",
       " ('Heavy Thunderstorms and Rain', 141.54054228952307),\n",
       " ('Thunderstorms with Small Hail', 140.86973403222675),\n",
       " ('Light Ice Pellets', 140.86973403222675),\n",
       " ('Thunderstorm', 127.60263738792179),\n",
       " ('Light Thunderstorms and Rain', 126.24885201605393),\n",
       " ('Haze', 124.13087378006628),\n",
       " ('Unknown', 115.57067975705134),\n",
       " ('Rain', 107.30658190445166),\n",
       " ('Light Rain', 104.22049290505748),\n",
       " ('Scattered Clouds', 103.00028332477977),\n",
       " ('Heavy Rain', 101.41782339998706),\n",
       " ('Mostly Cloudy', 100.0),\n",
       " ('Light Snow', 99.659235891541186),\n",
       " ('Light Drizzle', 93.41523649029547),\n",
       " ('Squalls', 92.571539506891867),\n",
       " ('Light Freezing Rain', 88.841191149244054),\n",
       " ('Ice Pellets', 88.546689963113963),\n",
       " ('Partly Cloudy', 84.043018728121126),\n",
       " ('Mist', 77.545434543454348),\n",
       " ('Overcast', 74.753130372588132),\n",
       " ('Light Freezing Drizzle', 70.434867016113373),\n",
       " ('Thunderstorms and Rain', 68.422442244224428),\n",
       " ('Fog', 65.062072577957025),\n",
       " ('Heavy Snow', 60.738638569739337),\n",
       " ('Clear', 57.681994068578057),\n",
       " ('Shallow Fog', 44.273344981556981),\n",
       " ('Patches of Fog', 39.673516931525086),\n",
       " ('Blowing Snow', 34.882029379408529)]"
      ]
     },
     "execution_count": 24,
     "metadata": {},
     "output_type": "execute_result"
    }
   ],
   "source": [
    "sorted(ratios.items(), key=lambda x: x[1], reverse=True)"
   ]
  },
  {
   "cell_type": "code",
   "execution_count": null,
   "metadata": {
    "collapsed": true
   },
   "outputs": [],
   "source": []
  }
 ],
 "metadata": {
  "kernelspec": {
   "display_name": "Python 2",
   "language": "python",
   "name": "python2"
  },
  "language_info": {
   "codemirror_mode": {
    "name": "ipython",
    "version": 2
   },
   "file_extension": ".py",
   "mimetype": "text/x-python",
   "name": "python",
   "nbconvert_exporter": "python",
   "pygments_lexer": "ipython2",
   "version": "2.7.11"
  }
 },
 "nbformat": 4,
 "nbformat_minor": 0
}
