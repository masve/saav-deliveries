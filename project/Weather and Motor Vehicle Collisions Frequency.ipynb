{
 "cells": [
  {
   "cell_type": "markdown",
   "metadata": {},
   "source": [
    "# Weather and Motor Vehicle Collisions Frequency"
   ]
  },
  {
   "cell_type": "code",
   "execution_count": 1,
   "metadata": {
    "collapsed": true
   },
   "outputs": [],
   "source": [
    "import pandas as pd\n",
    "import numpy as np\n",
    "import datetime\n",
    "from datetime import date\n",
    "from dateutil.rrule import rrule, DAILY\n",
    "from __future__ import division\n",
    "import geoplotlib as glp\n",
    "from geoplotlib.utils import BoundingBox, DataAccessObject\n",
    "\n",
    "pd.set_option('display.max_columns', None)\n",
    "%matplotlib inline  "
   ]
  },
  {
   "cell_type": "code",
   "execution_count": 2,
   "metadata": {
    "collapsed": false
   },
   "outputs": [
    {
     "name": "stderr",
     "output_type": "stream",
     "text": [
      "/Users/masve/anaconda/lib/python2.7/site-packages/IPython/core/interactiveshell.py:2902: DtypeWarning: Columns (11) have mixed types. Specify dtype option on import or set low_memory=False.\n",
      "  interactivity=interactivity, compiler=compiler, result=result)\n",
      "/Users/masve/anaconda/lib/python2.7/site-packages/IPython/core/interactiveshell.py:2902: DtypeWarning: Columns (30,31) have mixed types. Specify dtype option on import or set low_memory=False.\n",
      "  interactivity=interactivity, compiler=compiler, result=result)\n"
     ]
    }
   ],
   "source": [
    "# Read and filter weather data\n",
    "weather = pd.read_csv('datasets/weather_data_nyc_kjfk_clean2.csv')\n",
    "incidents = pd.read_csv(\"datasets/NYPD_Motor_Vehicle_Collisions_weather4.csv\")\n",
    "weather['date'] = weather.Year.astype('str') +'/'+ weather.Month.astype('str') \\\n",
    "                  +'/'+ weather.Day.astype('str') +'/'+ weather.Hour.astype('str')"
   ]
  },
  {
   "cell_type": "markdown",
   "metadata": {},
   "source": [
    "*** Frequency of measured weather conditions from 7/1/2012 to 3/1/2016, on hourly basis ***"
   ]
  },
  {
   "cell_type": "code",
   "execution_count": 3,
   "metadata": {
    "collapsed": false,
    "scrolled": true
   },
   "outputs": [
    {
     "data": {
      "text/plain": [
       "{'Blowing Snow': 3,\n",
       " 'Clear': 2142,\n",
       " 'Fog': 212,\n",
       " 'Haze': 107,\n",
       " 'Heavy Rain': 96,\n",
       " 'Heavy Snow': 11,\n",
       " 'Heavy Thunderstorms and Rain': 18,\n",
       " 'Ice Pellets': 2,\n",
       " 'Light Drizzle': 291,\n",
       " 'Light Freezing Drizzle': 8,\n",
       " 'Light Freezing Rain': 41,\n",
       " 'Light Ice Pellets': 11,\n",
       " 'Light Rain': 1759,\n",
       " 'Light Rain Showers': 1,\n",
       " 'Light Snow': 569,\n",
       " 'Light Thunderstorms and Rain': 49,\n",
       " 'Mist': 15,\n",
       " 'Mostly Cloudy': 10366,\n",
       " 'Overcast': 5823,\n",
       " 'Partly Cloudy': 4102,\n",
       " 'Patches of Fog': 7,\n",
       " 'Rain': 295,\n",
       " 'Scattered Clouds': 6060,\n",
       " 'Shallow Fog': 9,\n",
       " 'Snow': 33,\n",
       " 'Squalls': 2,\n",
       " 'Thunderstorm': 27,\n",
       " 'Thunderstorms and Rain': 15,\n",
       " 'Thunderstorms with Small Hail': 1,\n",
       " 'Unknown': 7}"
      ]
     },
     "execution_count": 3,
     "metadata": {},
     "output_type": "execute_result"
    }
   ],
   "source": [
    "# Initialize condition dictionary\n",
    "conditions = list(weather.Conditions.unique())\n",
    "condic = {}\n",
    "for cond in conditions:\n",
    "    condic[cond] = 0;\n",
    "\n",
    "# Fill condic with every occurrence of incident in given weather condition\n",
    "for d in weather.date.unique():\n",
    "    condi = weather[weather.date == d]['Conditions'].iloc[0]\n",
    "    condic[condi] += 1\n",
    "\n",
    "condic"
   ]
  },
  {
   "cell_type": "code",
   "execution_count": 4,
   "metadata": {
    "collapsed": false,
    "scrolled": true
   },
   "outputs": [
    {
     "data": {
      "text/plain": [
       "{'Blowing Snow': 884,\n",
       " 'Clear': 1043732,\n",
       " 'Fog': 116518,\n",
       " 'Haze': 112200,\n",
       " 'Heavy Rain': 82246,\n",
       " 'Heavy Snow': 5644,\n",
       " 'Heavy Thunderstorms and Rain': 21522,\n",
       " 'Ice Pellets': 1496,\n",
       " 'Light Drizzle': 229636,\n",
       " 'Light Freezing Drizzle': 4760,\n",
       " 'Light Freezing Rain': 30770,\n",
       " 'Light Ice Pellets': 13090,\n",
       " 'Light Rain': 1548632,\n",
       " 'Light Rain Showers': 1326,\n",
       " 'Light Snow': 479026,\n",
       " 'Light Thunderstorms and Rain': 52258,\n",
       " 'Mist': 9826,\n",
       " 'Mostly Cloudy': 8756700,\n",
       " 'Overcast': 3677100,\n",
       " 'Partly Cloudy': 2912236,\n",
       " 'Patches of Fog': 2346,\n",
       " 'Rain': 267410,\n",
       " 'Scattered Clouds': 5272788,\n",
       " 'Shallow Fog': 3366,\n",
       " 'Snow': 45628,\n",
       " 'Squalls': 1564,\n",
       " 'Thunderstorm': 29104,\n",
       " 'Thunderstorms and Rain': 8670,\n",
       " 'Thunderstorms with Small Hail': 1190,\n",
       " 'Unknown': 6834}"
      ]
     },
     "execution_count": 4,
     "metadata": {},
     "output_type": "execute_result"
    }
   ],
   "source": [
    "# Get frequency of collision per hour of specific weather condition\n",
    "conditionCount = {}\n",
    "for c in incidents.Conditions.unique():\n",
    "    if (pd.notnull(c)):\n",
    "        mask = ((incidents.Conditions == c))\n",
    "        filtered_incidents = incidents[mask]\n",
    "        conditionCount[c] = filtered_incidents.size\n",
    "    \n",
    "conditionCount"
   ]
  },
  {
   "cell_type": "code",
   "execution_count": 5,
   "metadata": {
    "collapsed": false,
    "scrolled": true
   },
   "outputs": [],
   "source": [
    "# Calculate ratios\n",
    "ratios = {}\n",
    "\n",
    "for k,v in conditionCount.iteritems():\n",
    "    conditionCountValue = conditionCount[k]\n",
    "    weatherConditionCountValue = condic[k]\n",
    "    ratio =  conditionCountValue / weatherConditionCountValue\n",
    "    ratios[k] = ratio\n",
    "    #print \"%s: %s\" % (k, ratio)\n",
    "\n",
    "# Normalize on Mostly Cloudy (Most common weather condition)\n",
    "# reference = ratios[\"Mostly Cloudy\"]\n",
    "# for k in ratios:\n",
    "#     ratios[k] = (ratios[k]/reference)*100\n",
    "\n",
    "# ratios"
   ]
  },
  {
   "cell_type": "code",
   "execution_count": 6,
   "metadata": {
    "collapsed": false
   },
   "outputs": [
    {
     "data": {
      "text/plain": [
       "<matplotlib.axes._subplots.AxesSubplot at 0x104084b90>"
      ]
     },
     "execution_count": 6,
     "metadata": {},
     "output_type": "execute_result"
    },
    {
     "data": {
      "image/png": "[encoded data removed]",
      "text/plain": [
       "<matplotlib.figure.Figure at 0x11e73bf50>"
      ]
     },
     "metadata": {},
     "output_type": "display_data"
    }
   ],
   "source": [
    "# Plot ratios\n",
    "df = pd.DataFrame(pd.Series(ratios, name=\"Collision Frequency (Normalized)\").sort_values())\n",
    "df.plot(kind='barh', figsize=(8,8))"
   ]
  },
  {
   "cell_type": "code",
   "execution_count": 7,
   "metadata": {
    "collapsed": false
   },
   "outputs": [],
   "source": [
    "# Export to json for d3 viz\n",
    "from collections import OrderedDict\n",
    "import json\n",
    "with open('datasets/freq_weather2.json', 'w') as fp:\n",
    "    json.dump(OrderedDict(sorted(ratios.items(), key=lambda x: x[1], reverse=True)), fp)"
   ]
  },
  {
   "cell_type": "code",
   "execution_count": null,
   "metadata": {
    "collapsed": true
   },
   "outputs": [],
   "source": []
  }
 ],
 "metadata": {
  "kernelspec": {
   "display_name": "Python 2",
   "language": "python",
   "name": "python2"
  },
  "language_info": {
   "codemirror_mode": {
    "name": "ipython",
    "version": 2
   },
   "file_extension": ".py",
   "mimetype": "text/x-python",
   "name": "python",
   "nbconvert_exporter": "python",
   "pygments_lexer": "ipython2",
   "version": "2.7.11"
  }
 },
 "nbformat": 4,
 "nbformat_minor": 0
}
