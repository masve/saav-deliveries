{
 "cells": [
  {
   "cell_type": "code",
   "execution_count": 3,
   "metadata": {
    "collapsed": true
   },
   "outputs": [],
   "source": [
    "import numpy as np\n",
    "import pandas as pd\n",
    "import itertools\n",
    "from __future__ import division\n",
    "from sklearn.tree import tree, DecisionTreeClassifier, export_graphviz\n",
    "from sklearn import cluster\n",
    "import geoplotlib as gpl\n",
    "import time\n",
    "%matplotlib inline\n",
    "pd.set_option(\"display.max_columns\", 500)\n",
    "pd.set_option(\"max_rows\", 1000)"
   ]
  },
  {
   "cell_type": "code",
   "execution_count": 4,
   "metadata": {
    "collapsed": false
   },
   "outputs": [
    {
     "name": "stderr",
     "output_type": "stream",
     "text": [
      "/Users/masve/anaconda/lib/python2.7/site-packages/IPython/core/interactiveshell.py:2902: DtypeWarning: Columns (30,31) have mixed types. Specify dtype option on import or set low_memory=False.\n",
      "  interactivity=interactivity, compiler=compiler, result=result)\n"
     ]
    }
   ],
   "source": [
    "filePath = 'datasets/NYPD_Motor_Vehicle_Collisions_weather4.csv'\n",
    "collisions = pd.read_csv(filePath)\n",
    "collisions = collisions[pd.notnull(collisions.LOCATION) &\\\n",
    "                        pd.notnull(collisions.Conditions)]"
   ]
  },
  {
   "cell_type": "code",
   "execution_count": 21,
   "metadata": {
    "collapsed": false
   },
   "outputs": [],
   "source": [
    "# def UTCtoActual(utcDate):\n",
    "#     from_zone = tz.gettz('UTC')\n",
    "#     to_zone = tz.gettz('America/New_York')\n",
    "    \n",
    "#     utc = datetime.strptime(utcDate.DateUTC, '%Y-%m-%d %H:%M:%S')\\\n",
    "#                   .replace(tzinfo=from_zone)\\\n",
    "#                   .astimezone(to_zone)\n",
    "#     s = pd.Series([utc.year, utc.month, utc.day, utc.hour])\n",
    "#     s.columns = ['Year', 'Month', 'Day', 'Hour']\n",
    "#     return s\n",
    "\n",
    "def location_condition_count(row):\n",
    "    start = time.time()\n",
    "    loc = row.LOCATION\n",
    "    \n",
    "    counts = collisions[collisions.LOCATION == loc].Conditions.value_counts()\n",
    "    s = pd.Series(counts)\n",
    "    \n",
    "    s.columns = collisions.Conditions.unique()    \n",
    "    end = time.time()\n",
    "    \n",
    "    print end - start\n",
    "    return s"
   ]
  },
  {
   "cell_type": "code",
   "execution_count": 23,
   "metadata": {
    "collapsed": false
   },
   "outputs": [
    {
     "name": "stdout",
     "output_type": "stream",
     "text": [
      "0.0955698490143\n",
      "0.0827968120575\n"
     ]
    },
    {
     "ename": "ValueError",
     "evalue": "Columns must be same length as key",
     "output_type": "error",
     "traceback": [
      "\u001b[0;31m---------------------------------------------------------------------------\u001b[0m",
      "\u001b[0;31mValueError\u001b[0m                                Traceback (most recent call last)",
      "\u001b[0;32m<ipython-input-23-d86f883989ea>\u001b[0m in \u001b[0;36m<module>\u001b[0;34m()\u001b[0m\n\u001b[1;32m      1\u001b[0m \u001b[0mdt\u001b[0m \u001b[0;34m=\u001b[0m \u001b[0mpd\u001b[0m\u001b[0;34m.\u001b[0m\u001b[0mDataFrame\u001b[0m\u001b[0;34m(\u001b[0m\u001b[0;34m)\u001b[0m\u001b[0;34m\u001b[0m\u001b[0m\n\u001b[1;32m      2\u001b[0m \u001b[0mdt\u001b[0m\u001b[0;34m[\u001b[0m\u001b[0;34m'LOCATION'\u001b[0m\u001b[0;34m]\u001b[0m \u001b[0;34m=\u001b[0m \u001b[0;34m[\u001b[0m\u001b[0;34m'(40.6810063, -73.812561)'\u001b[0m\u001b[0;34m]\u001b[0m\u001b[0;31m#collisions.LOCATION.unique()\u001b[0m\u001b[0;34m\u001b[0m\u001b[0m\n\u001b[0;32m----> 3\u001b[0;31m \u001b[0mdt\u001b[0m\u001b[0;34m[\u001b[0m\u001b[0mcollisions\u001b[0m\u001b[0;34m.\u001b[0m\u001b[0mConditions\u001b[0m\u001b[0;34m.\u001b[0m\u001b[0munique\u001b[0m\u001b[0;34m(\u001b[0m\u001b[0;34m)\u001b[0m\u001b[0;34m]\u001b[0m \u001b[0;34m=\u001b[0m \u001b[0mdt\u001b[0m\u001b[0;34m.\u001b[0m\u001b[0mapply\u001b[0m\u001b[0;34m(\u001b[0m\u001b[0mlocation_condition_count\u001b[0m\u001b[0;34m,\u001b[0m \u001b[0maxis\u001b[0m\u001b[0;34m=\u001b[0m\u001b[0;36m1\u001b[0m\u001b[0;34m)\u001b[0m\u001b[0;34m\u001b[0m\u001b[0m\n\u001b[0m\u001b[1;32m      4\u001b[0m \u001b[0mdt\u001b[0m\u001b[0;34m.\u001b[0m\u001b[0mhead\u001b[0m\u001b[0;34m(\u001b[0m\u001b[0;34m)\u001b[0m\u001b[0;34m\u001b[0m\u001b[0m\n",
      "\u001b[0;32m/Users/masve/anaconda/lib/python2.7/site-packages/pandas/core/frame.pyc\u001b[0m in \u001b[0;36m__setitem__\u001b[0;34m(self, key, value)\u001b[0m\n\u001b[1;32m   2292\u001b[0m \u001b[0;34m\u001b[0m\u001b[0m\n\u001b[1;32m   2293\u001b[0m         \u001b[0;32mif\u001b[0m \u001b[0misinstance\u001b[0m\u001b[0;34m(\u001b[0m\u001b[0mkey\u001b[0m\u001b[0;34m,\u001b[0m \u001b[0;34m(\u001b[0m\u001b[0mSeries\u001b[0m\u001b[0;34m,\u001b[0m \u001b[0mnp\u001b[0m\u001b[0;34m.\u001b[0m\u001b[0mndarray\u001b[0m\u001b[0;34m,\u001b[0m \u001b[0mlist\u001b[0m\u001b[0;34m,\u001b[0m \u001b[0mIndex\u001b[0m\u001b[0;34m)\u001b[0m\u001b[0;34m)\u001b[0m\u001b[0;34m:\u001b[0m\u001b[0;34m\u001b[0m\u001b[0m\n\u001b[0;32m-> 2294\u001b[0;31m             \u001b[0mself\u001b[0m\u001b[0;34m.\u001b[0m\u001b[0m_setitem_array\u001b[0m\u001b[0;34m(\u001b[0m\u001b[0mkey\u001b[0m\u001b[0;34m,\u001b[0m \u001b[0mvalue\u001b[0m\u001b[0;34m)\u001b[0m\u001b[0;34m\u001b[0m\u001b[0m\n\u001b[0m\u001b[1;32m   2295\u001b[0m         \u001b[0;32melif\u001b[0m \u001b[0misinstance\u001b[0m\u001b[0;34m(\u001b[0m\u001b[0mkey\u001b[0m\u001b[0;34m,\u001b[0m \u001b[0mDataFrame\u001b[0m\u001b[0;34m)\u001b[0m\u001b[0;34m:\u001b[0m\u001b[0;34m\u001b[0m\u001b[0m\n\u001b[1;32m   2296\u001b[0m             \u001b[0mself\u001b[0m\u001b[0;34m.\u001b[0m\u001b[0m_setitem_frame\u001b[0m\u001b[0;34m(\u001b[0m\u001b[0mkey\u001b[0m\u001b[0;34m,\u001b[0m \u001b[0mvalue\u001b[0m\u001b[0;34m)\u001b[0m\u001b[0;34m\u001b[0m\u001b[0m\n",
      "\u001b[0;32m/Users/masve/anaconda/lib/python2.7/site-packages/pandas/core/frame.pyc\u001b[0m in \u001b[0;36m_setitem_array\u001b[0;34m(self, key, value)\u001b[0m\n\u001b[1;32m   2316\u001b[0m             \u001b[0;32mif\u001b[0m \u001b[0misinstance\u001b[0m\u001b[0;34m(\u001b[0m\u001b[0mvalue\u001b[0m\u001b[0;34m,\u001b[0m \u001b[0mDataFrame\u001b[0m\u001b[0;34m)\u001b[0m\u001b[0;34m:\u001b[0m\u001b[0;34m\u001b[0m\u001b[0m\n\u001b[1;32m   2317\u001b[0m                 \u001b[0;32mif\u001b[0m \u001b[0mlen\u001b[0m\u001b[0;34m(\u001b[0m\u001b[0mvalue\u001b[0m\u001b[0;34m.\u001b[0m\u001b[0mcolumns\u001b[0m\u001b[0;34m)\u001b[0m \u001b[0;34m!=\u001b[0m \u001b[0mlen\u001b[0m\u001b[0;34m(\u001b[0m\u001b[0mkey\u001b[0m\u001b[0;34m)\u001b[0m\u001b[0;34m:\u001b[0m\u001b[0;34m\u001b[0m\u001b[0m\n\u001b[0;32m-> 2318\u001b[0;31m                     \u001b[0;32mraise\u001b[0m \u001b[0mValueError\u001b[0m\u001b[0;34m(\u001b[0m\u001b[0;34m'Columns must be same length as key'\u001b[0m\u001b[0;34m)\u001b[0m\u001b[0;34m\u001b[0m\u001b[0m\n\u001b[0m\u001b[1;32m   2319\u001b[0m                 \u001b[0;32mfor\u001b[0m \u001b[0mk1\u001b[0m\u001b[0;34m,\u001b[0m \u001b[0mk2\u001b[0m \u001b[0;32min\u001b[0m \u001b[0mzip\u001b[0m\u001b[0;34m(\u001b[0m\u001b[0mkey\u001b[0m\u001b[0;34m,\u001b[0m \u001b[0mvalue\u001b[0m\u001b[0;34m.\u001b[0m\u001b[0mcolumns\u001b[0m\u001b[0;34m)\u001b[0m\u001b[0;34m:\u001b[0m\u001b[0;34m\u001b[0m\u001b[0m\n\u001b[1;32m   2320\u001b[0m                     \u001b[0mself\u001b[0m\u001b[0;34m[\u001b[0m\u001b[0mk1\u001b[0m\u001b[0;34m]\u001b[0m \u001b[0;34m=\u001b[0m \u001b[0mvalue\u001b[0m\u001b[0;34m[\u001b[0m\u001b[0mk2\u001b[0m\u001b[0;34m]\u001b[0m\u001b[0;34m\u001b[0m\u001b[0m\n",
      "\u001b[0;31mValueError\u001b[0m: Columns must be same length as key"
     ]
    }
   ],
   "source": [
    "dt = pd.DataFrame()\n",
    "d = pd.DataFrame(0, index=np.arange(len(dt)), columns=collisions.Conditions.unique())\n",
    "dt['LOCATION'] = ['(40.6810063, -73.812561)']#collisions.LOCATION.unique()\n",
    "dt[collisions.Conditions.unique()] = dt.apply(location_condition_count, axis=1)\n",
    "dt.head()\n"
   ]
  },
  {
   "cell_type": "code",
   "execution_count": null,
   "metadata": {
    "collapsed": true
   },
   "outputs": [],
   "source": [
    "dt.to_csv('datasets/weather_count.csv', sep=',')"
   ]
  },
  {
   "cell_type": "code",
   "execution_count": 25,
   "metadata": {
    "collapsed": false
   },
   "outputs": [
    {
     "data": {
      "text/plain": [
       "Mostly Cloudy       4\n",
       "Overcast            3\n",
       "Scattered Clouds    2\n",
       "Light Snow          1\n",
       "Rain                1\n",
       "Light Rain          1\n",
       "Partly Cloudy       1\n",
       "Name: Conditions, dtype: int64"
      ]
     },
     "execution_count": 25,
     "metadata": {},
     "output_type": "execute_result"
    }
   ],
   "source": [
    "c = collisions[collisions.LOCATION == '(40.6810063, -73.812561)'].Conditions.value_counts()\n",
    "collisions.Conditions\n",
    "\n",
    "se = pd.Series(c)\n",
    "se"
   ]
  },
  {
   "cell_type": "code",
   "execution_count": 16,
   "metadata": {
    "collapsed": false
   },
   "outputs": [
    {
     "data": {
      "text/plain": [
       "Mostly Cloudy                    216491\n",
       "Scattered Clouds                 130504\n",
       "Overcast                          91121\n",
       "Partly Cloudy                     72119\n",
       "Light Rain                        38607\n",
       "Clear                             25901\n",
       "Light Snow                        11922\n",
       "Rain                               6664\n",
       "Light Drizzle                      5660\n",
       "Fog                                2909\n",
       "Haze                               2828\n",
       "Heavy Rain                         2012\n",
       "Light Thunderstorms and Rain       1319\n",
       "Snow                               1129\n",
       "Light Freezing Rain                 768\n",
       "Thunderstorm                        724\n",
       "Heavy Thunderstorms and Rain        526\n",
       "Light Ice Pellets                   336\n",
       "Mist                                248\n",
       "Thunderstorms and Rain              215\n",
       "Unknown                             172\n",
       "Heavy Snow                          141\n",
       "Light Freezing Drizzle              121\n",
       "Shallow Fog                          84\n",
       "Patches of Fog                       59\n",
       "Squalls                              42\n",
       "Ice Pellets                          38\n",
       "Light Rain Showers                   36\n",
       "Thunderstorms with Small Hail        26\n",
       "Blowing Snow                         24\n",
       "Name: Conditions, dtype: int64"
      ]
     },
     "execution_count": 16,
     "metadata": {},
     "output_type": "execute_result"
    }
   ],
   "source": []
  },
  {
   "cell_type": "code",
   "execution_count": 84,
   "metadata": {
    "collapsed": false
   },
   "outputs": [
    {
     "data": {
      "text/html": [
       "<div>\n",
       "<table border=\"1\" class=\"dataframe\">\n",
       "  <thead>\n",
       "    <tr style=\"text-align: right;\">\n",
       "      <th></th>\n",
       "      <th>Mostly Cloudy</th>\n",
       "      <th>Overcast</th>\n",
       "      <th>Light Rain</th>\n",
       "      <th>Heavy Rain</th>\n",
       "      <th>Scattered Clouds</th>\n",
       "      <th>Light Drizzle</th>\n",
       "      <th>Light Snow</th>\n",
       "      <th>Rain</th>\n",
       "      <th>Light Ice Pellets</th>\n",
       "      <th>Fog</th>\n",
       "      <th>Shallow Fog</th>\n",
       "      <th>Patches of Fog</th>\n",
       "      <th>Partly Cloudy</th>\n",
       "      <th>Haze</th>\n",
       "      <th>Clear</th>\n",
       "      <th>Thunderstorm</th>\n",
       "      <th>Light Thunderstorms and Rain</th>\n",
       "      <th>Heavy Thunderstorms and Rain</th>\n",
       "      <th>Thunderstorms and Rain</th>\n",
       "      <th>Squalls</th>\n",
       "      <th>Mist</th>\n",
       "      <th>Snow</th>\n",
       "      <th>Light Freezing Rain</th>\n",
       "      <th>Light Freezing Drizzle</th>\n",
       "      <th>Unknown</th>\n",
       "      <th>Light Rain Showers</th>\n",
       "      <th>Ice Pellets</th>\n",
       "      <th>Blowing Snow</th>\n",
       "      <th>Heavy Snow</th>\n",
       "      <th>Thunderstorms with Small Hail</th>\n",
       "      <th>LOCATION</th>\n",
       "      <th>Mostly Cloudy</th>\n",
       "      <th>Overcast</th>\n",
       "      <th>Scattered Clouds</th>\n",
       "      <th>Light Snow</th>\n",
       "      <th>Rain</th>\n",
       "      <th>Light Rain</th>\n",
       "      <th>Partly Cloudy</th>\n",
       "    </tr>\n",
       "  </thead>\n",
       "  <tbody>\n",
       "    <tr>\n",
       "      <th>0</th>\n",
       "      <td>0</td>\n",
       "      <td>0</td>\n",
       "      <td>0</td>\n",
       "      <td>0</td>\n",
       "      <td>0</td>\n",
       "      <td>0</td>\n",
       "      <td>0</td>\n",
       "      <td>0</td>\n",
       "      <td>0</td>\n",
       "      <td>0</td>\n",
       "      <td>0</td>\n",
       "      <td>0</td>\n",
       "      <td>0</td>\n",
       "      <td>0</td>\n",
       "      <td>0</td>\n",
       "      <td>0</td>\n",
       "      <td>0</td>\n",
       "      <td>0</td>\n",
       "      <td>0</td>\n",
       "      <td>0</td>\n",
       "      <td>0</td>\n",
       "      <td>0</td>\n",
       "      <td>0</td>\n",
       "      <td>0</td>\n",
       "      <td>0</td>\n",
       "      <td>0</td>\n",
       "      <td>0</td>\n",
       "      <td>0</td>\n",
       "      <td>0</td>\n",
       "      <td>0</td>\n",
       "      <td>(40.6810063, -73.812561)</td>\n",
       "      <td>4</td>\n",
       "      <td>3</td>\n",
       "      <td>2</td>\n",
       "      <td>1</td>\n",
       "      <td>1</td>\n",
       "      <td>1</td>\n",
       "      <td>1</td>\n",
       "    </tr>\n",
       "  </tbody>\n",
       "</table>\n",
       "</div>"
      ],
      "text/plain": [
       "   Mostly Cloudy  Overcast  Light Rain  Heavy Rain  Scattered Clouds  \\\n",
       "0              0         0           0           0                 0   \n",
       "\n",
       "   Light Drizzle  Light Snow  Rain  Light Ice Pellets  Fog  Shallow Fog  \\\n",
       "0              0           0     0                  0    0            0   \n",
       "\n",
       "   Patches of Fog  Partly Cloudy  Haze  Clear  Thunderstorm  \\\n",
       "0               0              0     0      0             0   \n",
       "\n",
       "   Light Thunderstorms and Rain  Heavy Thunderstorms and Rain  \\\n",
       "0                             0                             0   \n",
       "\n",
       "   Thunderstorms and Rain  Squalls  Mist  Snow  Light Freezing Rain  \\\n",
       "0                       0        0     0     0                    0   \n",
       "\n",
       "   Light Freezing Drizzle  Unknown  Light Rain Showers  Ice Pellets  \\\n",
       "0                       0        0                   0            0   \n",
       "\n",
       "   Blowing Snow  Heavy Snow  Thunderstorms with Small Hail  \\\n",
       "0             0           0                              0   \n",
       "\n",
       "                   LOCATION  Mostly Cloudy  Overcast  Scattered Clouds  \\\n",
       "0  (40.6810063, -73.812561)              4         3                 2   \n",
       "\n",
       "   Light Snow  Rain  Light Rain  Partly Cloudy  \n",
       "0           1     1           1              1  "
      ]
     },
     "execution_count": 84,
     "metadata": {},
     "output_type": "execute_result"
    }
   ],
   "source": [
    "def location_condition_count(row):\n",
    "#     start = time.time()\n",
    "#     print row\n",
    "    loc = row.LOCATION\n",
    "    r = collisions[collisions.LOCATION == loc].Conditions.value_counts()\n",
    "#     end = time.time()\n",
    "#     print end-start\n",
    "    return pd.concat([row,r])\n",
    "#     return row.to_frame().join(r.to_frame())\n",
    "\n",
    "# locations = collisions.LOCATION.unique()\n",
    "locations = ['(40.6810063, -73.812561)']\n",
    "\n",
    "d = pd.DataFrame(0, index=np.arange(len(locations)), columns=collisions.Conditions.unique())\n",
    "d['LOCATION'] = locations\n",
    "d = d.apply(location_condition_count, axis=1)\n",
    "d"
   ]
  },
  {
   "cell_type": "code",
   "execution_count": 43,
   "metadata": {
    "collapsed": false
   },
   "outputs": [
    {
     "data": {
      "text/plain": [
       "Index([u'Mostly Cloudy', u'Overcast', u'Light Rain', u'Heavy Rain',\n",
       "       u'Scattered Clouds', u'Light Drizzle', u'Light Snow', u'Rain',\n",
       "       u'Light Ice Pellets', u'Fog', u'Shallow Fog', u'Patches of Fog',\n",
       "       u'Partly Cloudy', u'Haze', u'Clear', u'Thunderstorm',\n",
       "       u'Light Thunderstorms and Rain', u'Heavy Thunderstorms and Rain',\n",
       "       u'Thunderstorms and Rain', u'Squalls', u'Mist', u'Snow',\n",
       "       u'Light Freezing Rain', u'Light Freezing Drizzle', u'Unknown',\n",
       "       u'Light Rain Showers', u'Ice Pellets', u'Blowing Snow', u'Heavy Snow',\n",
       "       u'Thunderstorms with Small Hail', u'LOCATION'],\n",
       "      dtype='object')"
      ]
     },
     "execution_count": 43,
     "metadata": {},
     "output_type": "execute_result"
    }
   ],
   "source": []
  },
  {
   "cell_type": "code",
   "execution_count": null,
   "metadata": {
    "collapsed": true
   },
   "outputs": [],
   "source": []
  }
 ],
 "metadata": {
  "kernelspec": {
   "display_name": "Python 2",
   "language": "python",
   "name": "python2"
  },
  "language_info": {
   "codemirror_mode": {
    "name": "ipython",
    "version": 2
   },
   "file_extension": ".py",
   "mimetype": "text/x-python",
   "name": "python",
   "nbconvert_exporter": "python",
   "pygments_lexer": "ipython2",
   "version": "2.7.11"
  }
 },
 "nbformat": 4,
 "nbformat_minor": 0
}
