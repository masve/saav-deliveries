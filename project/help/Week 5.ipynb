{
 "cells": [
  {
   "cell_type": "markdown",
   "metadata": {},
   "source": [
    "# Week 5\n",
    "\n",
    "## There are two main kinds of decision trees depending on the type of output (numeric vs. categorical). What are they?\n",
    "\n",
    "Classification trees and regression trees.\n",
    "\n",
    "\n",
    "## Explain in your own words: Why is entropy useful when deciding where to split the data?\n",
    "\n",
    "The entropy is a great way for creating a desition tree, as you can use the entropy to calculate how well the data is splitted for differnt features. Therefore the lower the entropy is the better the predition is.\n",
    "\n",
    "## Why are trees prone to overfitting?\n",
    "\n",
    "Overfitting is when the desition three is fittet to well to the training dataset. And when you test with other data, the predictions are wrong.\n",
    "\n",
    "## Explain (in your own words) how random forests help prevent overfitting.\n",
    "\n",
    "Instead of creating a single 'perfect' tree, you randomly create a lot of 'weak' trees. That you then combine to give create an ensemble learning technique. Were you look at the result of all the weak trees, and then let them 'vote' on how the data should be classified."
   ]
  },
  {
   "cell_type": "markdown",
   "metadata": {},
   "source": [
    "## Use the category of the crimes to build a decision tree that predicts the corresponding district. You can implement the ID3 tree in the DSFS book, or use the DecisionTreeClassifier class in scikit-learn. For training, you can use 90% of the data and test the tree prediction on the remaining 10%.\n",
    "\n",
    "### What is the fraction of correct predictions?"
   ]
  },
  {
   "cell_type": "code",
   "execution_count": 1,
   "metadata": {
    "collapsed": false
   },
   "outputs": [],
   "source": [
    "from sklearn import tree, preprocessing\n",
    "from sklearn.feature_extraction import DictVectorizer\n",
    "import numpy as np\n",
    "from collections import OrderedDict\n",
    "import pandas as pd\n",
    "import itertools\n",
    "from __future__ import division\n",
    "from sklearn.externals.six import StringIO\n",
    "import os\n",
    "import pydot\n",
    "from IPython.display import Image"
   ]
  },
  {
   "cell_type": "code",
   "execution_count": 2,
   "metadata": {
    "collapsed": false
   },
   "outputs": [],
   "source": [
    "data_path = 'SFPD_Incidents_-_from_1_January_2003.csv'\n",
    "\n",
    "data = pd.read_csv(data_path)"
   ]
  },
  {
   "cell_type": "code",
   "execution_count": 3,
   "metadata": {
    "collapsed": false,
    "scrolled": true
   },
   "outputs": [
    {
     "data": {
      "text/html": [
       "<div>\n",
       "<table border=\"1\" class=\"dataframe\">\n",
       "  <thead>\n",
       "    <tr style=\"text-align: right;\">\n",
       "      <th></th>\n",
       "      <th>IncidntNum</th>\n",
       "      <th>Category</th>\n",
       "      <th>Descript</th>\n",
       "      <th>DayOfWeek</th>\n",
       "      <th>Date</th>\n",
       "      <th>Time</th>\n",
       "      <th>PdDistrict</th>\n",
       "      <th>Resolution</th>\n",
       "      <th>Address</th>\n",
       "      <th>X</th>\n",
       "      <th>Y</th>\n",
       "      <th>Location</th>\n",
       "      <th>PdId</th>\n",
       "      <th>PdDistrict_encoded</th>\n",
       "      <th>Category_encoded</th>\n",
       "      <th>DayOfWeek_encoded</th>\n",
       "    </tr>\n",
       "  </thead>\n",
       "  <tbody>\n",
       "    <tr>\n",
       "      <th>0</th>\n",
       "      <td>160095193</td>\n",
       "      <td>OTHER OFFENSES</td>\n",
       "      <td>DRIVERS LICENSE, SUSPENDED OR REVOKED</td>\n",
       "      <td>Monday</td>\n",
       "      <td>02/01/2016</td>\n",
       "      <td>23:51</td>\n",
       "      <td>TENDERLOIN</td>\n",
       "      <td>ARREST, BOOKED</td>\n",
       "      <td>HYDE ST / GROVE ST</td>\n",
       "      <td>-122.414744</td>\n",
       "      <td>37.778719</td>\n",
       "      <td>(37.778719262789, -122.414743835382)</td>\n",
       "      <td>16009519365016</td>\n",
       "      <td>0</td>\n",
       "      <td>0</td>\n",
       "      <td>0</td>\n",
       "    </tr>\n",
       "    <tr>\n",
       "      <th>1</th>\n",
       "      <td>160095171</td>\n",
       "      <td>OTHER OFFENSES</td>\n",
       "      <td>DRIVERS LICENSE, SUSPENDED OR REVOKED</td>\n",
       "      <td>Monday</td>\n",
       "      <td>02/01/2016</td>\n",
       "      <td>23:44</td>\n",
       "      <td>SOUTHERN</td>\n",
       "      <td>ARREST, BOOKED</td>\n",
       "      <td>13TH ST / BRYANT ST</td>\n",
       "      <td>-122.410931</td>\n",
       "      <td>37.769411</td>\n",
       "      <td>(37.7694111951212, -122.410931084001)</td>\n",
       "      <td>16009517165016</td>\n",
       "      <td>1</td>\n",
       "      <td>0</td>\n",
       "      <td>0</td>\n",
       "    </tr>\n",
       "    <tr>\n",
       "      <th>2</th>\n",
       "      <td>160095262</td>\n",
       "      <td>OTHER OFFENSES</td>\n",
       "      <td>POSSESSION OF BURGLARY TOOLS</td>\n",
       "      <td>Monday</td>\n",
       "      <td>02/01/2016</td>\n",
       "      <td>23:43</td>\n",
       "      <td>CENTRAL</td>\n",
       "      <td>ARREST, BOOKED</td>\n",
       "      <td>600 Block of LEAVENWORTH ST</td>\n",
       "      <td>-122.414971</td>\n",
       "      <td>37.786987</td>\n",
       "      <td>(37.7869870915274, -122.414971182724)</td>\n",
       "      <td>16009526227130</td>\n",
       "      <td>2</td>\n",
       "      <td>0</td>\n",
       "      <td>0</td>\n",
       "    </tr>\n",
       "    <tr>\n",
       "      <th>3</th>\n",
       "      <td>160095262</td>\n",
       "      <td>STOLEN PROPERTY</td>\n",
       "      <td>STOLEN PROPERTY, POSSESSION WITH KNOWLEDGE, RE...</td>\n",
       "      <td>Monday</td>\n",
       "      <td>02/01/2016</td>\n",
       "      <td>23:43</td>\n",
       "      <td>CENTRAL</td>\n",
       "      <td>ARREST, BOOKED</td>\n",
       "      <td>600 Block of LEAVENWORTH ST</td>\n",
       "      <td>-122.414971</td>\n",
       "      <td>37.786987</td>\n",
       "      <td>(37.7869870915274, -122.414971182724)</td>\n",
       "      <td>16009526211012</td>\n",
       "      <td>2</td>\n",
       "      <td>1</td>\n",
       "      <td>0</td>\n",
       "    </tr>\n",
       "    <tr>\n",
       "      <th>4</th>\n",
       "      <td>160095262</td>\n",
       "      <td>BURGLARY</td>\n",
       "      <td>BURGLARY, VEHICLE (ARREST MADE)</td>\n",
       "      <td>Monday</td>\n",
       "      <td>02/01/2016</td>\n",
       "      <td>23:43</td>\n",
       "      <td>CENTRAL</td>\n",
       "      <td>ARREST, BOOKED</td>\n",
       "      <td>600 Block of LEAVENWORTH ST</td>\n",
       "      <td>-122.414971</td>\n",
       "      <td>37.786987</td>\n",
       "      <td>(37.7869870915274, -122.414971182724)</td>\n",
       "      <td>16009526205014</td>\n",
       "      <td>2</td>\n",
       "      <td>2</td>\n",
       "      <td>0</td>\n",
       "    </tr>\n",
       "  </tbody>\n",
       "</table>\n",
       "</div>"
      ],
      "text/plain": [
       "   IncidntNum         Category  \\\n",
       "0   160095193   OTHER OFFENSES   \n",
       "1   160095171   OTHER OFFENSES   \n",
       "2   160095262   OTHER OFFENSES   \n",
       "3   160095262  STOLEN PROPERTY   \n",
       "4   160095262         BURGLARY   \n",
       "\n",
       "                                            Descript DayOfWeek        Date  \\\n",
       "0              DRIVERS LICENSE, SUSPENDED OR REVOKED    Monday  02/01/2016   \n",
       "1              DRIVERS LICENSE, SUSPENDED OR REVOKED    Monday  02/01/2016   \n",
       "2                       POSSESSION OF BURGLARY TOOLS    Monday  02/01/2016   \n",
       "3  STOLEN PROPERTY, POSSESSION WITH KNOWLEDGE, RE...    Monday  02/01/2016   \n",
       "4                    BURGLARY, VEHICLE (ARREST MADE)    Monday  02/01/2016   \n",
       "\n",
       "    Time  PdDistrict      Resolution                      Address           X  \\\n",
       "0  23:51  TENDERLOIN  ARREST, BOOKED           HYDE ST / GROVE ST -122.414744   \n",
       "1  23:44    SOUTHERN  ARREST, BOOKED          13TH ST / BRYANT ST -122.410931   \n",
       "2  23:43     CENTRAL  ARREST, BOOKED  600 Block of LEAVENWORTH ST -122.414971   \n",
       "3  23:43     CENTRAL  ARREST, BOOKED  600 Block of LEAVENWORTH ST -122.414971   \n",
       "4  23:43     CENTRAL  ARREST, BOOKED  600 Block of LEAVENWORTH ST -122.414971   \n",
       "\n",
       "           Y                               Location            PdId  \\\n",
       "0  37.778719   (37.778719262789, -122.414743835382)  16009519365016   \n",
       "1  37.769411  (37.7694111951212, -122.410931084001)  16009517165016   \n",
       "2  37.786987  (37.7869870915274, -122.414971182724)  16009526227130   \n",
       "3  37.786987  (37.7869870915274, -122.414971182724)  16009526211012   \n",
       "4  37.786987  (37.7869870915274, -122.414971182724)  16009526205014   \n",
       "\n",
       "   PdDistrict_encoded  Category_encoded  DayOfWeek_encoded  \n",
       "0                   0                 0                  0  \n",
       "1                   1                 0                  0  \n",
       "2                   2                 0                  0  \n",
       "3                   2                 1                  0  \n",
       "4                   2                 2                  0  "
      ]
     },
     "execution_count": 3,
     "metadata": {},
     "output_type": "execute_result"
    }
   ],
   "source": [
    "def encode_target(df, target_column):\n",
    "    df_mod = df.copy()\n",
    "    targets = df_mod[target_column].unique()\n",
    "    map_to_int = {name: n for n, name in enumerate(targets)}\n",
    "    df_mod[target_column+\"_encoded\"] = df_mod[target_column].replace(map_to_int)\n",
    "\n",
    "    return (df_mod, targets)\n",
    "\n",
    "data, districts = encode_target(data, 'PdDistrict')\n",
    "data, categories = encode_target(data, 'Category')\n",
    "data, days = encode_target(data, 'DayOfWeek')\n",
    "\n",
    "# sneak peek of data\n",
    "data.head()"
   ]
  },
  {
   "cell_type": "code",
   "execution_count": 4,
   "metadata": {
    "collapsed": false
   },
   "outputs": [],
   "source": [
    "training_data = data.head(int(data.Category.count() * 0.9))\n",
    "test_data = data.tail(int(data.Category.count() * 0.1))"
   ]
  },
  {
   "cell_type": "code",
   "execution_count": 5,
   "metadata": {
    "collapsed": false
   },
   "outputs": [],
   "source": [
    "def train_tree( prediction, features, dataset):\n",
    "    clf = tree.DecisionTreeClassifier()\n",
    "    print \"TRAINING WITH %d SAMPLES\" % len(dataset) \n",
    "    X = np.array(dataset[features])\n",
    "    Y = np.array(list(itertools.chain(*dataset[[prediction]].values)))\n",
    "    return clf.fit(X, Y)\n",
    "\n",
    "def test_tree(clf, test_data, features):\n",
    "    return clf.predict(test_data[features])\n",
    "\n",
    "def convert_encoded_district_to_str(preditions):\n",
    "    return map(lambda p: districts[p], preditions)\n",
    "\n",
    "def test_prediction(clf, test_data, features):\n",
    "    corrects = 0\n",
    "    predictions = test_tree(clf, test_data[features], features)\n",
    "    for i in range(0, len(predictions)):\n",
    "        if predictions[i] == test_data.iloc[i].PdDistrict_encoded:\n",
    "            corrects += 1\n",
    "    print \"FOUND %d CORRECT PREDICTIONS\" % corrects\n",
    "    return corrects / len(predictions)\n",
    "    \n",
    "        "
   ]
  },
  {
   "cell_type": "code",
   "execution_count": 6,
   "metadata": {
    "collapsed": false
   },
   "outputs": [
    {
     "name": "stdout",
     "output_type": "stream",
     "text": [
      "TRAINING WITH 1685385 SAMPLES\n",
      "FOUND 35959 CORRECT PREDICTIONS\n",
      "Prediction accuracy 0.192022\n"
     ]
    }
   ],
   "source": [
    "# The featues we create our model from\n",
    "features = ['Category_encoded']\n",
    "\n",
    "# We train, we are predicting the district\n",
    "clf = train_tree('PdDistrict_encoded', features, training_data)\n",
    "\n",
    "# test prediction accuracy \n",
    "print \"Prediction accuracy %f\" % test_prediction(clf, test_data, features)"
   ]
  },
  {
   "cell_type": "code",
   "execution_count": 7,
   "metadata": {
    "collapsed": false
   },
   "outputs": [
    {
     "name": "stdout",
     "output_type": "stream",
     "text": [
      "TRAINING WITH 154794 SAMPLES\n",
      "FOUND 16097 CORRECT PREDICTIONS\n",
      "Prediction accuracy 0.085958, trained for TENDERLOIN\n",
      "\n"
     ]
    }
   ],
   "source": [
    "for dis in districts[:1]:\n",
    "    clf = train_tree('PdDistrict_encoded', features, training_data[training_data.PdDistrict == dis])\n",
    "    print \"Prediction accuracy %f, trained for %s\\n\" % (test_prediction(clf, test_data, features), dis)"
   ]
  },
  {
   "cell_type": "code",
   "execution_count": 8,
   "metadata": {
    "collapsed": false
   },
   "outputs": [
    {
     "data": {
      "text/plain": [
       "31724"
      ]
     },
     "execution_count": 8,
     "metadata": {},
     "output_type": "execute_result"
    }
   ],
   "source": [
    "# We can see that the prediction can only guess SOUTHN\n",
    "len(test_data[test_data.PdDistrict == 'SOUTHERN'])"
   ]
  },
  {
   "cell_type": "code",
   "execution_count": 12,
   "metadata": {
    "collapsed": false
   },
   "outputs": [
    {
     "name": "stdout",
     "output_type": "stream",
     "text": [
      "TRAINING WITH 1685385 SAMPLES\n",
      "FOUND 35784 CORRECT PREDICTIONS\n",
      "Prediction accuracy 0.191087\n"
     ]
    }
   ],
   "source": [
    "# The featues we create our model from\n",
    "features = ['Category_encoded','DayOfWeek_encoded']\n",
    "\n",
    "# We train, we are predicting the district\n",
    "clf = train_tree('PdDistrict_encoded', features, training_data)\n",
    "\n",
    "# test prediction accuracy \n",
    "print \"Prediction accuracy %f\" % test_prediction(clf, test_data, features)"
   ]
  },
  {
   "cell_type": "code",
   "execution_count": 16,
   "metadata": {
    "collapsed": true
   },
   "outputs": [],
   "source": [
    "with open(\"tree.dot\", 'w') as f:\n",
    "    f = tree.export_graphviz(clf, out_file=f)"
   ]
  },
  {
   "cell_type": "markdown",
   "metadata": {
    "collapsed": false
   },
   "source": [
    "![Desition tree](http://i.imgur.com/6h0wj0W.png)"
   ]
  },
  {
   "cell_type": "code",
   "execution_count": 18,
   "metadata": {
    "collapsed": false
   },
   "outputs": [
    {
     "ename": "error",
     "evalue": "(2, 'RegOpenKeyEx', 'The system cannot find the file specified.')",
     "output_type": "error",
     "traceback": [
      "\u001b[1;31m---------------------------------------------------------------------------\u001b[0m",
      "\u001b[1;31merror\u001b[0m                                     Traceback (most recent call last)",
      "\u001b[1;32m<ipython-input-18-ffee0829ae90>\u001b[0m in \u001b[0;36m<module>\u001b[1;34m()\u001b[0m\n\u001b[0;32m      2\u001b[0m \u001b[0mtree\u001b[0m\u001b[1;33m.\u001b[0m\u001b[0mexport_graphviz\u001b[0m\u001b[1;33m(\u001b[0m\u001b[0mclf\u001b[0m\u001b[1;33m,\u001b[0m \u001b[0mout_file\u001b[0m\u001b[1;33m=\u001b[0m\u001b[0mdot_data\u001b[0m\u001b[1;33m)\u001b[0m\u001b[1;33m\u001b[0m\u001b[0m\n\u001b[0;32m      3\u001b[0m \u001b[0mgraph\u001b[0m \u001b[1;33m=\u001b[0m \u001b[0mpydot\u001b[0m\u001b[1;33m.\u001b[0m\u001b[0mgraph_from_dot_data\u001b[0m\u001b[1;33m(\u001b[0m\u001b[0mdot_data\u001b[0m\u001b[1;33m.\u001b[0m\u001b[0mgetvalue\u001b[0m\u001b[1;33m(\u001b[0m\u001b[1;33m)\u001b[0m\u001b[1;33m)\u001b[0m\u001b[1;33m\u001b[0m\u001b[0m\n\u001b[1;32m----> 4\u001b[1;33m \u001b[0mgraph\u001b[0m\u001b[1;33m.\u001b[0m\u001b[0mwrite_pdf\u001b[0m\u001b[1;33m(\u001b[0m\u001b[1;34m\"iris.pdf\"\u001b[0m\u001b[1;33m)\u001b[0m\u001b[1;33m\u001b[0m\u001b[0m\n\u001b[0m",
      "\u001b[1;32mC:\\Users\\Casper\\Anaconda2\\lib\\site-packages\\pydot.pyc\u001b[0m in \u001b[0;36m<lambda>\u001b[1;34m(path, f, prog)\u001b[0m\n\u001b[0;32m   1600\u001b[0m \u001b[1;33m\u001b[0m\u001b[0m\n\u001b[0;32m   1601\u001b[0m         \u001b[1;32mfor\u001b[0m \u001b[0mfrmt\u001b[0m \u001b[1;32min\u001b[0m \u001b[0mself\u001b[0m\u001b[1;33m.\u001b[0m\u001b[0mformats\u001b[0m\u001b[1;33m+\u001b[0m\u001b[1;33m[\u001b[0m\u001b[1;34m'raw'\u001b[0m\u001b[1;33m]\u001b[0m\u001b[1;33m:\u001b[0m\u001b[1;33m\u001b[0m\u001b[0m\n\u001b[1;32m-> 1602\u001b[1;33m             self.__setattr__(\n\u001b[0m\u001b[0;32m   1603\u001b[0m                 \u001b[1;34m'write_'\u001b[0m\u001b[1;33m+\u001b[0m\u001b[0mfrmt\u001b[0m\u001b[1;33m,\u001b[0m\u001b[1;33m\u001b[0m\u001b[0m\n\u001b[0;32m   1604\u001b[0m                 lambda path, f=frmt, prog=self.prog : self.write(path, format=f, prog=prog))\n",
      "\u001b[1;32mC:\\Users\\Casper\\Anaconda2\\lib\\site-packages\\pydot.pyc\u001b[0m in \u001b[0;36mwrite\u001b[1;34m(self, path, prog, format)\u001b[0m\n\u001b[0;32m   1694\u001b[0m         \u001b[0mdot_fd\u001b[0m \u001b[1;33m=\u001b[0m \u001b[0mfile\u001b[0m\u001b[1;33m(\u001b[0m\u001b[0mpath\u001b[0m\u001b[1;33m,\u001b[0m \u001b[1;34m\"w+b\"\u001b[0m\u001b[1;33m)\u001b[0m\u001b[1;33m\u001b[0m\u001b[0m\n\u001b[0;32m   1695\u001b[0m         \u001b[1;32mif\u001b[0m \u001b[0mformat\u001b[0m \u001b[1;33m==\u001b[0m \u001b[1;34m'raw'\u001b[0m\u001b[1;33m:\u001b[0m\u001b[1;33m\u001b[0m\u001b[0m\n\u001b[1;32m-> 1696\u001b[1;33m             \u001b[0mdot_fd\u001b[0m\u001b[1;33m.\u001b[0m\u001b[0mwrite\u001b[0m\u001b[1;33m(\u001b[0m\u001b[0mself\u001b[0m\u001b[1;33m.\u001b[0m\u001b[0mto_string\u001b[0m\u001b[1;33m(\u001b[0m\u001b[1;33m)\u001b[0m\u001b[1;33m)\u001b[0m\u001b[1;33m\u001b[0m\u001b[0m\n\u001b[0m\u001b[0;32m   1697\u001b[0m         \u001b[1;32melse\u001b[0m\u001b[1;33m:\u001b[0m\u001b[1;33m\u001b[0m\u001b[0m\n\u001b[0;32m   1698\u001b[0m             \u001b[0mdot_fd\u001b[0m\u001b[1;33m.\u001b[0m\u001b[0mwrite\u001b[0m\u001b[1;33m(\u001b[0m\u001b[0mself\u001b[0m\u001b[1;33m.\u001b[0m\u001b[0mcreate\u001b[0m\u001b[1;33m(\u001b[0m\u001b[0mprog\u001b[0m\u001b[1;33m,\u001b[0m \u001b[0mformat\u001b[0m\u001b[1;33m)\u001b[0m\u001b[1;33m)\u001b[0m\u001b[1;33m\u001b[0m\u001b[0m\n",
      "\u001b[1;32mC:\\Users\\Casper\\Anaconda2\\lib\\site-packages\\pydot.pyc\u001b[0m in \u001b[0;36mcreate\u001b[1;34m(self, prog, format)\u001b[0m\n\u001b[0;32m   1722\u001b[0m         \u001b[1;32mif\u001b[0m \u001b[0mprog\u001b[0m \u001b[1;32mis\u001b[0m \u001b[0mNone\u001b[0m\u001b[1;33m:\u001b[0m\u001b[1;33m\u001b[0m\u001b[0m\n\u001b[0;32m   1723\u001b[0m             \u001b[0mprog\u001b[0m \u001b[1;33m=\u001b[0m \u001b[0mself\u001b[0m\u001b[1;33m.\u001b[0m\u001b[0mprog\u001b[0m\u001b[1;33m\u001b[0m\u001b[0m\n\u001b[1;32m-> 1724\u001b[1;33m \u001b[1;33m\u001b[0m\u001b[0m\n\u001b[0m\u001b[0;32m   1725\u001b[0m         \u001b[1;32mif\u001b[0m \u001b[0mself\u001b[0m\u001b[1;33m.\u001b[0m\u001b[0mprogs\u001b[0m \u001b[1;32mis\u001b[0m \u001b[0mNone\u001b[0m\u001b[1;33m:\u001b[0m\u001b[1;33m\u001b[0m\u001b[0m\n\u001b[0;32m   1726\u001b[0m             \u001b[0mself\u001b[0m\u001b[1;33m.\u001b[0m\u001b[0mprogs\u001b[0m \u001b[1;33m=\u001b[0m \u001b[0mfind_graphviz\u001b[0m\u001b[1;33m(\u001b[0m\u001b[1;33m)\u001b[0m\u001b[1;33m\u001b[0m\u001b[0m\n",
      "\u001b[1;32mC:\\Users\\Casper\\Anaconda2\\lib\\site-packages\\pydot.pyc\u001b[0m in \u001b[0;36mfind_graphviz\u001b[1;34m()\u001b[0m\n\u001b[0;32m    407\u001b[0m             \u001b[1;31m#\u001b[0m\u001b[1;33m\u001b[0m\u001b[1;33m\u001b[0m\u001b[0m\n\u001b[0;32m    408\u001b[0m             hkey = win32api.RegOpenKeyEx( win32con.HKEY_LOCAL_MACHINE,\n\u001b[1;32m--> 409\u001b[1;33m                 \"SOFTWARE\\ATT\\Graphviz\", 0, win32con.KEY_QUERY_VALUE )\n\u001b[0m\u001b[0;32m    410\u001b[0m \u001b[1;33m\u001b[0m\u001b[0m\n\u001b[0;32m    411\u001b[0m             \u001b[0mpath\u001b[0m \u001b[1;33m=\u001b[0m \u001b[0mwin32api\u001b[0m\u001b[1;33m.\u001b[0m\u001b[0mRegQueryValueEx\u001b[0m\u001b[1;33m(\u001b[0m \u001b[0mhkey\u001b[0m\u001b[1;33m,\u001b[0m \u001b[1;34m\"InstallPath\"\u001b[0m \u001b[1;33m)\u001b[0m\u001b[1;33m[\u001b[0m\u001b[1;36m0\u001b[0m\u001b[1;33m]\u001b[0m\u001b[1;33m\u001b[0m\u001b[0m\n",
      "\u001b[1;31merror\u001b[0m: (2, 'RegOpenKeyEx', 'The system cannot find the file specified.')"
     ]
    }
   ],
   "source": []
  },
  {
   "cell_type": "code",
   "execution_count": null,
   "metadata": {
    "collapsed": false,
    "scrolled": true
   },
   "outputs": [],
   "source": [
    "for dis in districts:\n",
    "    clf2 = train_tree('PdDistrict_encoded', features, training_data[training_data.PdDistrict == dis])\n",
    "    print \"Prediction accuracy %f, trained for %s\\n\" % (test_prediction(clf2, test_data, features), dis)"
   ]
  },
  {
   "cell_type": "code",
   "execution_count": null,
   "metadata": {
    "collapsed": true
   },
   "outputs": [],
   "source": []
  }
 ],
 "metadata": {
  "kernelspec": {
   "display_name": "Python 2",
   "language": "python",
   "name": "python2"
  },
  "language_info": {
   "codemirror_mode": {
    "name": "ipython",
    "version": 2
   },
   "file_extension": ".py",
   "mimetype": "text/x-python",
   "name": "python",
   "nbconvert_exporter": "python",
   "pygments_lexer": "ipython2",
   "version": "2.7.11"
  }
 },
 "nbformat": 4,
 "nbformat_minor": 0
}
