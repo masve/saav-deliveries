{
 "cells": [
  {
   "cell_type": "markdown",
   "metadata": {},
   "source": [
    "# Weather and Motor Vehicle Collisions"
   ]
  },
  {
   "cell_type": "code",
   "execution_count": null,
   "metadata": {
    "collapsed": true
   },
   "outputs": [],
   "source": [
    "import pandas as pd\n",
    "from datetime import date\n",
    "from dateutil.rrule import rrule, DAILY\n",
    "from __future__ import division\n",
    "\n",
    "pd.set_option('display.max_columns', None)"
   ]
  },
  {
   "cell_type": "markdown",
   "metadata": {},
   "source": [
    "## Download weather data"
   ]
  },
  {
   "cell_type": "code",
   "execution_count": null,
   "metadata": {
    "collapsed": false,
    "scrolled": true
   },
   "outputs": [],
   "source": [
    "start_date = date(2012, 7, 1)\n",
    "end_date = date(2016, 2, 29)\n",
    "\n",
    "# data = pd.DataFrame()\n",
    "frames = []\n",
    "url_template = 'https://www.wunderground.com/history/airport/KNYC/%s/%s/%s/DailyHistory.html?req_city=New+York&req_state=NY&req_statename=New+York&reqdb.zip=10001&reqdb.magic=4&reqdb.wmo=99999&format=1.csv'\n",
    "\n",
    "month = \"\"\n",
    "\n",
    "for dt in rrule(DAILY, dtstart=start_date, until=end_date):\n",
    "    if (month != dt.strftime(\"%m\")):\n",
    "        month = dt.strftime(\"%m\")\n",
    "        print 'Downloading to memory: ' + dt.strftime(\"%Y-%m\")    \n",
    "    frames.append(pd.read_csv(url_template % (dt.strftime(\"%Y\"),dt.strftime(\"%m\"), dt.strftime(\"%d\"))))\n",
    "\n",
    "print \"Saving data to csv...\"\n",
    "data = pd.concat(frames)\n",
    "data.to_csv('weather_data_nyc.csv', sep=',')"
   ]
  },
  {
   "cell_type": "markdown",
   "metadata": {},
   "source": [
    "## Cleaning the weather dataset\n",
    "### Convert weather DateUTC to local time"
   ]
  },
  {
   "cell_type": "code",
   "execution_count": null,
   "metadata": {
    "collapsed": false
   },
   "outputs": [],
   "source": [
    "from datetime import datetime\n",
    "from dateutil import tz\n",
    "\n",
    "weather = pd.read_csv('datasets/weather_data_nyc_clean.csv')\n",
    "\n",
    "def UTCtoActual(utcDate):\n",
    "    from_zone = tz.gettz('UTC')\n",
    "    to_zone = tz.gettz('America/New_York')\n",
    "    \n",
    "    utc = datetime.strptime(utcDate.DateUTC, '%m/%d/%Y %H:%M:%S')\\\n",
    "                  .replace(tzinfo=from_zone)\\\n",
    "                  .astimezone(to_zone)\n",
    "    s = pd.Series([utc.year, utc.month, utc.day, utc.hour])\n",
    "    s.columns = ['Year', 'Month', 'Day', 'Hour']\n",
    "    return s\n",
    "    \n",
    "#weather['DateActual'] = weather.DateUTC.map()"
   ]
  },
  {
   "cell_type": "code",
   "execution_count": null,
   "metadata": {
    "collapsed": false
   },
   "outputs": [],
   "source": [
    "weather[['Year', 'Month', 'Day', 'Hour']] = weather.apply(UTCtoActual, axis=1)\n",
    "weather.to_csv('datasets/weather_data_nyc_clean2.csv')"
   ]
  },
  {
   "cell_type": "markdown",
   "metadata": {},
   "source": [
    "### Merge weather and NYPD MVC datasets"
   ]
  },
  {
   "cell_type": "code",
   "execution_count": null,
   "metadata": {
    "collapsed": false
   },
   "outputs": [],
   "source": [
    "incidents = pd.read_csv('datasets/NYPD_Motor_Vehicle_Collisions.csv')\n",
    "weather = pd.read_csv('datasets/weather_data_nyc_clean2.csv')\n",
    "incidents.head(1)"
   ]
  },
  {
   "cell_type": "code",
   "execution_count": null,
   "metadata": {
    "collapsed": false
   },
   "outputs": [],
   "source": [
    "features0 = ['Conditions', 'TemperatureC']\n",
    "features = ['Conditions', 'Dew PointC', 'Events', \\\n",
    "            'Gust SpeedKm/h', 'Precipitationmm', \\\n",
    "            'TemperatureC', 'VisibilityKm', \\\n",
    "            'Wind SpeedKm/h', 'WindDirDegrees']\n",
    "\n",
    "def lookup_weather2(year, month, day, hour):\n",
    "    w = weather[(weather.Year == year) & (weather.Month == month) & (weather.Day == day) & (weather.Hour == hour)]\n",
    "    return w\n",
    "\n",
    "def lookup_weather(date, time):\n",
    "    month = date.split('/')[0]\n",
    "    day = date.split('/')[1]\n",
    "    year = date.split('/')[2]\n",
    "    hour = time.split(':')[0]\n",
    "    return lookup_weather2(int(year), int(month), int(day), int(hour)).head(1)\n",
    "\n",
    "def merge_weather(incident):\n",
    "    date = incident.DATE\n",
    "    time = incident.TIME\n",
    "    \n",
    "    w = lookup_weather(date, time)\n",
    "    \n",
    "    \n",
    "    s = pd.Series([w['Conditions'], w['Dew PointC'], w['Events'], \\\n",
    "                   w['Gust SpeedKm/h'], w['Precipitationmm'], w['TemperatureC'], \\\n",
    "                   w['TemperatureC'], w['VisibilityKm'], w['Wind SpeedKm/h'], w['WindDirDegrees']])\n",
    "    s.columns = features\n",
    "    \n",
    "    return s\n",
    "\n",
    "#lookup_weather2(2016, 2, 14, 7)\n",
    "lookup_weather('01/27/2015', '3:27')"
   ]
  },
  {
   "cell_type": "code",
   "execution_count": null,
   "metadata": {
    "collapsed": false
   },
   "outputs": [],
   "source": [
    "incidents[features] = incidents.apply(merge_weather, axis=1)\n",
    "incidents.head()\n",
    "incidents.to_csv('datasets/NYPD_Motor_Vehicle_Collisions_weather.csv', sep=',')"
   ]
  },
  {
   "cell_type": "markdown",
   "metadata": {},
   "source": [
    "## Make some nice data analysis"
   ]
  },
  {
   "cell_type": "code",
   "execution_count": null,
   "metadata": {
    "collapsed": true
   },
   "outputs": [],
   "source": [
    "incidents = pd.read_csv('datasets/NYPD_Motor_Vehicle_Collisions.csv')\n",
    "weather = pd.read_csv('datasets/weather_data_nyc_clean2.csv')"
   ]
  },
  {
   "cell_type": "code",
   "execution_count": null,
   "metadata": {
    "collapsed": false
   },
   "outputs": [],
   "source": [
    "weather.Conditions.unique()"
   ]
  },
  {
   "cell_type": "code",
   "execution_count": null,
   "metadata": {
    "collapsed": true
   },
   "outputs": [],
   "source": []
  }
 ],
 "metadata": {
  "kernelspec": {
   "display_name": "Python 2",
   "language": "python",
   "name": "python2"
  },
  "language_info": {
   "codemirror_mode": {
    "name": "ipython",
    "version": 2
   },
   "file_extension": ".py",
   "mimetype": "text/x-python",
   "name": "python",
   "nbconvert_exporter": "python",
   "pygments_lexer": "ipython2",
   "version": "2.7.11"
  }
 },
 "nbformat": 4,
 "nbformat_minor": 0
}
