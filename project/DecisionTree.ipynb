{
 "cells": [
  {
   "cell_type": "code",
   "execution_count": 3,
   "metadata": {
    "collapsed": true
   },
   "outputs": [],
   "source": [
    "import numpy as np\n",
    "import pandas as pd\n",
    "import itertools\n",
    "from __future__ import division\n",
    "from sklearn.tree import tree, DecisionTreeClassifier, export_graphviz\n",
    "from sklearn import cluster\n",
    "\n",
    "%matplotlib inline\n",
    "pd.set_option(\"display.max_columns\", 500)\n",
    "pd.set_option(\"max_rows\", 1000)"
   ]
  },
  {
   "cell_type": "code",
   "execution_count": 59,
   "metadata": {
    "collapsed": false
   },
   "outputs": [
    {
     "data": {
      "text/html": [
       "<div>\n",
       "<table border=\"1\" class=\"dataframe\">\n",
       "  <thead>\n",
       "    <tr style=\"text-align: right;\">\n",
       "      <th></th>\n",
       "      <th>Unnamed: 0</th>\n",
       "      <th>DATE</th>\n",
       "      <th>TIME</th>\n",
       "      <th>BOROUGH</th>\n",
       "      <th>ZIP CODE</th>\n",
       "      <th>LATITUDE</th>\n",
       "      <th>LONGITUDE</th>\n",
       "      <th>LOCATION</th>\n",
       "      <th>ON STREET NAME</th>\n",
       "      <th>CROSS STREET NAME</th>\n",
       "      <th>OFF STREET NAME</th>\n",
       "      <th>NUMBER OF PERSONS INJURED</th>\n",
       "      <th>NUMBER OF PERSONS KILLED</th>\n",
       "      <th>NUMBER OF PEDESTRIANS INJURED</th>\n",
       "      <th>NUMBER OF PEDESTRIANS KILLED</th>\n",
       "      <th>NUMBER OF CYCLIST INJURED</th>\n",
       "      <th>NUMBER OF CYCLIST KILLED</th>\n",
       "      <th>NUMBER OF MOTORIST INJURED</th>\n",
       "      <th>NUMBER OF MOTORIST KILLED</th>\n",
       "      <th>CONTRIBUTING FACTOR VEHICLE 1</th>\n",
       "      <th>CONTRIBUTING FACTOR VEHICLE 2</th>\n",
       "      <th>CONTRIBUTING FACTOR VEHICLE 3</th>\n",
       "      <th>CONTRIBUTING FACTOR VEHICLE 4</th>\n",
       "      <th>CONTRIBUTING FACTOR VEHICLE 5</th>\n",
       "      <th>UNIQUE KEY</th>\n",
       "      <th>VEHICLE TYPE CODE 1</th>\n",
       "      <th>VEHICLE TYPE CODE 2</th>\n",
       "      <th>VEHICLE TYPE CODE 3</th>\n",
       "      <th>VEHICLE TYPE CODE 4</th>\n",
       "      <th>VEHICLE TYPE CODE 5</th>\n",
       "      <th>Conditions</th>\n",
       "      <th>Precipitationmm</th>\n",
       "      <th>TemperatureC</th>\n",
       "      <th>VisibilityKm</th>\n",
       "      <th>HOUR</th>\n",
       "      <th>MONTH</th>\n",
       "    </tr>\n",
       "  </thead>\n",
       "  <tbody>\n",
       "    <tr>\n",
       "      <th>0</th>\n",
       "      <td>0</td>\n",
       "      <td>03/14/2016</td>\n",
       "      <td>3:27</td>\n",
       "      <td>QUEENS</td>\n",
       "      <td>11372</td>\n",
       "      <td>40.747734</td>\n",
       "      <td>-73.882999</td>\n",
       "      <td>(40.7477341, -73.8829986)</td>\n",
       "      <td>ROOSEVELT AVENUE</td>\n",
       "      <td>83 STREET</td>\n",
       "      <td>NaN</td>\n",
       "      <td>1</td>\n",
       "      <td>0</td>\n",
       "      <td>1</td>\n",
       "      <td>0</td>\n",
       "      <td>0</td>\n",
       "      <td>0</td>\n",
       "      <td>0</td>\n",
       "      <td>0</td>\n",
       "      <td>Unspecified</td>\n",
       "      <td>NaN</td>\n",
       "      <td>NaN</td>\n",
       "      <td>NaN</td>\n",
       "      <td>NaN</td>\n",
       "      <td>3405169</td>\n",
       "      <td>OTHER</td>\n",
       "      <td>NaN</td>\n",
       "      <td>NaN</td>\n",
       "      <td>NaN</td>\n",
       "      <td>NaN</td>\n",
       "      <td>NaN</td>\n",
       "      <td>NaN</td>\n",
       "      <td>NaN</td>\n",
       "      <td>NaN</td>\n",
       "      <td>3</td>\n",
       "      <td>03</td>\n",
       "    </tr>\n",
       "    <tr>\n",
       "      <th>3</th>\n",
       "      <td>3</td>\n",
       "      <td>03/14/2016</td>\n",
       "      <td>0:45</td>\n",
       "      <td>MANHATTAN</td>\n",
       "      <td>10035</td>\n",
       "      <td>40.808279</td>\n",
       "      <td>-73.938793</td>\n",
       "      <td>(40.8082795, -73.9387929)</td>\n",
       "      <td>EAST 129 STREET</td>\n",
       "      <td>MADISON AVENUE</td>\n",
       "      <td>NaN</td>\n",
       "      <td>0</td>\n",
       "      <td>0</td>\n",
       "      <td>0</td>\n",
       "      <td>0</td>\n",
       "      <td>0</td>\n",
       "      <td>0</td>\n",
       "      <td>0</td>\n",
       "      <td>0</td>\n",
       "      <td>Unspecified</td>\n",
       "      <td>Unspecified</td>\n",
       "      <td>NaN</td>\n",
       "      <td>NaN</td>\n",
       "      <td>NaN</td>\n",
       "      <td>3405059</td>\n",
       "      <td>PASSENGER VEHICLE</td>\n",
       "      <td>PASSENGER VEHICLE</td>\n",
       "      <td>NaN</td>\n",
       "      <td>NaN</td>\n",
       "      <td>NaN</td>\n",
       "      <td>NaN</td>\n",
       "      <td>NaN</td>\n",
       "      <td>NaN</td>\n",
       "      <td>NaN</td>\n",
       "      <td>0</td>\n",
       "      <td>03</td>\n",
       "    </tr>\n",
       "    <tr>\n",
       "      <th>4</th>\n",
       "      <td>4</td>\n",
       "      <td>03/13/2016</td>\n",
       "      <td>23:00</td>\n",
       "      <td>BROOKLYN</td>\n",
       "      <td>11206</td>\n",
       "      <td>40.706653</td>\n",
       "      <td>-73.950406</td>\n",
       "      <td>(40.7066527, -73.9504063)</td>\n",
       "      <td>UNION AVENUE</td>\n",
       "      <td>MONTROSE AVENUE</td>\n",
       "      <td>NaN</td>\n",
       "      <td>0</td>\n",
       "      <td>0</td>\n",
       "      <td>0</td>\n",
       "      <td>0</td>\n",
       "      <td>0</td>\n",
       "      <td>0</td>\n",
       "      <td>0</td>\n",
       "      <td>0</td>\n",
       "      <td>Driver Inattention/Distraction</td>\n",
       "      <td>Unspecified</td>\n",
       "      <td>NaN</td>\n",
       "      <td>NaN</td>\n",
       "      <td>NaN</td>\n",
       "      <td>3405121</td>\n",
       "      <td>PASSENGER VEHICLE</td>\n",
       "      <td>PASSENGER VEHICLE</td>\n",
       "      <td>NaN</td>\n",
       "      <td>NaN</td>\n",
       "      <td>NaN</td>\n",
       "      <td>NaN</td>\n",
       "      <td>NaN</td>\n",
       "      <td>NaN</td>\n",
       "      <td>NaN</td>\n",
       "      <td>23</td>\n",
       "      <td>03</td>\n",
       "    </tr>\n",
       "    <tr>\n",
       "      <th>6</th>\n",
       "      <td>6</td>\n",
       "      <td>03/13/2016</td>\n",
       "      <td>9:48</td>\n",
       "      <td>BROOKLYN</td>\n",
       "      <td>11212</td>\n",
       "      <td>40.661997</td>\n",
       "      <td>-73.919593</td>\n",
       "      <td>(40.661997, -73.9195931)</td>\n",
       "      <td>KINGS HIGHWAY</td>\n",
       "      <td>EAST 98 STREET</td>\n",
       "      <td>NaN</td>\n",
       "      <td>0</td>\n",
       "      <td>0</td>\n",
       "      <td>0</td>\n",
       "      <td>0</td>\n",
       "      <td>0</td>\n",
       "      <td>0</td>\n",
       "      <td>0</td>\n",
       "      <td>0</td>\n",
       "      <td>Passenger Distraction</td>\n",
       "      <td>Unspecified</td>\n",
       "      <td>NaN</td>\n",
       "      <td>NaN</td>\n",
       "      <td>NaN</td>\n",
       "      <td>3404744</td>\n",
       "      <td>PASSENGER VEHICLE</td>\n",
       "      <td>UNKNOWN</td>\n",
       "      <td>NaN</td>\n",
       "      <td>NaN</td>\n",
       "      <td>NaN</td>\n",
       "      <td>NaN</td>\n",
       "      <td>NaN</td>\n",
       "      <td>NaN</td>\n",
       "      <td>NaN</td>\n",
       "      <td>9</td>\n",
       "      <td>03</td>\n",
       "    </tr>\n",
       "    <tr>\n",
       "      <th>9</th>\n",
       "      <td>9</td>\n",
       "      <td>03/13/2016</td>\n",
       "      <td>9:46</td>\n",
       "      <td>QUEENS</td>\n",
       "      <td>11106</td>\n",
       "      <td>40.756580</td>\n",
       "      <td>-73.929752</td>\n",
       "      <td>(40.75658, -73.9297516)</td>\n",
       "      <td>36 AVENUE</td>\n",
       "      <td>31 STREET</td>\n",
       "      <td>NaN</td>\n",
       "      <td>0</td>\n",
       "      <td>0</td>\n",
       "      <td>0</td>\n",
       "      <td>0</td>\n",
       "      <td>0</td>\n",
       "      <td>0</td>\n",
       "      <td>0</td>\n",
       "      <td>0</td>\n",
       "      <td>Failure to Yield Right-of-Way</td>\n",
       "      <td>Unspecified</td>\n",
       "      <td>NaN</td>\n",
       "      <td>NaN</td>\n",
       "      <td>NaN</td>\n",
       "      <td>3404995</td>\n",
       "      <td>LIVERY VEHICLE</td>\n",
       "      <td>PASSENGER VEHICLE</td>\n",
       "      <td>NaN</td>\n",
       "      <td>NaN</td>\n",
       "      <td>NaN</td>\n",
       "      <td>NaN</td>\n",
       "      <td>NaN</td>\n",
       "      <td>NaN</td>\n",
       "      <td>NaN</td>\n",
       "      <td>9</td>\n",
       "      <td>03</td>\n",
       "    </tr>\n",
       "  </tbody>\n",
       "</table>\n",
       "</div>"
      ],
      "text/plain": [
       "   Unnamed: 0        DATE   TIME    BOROUGH  ZIP CODE   LATITUDE  LONGITUDE  \\\n",
       "0           0  03/14/2016   3:27     QUEENS     11372  40.747734 -73.882999   \n",
       "3           3  03/14/2016   0:45  MANHATTAN     10035  40.808279 -73.938793   \n",
       "4           4  03/13/2016  23:00   BROOKLYN     11206  40.706653 -73.950406   \n",
       "6           6  03/13/2016   9:48   BROOKLYN     11212  40.661997 -73.919593   \n",
       "9           9  03/13/2016   9:46     QUEENS     11106  40.756580 -73.929752   \n",
       "\n",
       "                    LOCATION    ON STREET NAME CROSS STREET NAME  \\\n",
       "0  (40.7477341, -73.8829986)  ROOSEVELT AVENUE         83 STREET   \n",
       "3  (40.8082795, -73.9387929)   EAST 129 STREET    MADISON AVENUE   \n",
       "4  (40.7066527, -73.9504063)      UNION AVENUE   MONTROSE AVENUE   \n",
       "6   (40.661997, -73.9195931)     KINGS HIGHWAY    EAST 98 STREET   \n",
       "9    (40.75658, -73.9297516)         36 AVENUE         31 STREET   \n",
       "\n",
       "  OFF STREET NAME  NUMBER OF PERSONS INJURED  NUMBER OF PERSONS KILLED  \\\n",
       "0             NaN                          1                         0   \n",
       "3             NaN                          0                         0   \n",
       "4             NaN                          0                         0   \n",
       "6             NaN                          0                         0   \n",
       "9             NaN                          0                         0   \n",
       "\n",
       "   NUMBER OF PEDESTRIANS INJURED  NUMBER OF PEDESTRIANS KILLED  \\\n",
       "0                              1                             0   \n",
       "3                              0                             0   \n",
       "4                              0                             0   \n",
       "6                              0                             0   \n",
       "9                              0                             0   \n",
       "\n",
       "   NUMBER OF CYCLIST INJURED  NUMBER OF CYCLIST KILLED  \\\n",
       "0                          0                         0   \n",
       "3                          0                         0   \n",
       "4                          0                         0   \n",
       "6                          0                         0   \n",
       "9                          0                         0   \n",
       "\n",
       "   NUMBER OF MOTORIST INJURED  NUMBER OF MOTORIST KILLED  \\\n",
       "0                           0                          0   \n",
       "3                           0                          0   \n",
       "4                           0                          0   \n",
       "6                           0                          0   \n",
       "9                           0                          0   \n",
       "\n",
       "    CONTRIBUTING FACTOR VEHICLE 1 CONTRIBUTING FACTOR VEHICLE 2  \\\n",
       "0                     Unspecified                           NaN   \n",
       "3                     Unspecified                   Unspecified   \n",
       "4  Driver Inattention/Distraction                   Unspecified   \n",
       "6           Passenger Distraction                   Unspecified   \n",
       "9   Failure to Yield Right-of-Way                   Unspecified   \n",
       "\n",
       "  CONTRIBUTING FACTOR VEHICLE 3 CONTRIBUTING FACTOR VEHICLE 4  \\\n",
       "0                           NaN                           NaN   \n",
       "3                           NaN                           NaN   \n",
       "4                           NaN                           NaN   \n",
       "6                           NaN                           NaN   \n",
       "9                           NaN                           NaN   \n",
       "\n",
       "  CONTRIBUTING FACTOR VEHICLE 5  UNIQUE KEY VEHICLE TYPE CODE 1  \\\n",
       "0                           NaN     3405169               OTHER   \n",
       "3                           NaN     3405059   PASSENGER VEHICLE   \n",
       "4                           NaN     3405121   PASSENGER VEHICLE   \n",
       "6                           NaN     3404744   PASSENGER VEHICLE   \n",
       "9                           NaN     3404995      LIVERY VEHICLE   \n",
       "\n",
       "  VEHICLE TYPE CODE 2 VEHICLE TYPE CODE 3 VEHICLE TYPE CODE 4  \\\n",
       "0                 NaN                 NaN                 NaN   \n",
       "3   PASSENGER VEHICLE                 NaN                 NaN   \n",
       "4   PASSENGER VEHICLE                 NaN                 NaN   \n",
       "6             UNKNOWN                 NaN                 NaN   \n",
       "9   PASSENGER VEHICLE                 NaN                 NaN   \n",
       "\n",
       "  VEHICLE TYPE CODE 5 Conditions Precipitationmm  TemperatureC  VisibilityKm  \\\n",
       "0                 NaN        NaN             NaN           NaN           NaN   \n",
       "3                 NaN        NaN             NaN           NaN           NaN   \n",
       "4                 NaN        NaN             NaN           NaN           NaN   \n",
       "6                 NaN        NaN             NaN           NaN           NaN   \n",
       "9                 NaN        NaN             NaN           NaN           NaN   \n",
       "\n",
       "  HOUR MONTH  \n",
       "0    3    03  \n",
       "3    0    03  \n",
       "4   23    03  \n",
       "6    9    03  \n",
       "9    9    03  "
      ]
     },
     "execution_count": 59,
     "metadata": {},
     "output_type": "execute_result"
    }
   ],
   "source": [
    "filePath = 'datasets/NYPD_Motor_Vehicle_Collisions_weather4.csv'\n",
    "colls = pd.read_csv(filePath)\n",
    "# colls = colls[(colls['VEHICLE TYPE CODE 1'] == 'TAXI') | \\\n",
    "#              (colls['VEHICLE TYPE CODE 2'] == 'TAXI') | \\\n",
    "#              (colls['VEHICLE TYPE CODE 3'] == 'TAXI') | \\\n",
    "#              (colls['VEHICLE TYPE CODE 4'] == 'TAXI') | \\\n",
    "#              (colls['VEHICLE TYPE CODE 5'] == 'TAXI')]\n",
    "\n",
    "# colls = colls[colls['CONTRIBUTING FACTOR VEHICLE 1'] != 'Unspecified']\n",
    "colls = colls[pd.notnull(colls['LOCATION'])]\n",
    "\n",
    "colls['HOUR'] = colls.TIME.str.split(':').str.get(0)\n",
    "colls['MONTH'] = colls.DATE.str.split('/').str.get(0)\n",
    "\n",
    "colls = colls[pd.notnull(colls['HOUR'])]\n",
    "\n",
    "colls.head()"
   ]
  },
  {
   "cell_type": "code",
   "execution_count": 60,
   "metadata": {
    "collapsed": false
   },
   "outputs": [
    {
     "data": {
      "text/plain": [
       "647867"
      ]
     },
     "execution_count": 60,
     "metadata": {},
     "output_type": "execute_result"
    }
   ],
   "source": [
    "len(colls)"
   ]
  },
  {
   "cell_type": "code",
   "execution_count": 66,
   "metadata": {
    "collapsed": false
   },
   "outputs": [],
   "source": [
    "from sklearn.ensemble import RandomForestClassifier\n",
    "def encode_column(df, target_column):\n",
    "#     print \"copying dataset\"\n",
    "    df_mod = df.copy()\n",
    "#     print \"finding uniques\"\n",
    "    targets = pd.Series(df_mod[target_column].unique())\n",
    "#     print \"mapping to ints\"\n",
    "    map_to_int = {name: n for n, name in enumerate(targets)}\n",
    "    df_mod[target_column+\"_encoded\"] = df_mod[target_column].replace(map_to_int)\n",
    "    return (df_mod, targets)\n",
    "\n",
    "def train_tree(prediction, features, dataset):\n",
    "    clf = RandomForestClassifier(n_estimators=50, n_jobs=4)\n",
    "    print \"TRAINING WITH %d SAMPLES\" % len(dataset) \n",
    "    X = np.array(dataset[features])\n",
    "    Y = np.array(list(itertools.chain(*dataset[[prediction]].values)))\n",
    "    return clf.fit(X, Y)\n",
    "\n",
    "# Test forest\n",
    "def test_tree(clf, test_data, features):\n",
    "    return clf.predict(test_data[features])\n",
    "\n",
    "# Tests test_data on the forest classifier clf with features and target_label.\n",
    "# encoded_map is a lookup table of the encoded values (numeric) to actual string values\n",
    "def test_prediction(target_label, clf, test_data, features, encoded_map):\n",
    "    corrects = 0\n",
    "    predictions = test_tree(clf, test_data[features], features)\n",
    "    for i in range(0, len(predictions)):\n",
    "        if predictions[i] == test_data.iloc[i][target_label]:\n",
    "            corrects += 1\n",
    "    print \"FOUND %d CORRECT PREDICTIONS\" % corrects\n",
    "    # Return model accuracy [%]\n",
    "    return corrects / len(predictions)\n",
    "\n",
    "def convert_encoded_district_to_str(preditions):\n",
    "    return map(lambda p: districts[p], preditions)\n",
    "\n",
    "def kmeans(k, dataset, colums):\n",
    "    md = cluster.KMeans(n_clusters=k).fit(dataset[colums])\n",
    "    return md.predict(dataset[colums]),md.cluster_centers_"
   ]
  },
  {
   "cell_type": "code",
   "execution_count": 61,
   "metadata": {
    "collapsed": false,
    "scrolled": false
   },
   "outputs": [],
   "source": [
    "target_label = 'ZIP CODE'\n",
    "\n",
    "data = colls[pd.notnull(colls[target_label])]\n",
    "\n",
    "# Encoding target/label column\n",
    "# mdata, target = encode_column(data, 'ZIP CODE')\n",
    "mdata, target = encode_column(data, target_label)\n",
    "\n",
    "# Encode the feature columns\n",
    "mdata, _ = encode_column(mdata, 'BOROUGH')\n",
    "# mdata, _ = encode_column(mdata, 'CONTRIBUTING FACTOR VEHICLE 1')\n",
    "# mdata, _ = encode_column(mdata, 'VEHICLE TYPE CODE 1')\n",
    "mdata, _ = encode_column(mdata, 'Conditions')\n",
    "\n",
    "# KNN\n",
    "s, cen = knn(30, mdata, ['LONGITUDE', 'LATITUDE'])\n",
    "mdata['KMEANS'] = s\n",
    "\n",
    "\n",
    "# Splitting date and time into month and hour\n",
    "# mdata['HOUR'] = data.TIME.str.split(':').str.get(0)\n",
    "# mdata['MONTH'] = data.DATE.str.split('/').str.get(1)"
   ]
  },
  {
   "cell_type": "code",
   "execution_count": 67,
   "metadata": {
    "collapsed": false
   },
   "outputs": [
    {
     "name": "stdout",
     "output_type": "stream",
     "text": [
      "TRAINING WITH 467746 SAMPLES\n",
      "FOUND 28754 CORRECT PREDICTIONS\n",
      "Prediction accuracy 0.245895\n"
     ]
    }
   ],
   "source": [
    "# Features for prediction\n",
    "features = ['KMEANS','Conditions_encoded','HOUR']\n",
    "\n",
    "# Split data set into training and test data\n",
    "train_data = mdata.head(int(mdata.BOROUGH.count() * 0.80))\n",
    "test_data = mdata.tail(int(mdata.BOROUGH.count() * 0.20))\n",
    "\n",
    "target_label_encoded = target_label+'_encoded'\n",
    "\n",
    "# Train the decision tree\n",
    "clf = train_tree(target_label_encoded, features, train_data)\n",
    "\n",
    "# Test the decision tree\n",
    "print \"Prediction accuracy %f\" % test_prediction(target_label_encoded, clf, test_data, features, target)"
   ]
  },
  {
   "cell_type": "code",
   "execution_count": 87,
   "metadata": {
    "collapsed": false
   },
   "outputs": [
    {
     "name": "stdout",
     "output_type": "stream",
     "text": [
      "Accuracy: 0.25 (+/- 0.00)\n"
     ]
    }
   ],
   "source": [
    "from sklearn.cross_validation import cross_val_score\n",
    "scores = cross_val_score(clf, mdata[features].values, mdata[target_label_encoded].values, cv=5)\n",
    "print(\"Accuracy: %0.2f (+/- %0.2f)\" % (scores.mean(), scores.std() * 2))"
   ]
  },
  {
   "cell_type": "code",
   "execution_count": 88,
   "metadata": {
    "collapsed": false
   },
   "outputs": [
    {
     "name": "stdout",
     "output_type": "stream",
     "text": [
      "Accuracy: 0.246 (+/- 0.004)\n"
     ]
    }
   ],
   "source": [
    "print(\"Accuracy: %0.3f (+/- %0.3f)\" % (scores.mean(), scores.std() * 2))"
   ]
  },
  {
   "cell_type": "code",
   "execution_count": null,
   "metadata": {
    "collapsed": false
   },
   "outputs": [],
   "source": [
    "from sklearn import tree\n",
    "from sklearn.externals.six import StringIO  \n",
    "import pydot \n",
    "\n",
    "from IPython.display import Image\n",
    "\n",
    "dot_data = StringIO()  \n",
    "tree.export_graphviz(clf, out_file=dot_data, feature_names=features,\n",
    "                         filled=True, rounded=True,  \n",
    "                         special_characters=True)  \n",
    "graph = pydot.graph_from_dot_data(dot_data.getvalue())\n",
    "# Image(graph.create_png())\n"
   ]
  },
  {
   "cell_type": "code",
   "execution_count": 30,
   "metadata": {
    "collapsed": false
   },
   "outputs": [
    {
     "name": "stdout",
     "output_type": "stream",
     "text": [
      "May 10 11:29:20  dot[90813] <Error>: The function ‘CGFontGetGlyphPath’ is obsolete and will be removed in an upcoming update. Unfortunately, this application, or a library it uses, is using this obsolete function, and is thereby contributing to an overall degradation of system performance.\n",
      "May 10 11:29:20  dot[90813] <Error>: The function ‘CGFontGetGlyphPaths’ is obsolete and will be removed in an upcoming update. Unfortunately, this application, or a library it uses, is using this obsolete function, and is thereby contributing to an overall degradation of system performance.\n",
      "\n"
     ]
    }
   ],
   "source": [
    "with open('datasets/tree.pdf', 'w') as f:\n",
    "    f.write(graph.create_pdf())"
   ]
  },
  {
   "cell_type": "code",
   "execution_count": 168,
   "metadata": {
    "collapsed": false
   },
   "outputs": [
    {
     "name": "stdout",
     "output_type": "stream",
     "text": [
      "17546\n",
      "267843\n"
     ]
    }
   ],
   "source": [
    "nan = colls[pd.isnull(colls.TemperatureC)]\n",
    "print len(nan)\n",
    "print len(colls)"
   ]
  },
  {
   "cell_type": "markdown",
   "metadata": {},
   "source": [
    "# Decision Tree Log\n",
    "## Finding ZIP CODE with HOUR, MONTH, BOROUGH\n",
    "- TRAINING WITH 438514 SAMPLES\n",
    "- FOUND 7884 CORRECT PREDICTIONS\n",
    "- Prediction accuracy 0.053937\n",
    "## Finding ZIP CODE with HOUR, MONTH, BOROUGH, CFV1, VTC1\n",
    "- TRAINING WITH 526217 SAMPLES\n",
    "- FOUND 3243 CORRECT PREDICTIONS\n",
    "- Prediction accuracy 0.055466\n",
    "## Finding VTC1 with HOUR, MONTH, BOROUGH, CFV1\n",
    "- TRAINING WITH 438514 SAMPLES\n",
    "- FOUND 77135 CORRECT PREDICTIONS\n",
    "- Prediction accuracy 0.527704"
   ]
  },
  {
   "cell_type": "code",
   "execution_count": null,
   "metadata": {
    "collapsed": false,
    "scrolled": true
   },
   "outputs": [],
   "source": [
    "colls[colls['DATE'] == \"03/08/2015\"].head(1000).sort_values(by='TIME')"
   ]
  },
  {
   "cell_type": "code",
   "execution_count": null,
   "metadata": {
    "collapsed": true
   },
   "outputs": [],
   "source": []
  }
 ],
 "metadata": {
  "kernelspec": {
   "display_name": "Python 2",
   "language": "python",
   "name": "python2"
  },
  "language_info": {
   "codemirror_mode": {
    "name": "ipython",
    "version": 2
   },
   "file_extension": ".py",
   "mimetype": "text/x-python",
   "name": "python",
   "nbconvert_exporter": "python",
   "pygments_lexer": "ipython2",
   "version": "2.7.11"
  }
 },
 "nbformat": 4,
 "nbformat_minor": 0
}
