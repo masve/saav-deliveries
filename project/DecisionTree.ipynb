{
 "cells": [
  {
   "cell_type": "code",
   "execution_count": 1,
   "metadata": {
    "collapsed": true
   },
   "outputs": [],
   "source": [
    "import numpy as np\n",
    "import pandas as pd\n",
    "import itertools\n",
    "from __future__ import division\n",
    "from sklearn.tree import tree, DecisionTreeClassifier, export_graphviz\n",
    "\n",
    "%matplotlib inline\n",
    "pd.set_option(\"display.max_columns\", 500)\n",
    "pd.set_option(\"max_rows\", 1000)"
   ]
  },
  {
   "cell_type": "code",
   "execution_count": 2,
   "metadata": {
    "collapsed": true
   },
   "outputs": [],
   "source": [
    "filePath = 'datasets/NYPD_Motor_Vehicle_Collisions.csv'\n",
    "colls = pd.read_csv(filePath)"
   ]
  },
  {
   "cell_type": "code",
   "execution_count": 8,
   "metadata": {
    "collapsed": false
   },
   "outputs": [],
   "source": [
    "def encode_column(df, target_column):\n",
    "#     print \"copying dataset\"\n",
    "    df_mod = df.copy()\n",
    "#     print \"finding uniques\"\n",
    "    targets = pd.Series(df_mod[target_column].unique())\n",
    "#     print \"mapping to ints\"\n",
    "    map_to_int = {name: n for n, name in enumerate(targets)}\n",
    "#     print \"replacing in data set\"\n",
    "    df_mod[target_column+\"_encoded\"] = df_mod[target_column].replace(map_to_int)\n",
    "#     df_mod[target_column+\"_encoded\"] = df_mod[target_column].replace(targets[targets == target_column])\n",
    "    return (df_mod, targets)\n",
    "\n",
    "def train_tree(prediction, features, dataset):\n",
    "    clf = tree.DecisionTreeClassifier()\n",
    "    print \"TRAINING WITH %d SAMPLES\" % len(dataset) \n",
    "    X = np.array(dataset[features])\n",
    "    Y = np.array(list(itertools.chain(*dataset[[prediction]].values)))\n",
    "    return clf.fit(X, Y)\n",
    "\n",
    "def test_tree(clf, test_data, features):\n",
    "    return clf.predict(test_data[features])\n",
    "\n",
    "def convert_encoded_district_to_str(preditions):\n",
    "    return map(lambda p: districts[p], preditions)\n",
    "\n",
    "def test_prediction(target_label, clf, test_data, features, encoded_map):\n",
    "    corrects = 0\n",
    "    predictions = test_tree(clf, test_data[features], features)\n",
    "    for i in range(0, len(predictions)):\n",
    "        if predictions[i] == test_data.iloc[i][target_label]:\n",
    "            corrects += 1\n",
    "    print \"FOUND %d CORRECT PREDICTIONS\" % corrects\n",
    "    return corrects / len(predictions)"
   ]
  },
  {
   "cell_type": "code",
   "execution_count": 9,
   "metadata": {
    "collapsed": false,
    "scrolled": false
   },
   "outputs": [
    {
     "name": "stdout",
     "output_type": "stream",
     "text": [
      "copying dataset\n",
      "finding uniques\n",
      "mapping to ints\n",
      "replacing in data set\n",
      "copying dataset\n",
      "finding uniques\n",
      "mapping to ints\n",
      "replacing in data set\n",
      "copying dataset\n",
      "finding uniques\n",
      "mapping to ints\n",
      "replacing in data set\n",
      "copying dataset\n",
      "finding uniques\n",
      "mapping to ints\n",
      "replacing in data set\n"
     ]
    }
   ],
   "source": [
    "target_label = 'ZIP CODE'\n",
    "\n",
    "data = colls[pd.notnull(colls[target_label])]\n",
    "\n",
    "# Encoding target/label column\n",
    "# mdata, target = encode_column(data, 'ZIP CODE')\n",
    "mdata, target = encode_column(data, target_label)\n",
    "\n",
    "# Encode the feature columns\n",
    "mdata, _ = encode_column(mdata, 'BOROUGH')\n",
    "mdata, _ = encode_column(mdata, 'CONTRIBUTING FACTOR VEHICLE 1')\n",
    "mdata, _ = encode_column(mdata, 'VEHICLE TYPE CODE 1')\n",
    "\n",
    "\n",
    "# Splitting date and time into month and hour\n",
    "mdata['HOUR'] = data.TIME.str.split(':').str.get(0)\n",
    "mdata['MONTH'] = data.DATE.str.split('/').str.get(1)"
   ]
  },
  {
   "cell_type": "code",
   "execution_count": 10,
   "metadata": {
    "collapsed": false
   },
   "outputs": [
    {
     "name": "stdout",
     "output_type": "stream",
     "text": [
      "TRAINING WITH 438514 SAMPLES\n",
      "FOUND 7309 CORRECT PREDICTIONS\n",
      "Prediction accuracy 0.050003\n"
     ]
    }
   ],
   "source": [
    "# Features for prediction\n",
    "features = ['MONTH', 'HOUR', 'BOROUGH_encoded', 'VEHICLE TYPE CODE 1_encoded']\n",
    "\n",
    "# Split data set into training and test data\n",
    "train_data = mdata.head(int(mdata.BOROUGH.count() * 0.75))\n",
    "test_data = mdata.tail(int(mdata.BOROUGH.count() * 0.25))\n",
    "\n",
    "target_label_encoded = target_label+'_encoded'\n",
    "\n",
    "# Train the decision tree\n",
    "clf = train_tree(target_label_encoded, features, train_data)\n",
    "\n",
    "# Test the decision tree\n",
    "print \"Prediction accuracy %f\" % test_prediction(target_label_encoded, clf, test_data, features, target)"
   ]
  },
  {
   "cell_type": "markdown",
   "metadata": {},
   "source": [
    "# Decision Tree Log\n",
    "## Finding ZIP CODE with HOUR, MONTH, BOROUGH\n",
    "- TRAINING WITH 438514 SAMPLES\n",
    "- FOUND 7884 CORRECT PREDICTIONS\n",
    "- Prediction accuracy 0.053937\n",
    "## Finding ZIP CODE with HOUR, MONTH, BOROUGH, CFV1, VTC1\n",
    "- TRAINING WITH 526217 SAMPLES\n",
    "- FOUND 3243 CORRECT PREDICTIONS\n",
    "- Prediction accuracy 0.055466\n",
    "## Finding VTC1 with HOUR, MONTH, BOROUGH, CFV1\n",
    "- TRAINING WITH 438514 SAMPLES\n",
    "- FOUND 77135 CORRECT PREDICTIONS\n",
    "- Prediction accuracy 0.527704"
   ]
  },
  {
   "cell_type": "code",
   "execution_count": null,
   "metadata": {
    "collapsed": false,
    "scrolled": true
   },
   "outputs": [],
   "source": [
    "colls[colls['DATE'] == \"03/08/2015\"].head(1000).sort_values(by='TIME')"
   ]
  },
  {
   "cell_type": "code",
   "execution_count": null,
   "metadata": {
    "collapsed": true
   },
   "outputs": [],
   "source": []
  }
 ],
 "metadata": {
  "kernelspec": {
   "display_name": "Python 2",
   "language": "python",
   "name": "python2"
  },
  "language_info": {
   "codemirror_mode": {
    "name": "ipython",
    "version": 2
   },
   "file_extension": ".py",
   "mimetype": "text/x-python",
   "name": "python",
   "nbconvert_exporter": "python",
   "pygments_lexer": "ipython2",
   "version": "2.7.11"
  }
 },
 "nbformat": 4,
 "nbformat_minor": 0
}
