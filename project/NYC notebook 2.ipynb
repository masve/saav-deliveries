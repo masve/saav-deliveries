{
 "cells": [
  {
   "cell_type": "code",
   "execution_count": 2,
   "metadata": {
    "collapsed": true
   },
   "outputs": [],
   "source": [
    "import numpy as np\n",
    "import pandas as pd\n",
    "import itertools\n",
    "from __future__ import division\n",
    "import geoplotlib as glp\n",
    "from geoplotlib.utils import BoundingBox, DataAccessObject\n",
    "from sklearn import cluster\n",
    "\n",
    "%matplotlib inline\n",
    "pd.set_option('display.max_columns', None)"
   ]
  },
  {
   "cell_type": "code",
   "execution_count": 3,
   "metadata": {
    "collapsed": true
   },
   "outputs": [],
   "source": [
    "filePath = 'datasets/NYPD_Motor_Vehicle_Collisions.csv'\n",
    "\n",
    "collisions = pd.read_csv(filePath)"
   ]
  },
  {
   "cell_type": "code",
   "execution_count": 4,
   "metadata": {
    "collapsed": false
   },
   "outputs": [],
   "source": [
    "mask = ((collisions['VEHICLE TYPE CODE 1'] == 'PASSENGER VEHICLE') & (pd.notnull(collisions.LOCATION)))"
   ]
  },
  {
   "cell_type": "code",
   "execution_count": 5,
   "metadata": {
    "collapsed": false
   },
   "outputs": [
    {
     "name": "stdout",
     "output_type": "stream",
     "text": [
      "Total 769054, passenger vehicles: 347331\n"
     ]
    }
   ],
   "source": [
    "cols_pass_veh = collisions.loc[mask]\n",
    "print \"Total %d, passenger vehicles: %d\" % (len(collisions), len(cols_pass_veh))"
   ]
  },
  {
   "cell_type": "code",
   "execution_count": 6,
   "metadata": {
    "collapsed": false,
    "scrolled": true
   },
   "outputs": [
    {
     "data": {
      "text/html": [
       "<div>\n",
       "<table border=\"1\" class=\"dataframe\">\n",
       "  <thead>\n",
       "    <tr style=\"text-align: right;\">\n",
       "      <th></th>\n",
       "      <th>0</th>\n",
       "    </tr>\n",
       "  </thead>\n",
       "  <tbody>\n",
       "    <tr>\n",
       "      <th>0</th>\n",
       "      <td>DATE</td>\n",
       "    </tr>\n",
       "    <tr>\n",
       "      <th>1</th>\n",
       "      <td>TIME</td>\n",
       "    </tr>\n",
       "    <tr>\n",
       "      <th>2</th>\n",
       "      <td>BOROUGH</td>\n",
       "    </tr>\n",
       "    <tr>\n",
       "      <th>3</th>\n",
       "      <td>ZIP CODE</td>\n",
       "    </tr>\n",
       "    <tr>\n",
       "      <th>4</th>\n",
       "      <td>LATITUDE</td>\n",
       "    </tr>\n",
       "    <tr>\n",
       "      <th>5</th>\n",
       "      <td>LONGITUDE</td>\n",
       "    </tr>\n",
       "    <tr>\n",
       "      <th>6</th>\n",
       "      <td>LOCATION</td>\n",
       "    </tr>\n",
       "    <tr>\n",
       "      <th>7</th>\n",
       "      <td>ON STREET NAME</td>\n",
       "    </tr>\n",
       "    <tr>\n",
       "      <th>8</th>\n",
       "      <td>CROSS STREET NAME</td>\n",
       "    </tr>\n",
       "    <tr>\n",
       "      <th>9</th>\n",
       "      <td>OFF STREET NAME</td>\n",
       "    </tr>\n",
       "    <tr>\n",
       "      <th>10</th>\n",
       "      <td>NUMBER OF PERSONS INJURED</td>\n",
       "    </tr>\n",
       "    <tr>\n",
       "      <th>11</th>\n",
       "      <td>NUMBER OF PERSONS KILLED</td>\n",
       "    </tr>\n",
       "    <tr>\n",
       "      <th>12</th>\n",
       "      <td>NUMBER OF PEDESTRIANS INJURED</td>\n",
       "    </tr>\n",
       "    <tr>\n",
       "      <th>13</th>\n",
       "      <td>NUMBER OF PEDESTRIANS KILLED</td>\n",
       "    </tr>\n",
       "    <tr>\n",
       "      <th>14</th>\n",
       "      <td>NUMBER OF CYCLIST INJURED</td>\n",
       "    </tr>\n",
       "    <tr>\n",
       "      <th>15</th>\n",
       "      <td>NUMBER OF CYCLIST KILLED</td>\n",
       "    </tr>\n",
       "    <tr>\n",
       "      <th>16</th>\n",
       "      <td>NUMBER OF MOTORIST INJURED</td>\n",
       "    </tr>\n",
       "    <tr>\n",
       "      <th>17</th>\n",
       "      <td>NUMBER OF MOTORIST KILLED</td>\n",
       "    </tr>\n",
       "    <tr>\n",
       "      <th>18</th>\n",
       "      <td>CONTRIBUTING FACTOR VEHICLE 1</td>\n",
       "    </tr>\n",
       "    <tr>\n",
       "      <th>19</th>\n",
       "      <td>CONTRIBUTING FACTOR VEHICLE 2</td>\n",
       "    </tr>\n",
       "    <tr>\n",
       "      <th>20</th>\n",
       "      <td>CONTRIBUTING FACTOR VEHICLE 3</td>\n",
       "    </tr>\n",
       "    <tr>\n",
       "      <th>21</th>\n",
       "      <td>CONTRIBUTING FACTOR VEHICLE 4</td>\n",
       "    </tr>\n",
       "    <tr>\n",
       "      <th>22</th>\n",
       "      <td>CONTRIBUTING FACTOR VEHICLE 5</td>\n",
       "    </tr>\n",
       "    <tr>\n",
       "      <th>23</th>\n",
       "      <td>UNIQUE KEY</td>\n",
       "    </tr>\n",
       "    <tr>\n",
       "      <th>24</th>\n",
       "      <td>VEHICLE TYPE CODE 1</td>\n",
       "    </tr>\n",
       "    <tr>\n",
       "      <th>25</th>\n",
       "      <td>VEHICLE TYPE CODE 2</td>\n",
       "    </tr>\n",
       "    <tr>\n",
       "      <th>26</th>\n",
       "      <td>VEHICLE TYPE CODE 3</td>\n",
       "    </tr>\n",
       "    <tr>\n",
       "      <th>27</th>\n",
       "      <td>VEHICLE TYPE CODE 4</td>\n",
       "    </tr>\n",
       "    <tr>\n",
       "      <th>28</th>\n",
       "      <td>VEHICLE TYPE CODE 5</td>\n",
       "    </tr>\n",
       "  </tbody>\n",
       "</table>\n",
       "</div>"
      ],
      "text/plain": [
       "                                0\n",
       "0                            DATE\n",
       "1                            TIME\n",
       "2                         BOROUGH\n",
       "3                        ZIP CODE\n",
       "4                        LATITUDE\n",
       "5                       LONGITUDE\n",
       "6                        LOCATION\n",
       "7                  ON STREET NAME\n",
       "8               CROSS STREET NAME\n",
       "9                 OFF STREET NAME\n",
       "10      NUMBER OF PERSONS INJURED\n",
       "11       NUMBER OF PERSONS KILLED\n",
       "12  NUMBER OF PEDESTRIANS INJURED\n",
       "13   NUMBER OF PEDESTRIANS KILLED\n",
       "14      NUMBER OF CYCLIST INJURED\n",
       "15       NUMBER OF CYCLIST KILLED\n",
       "16     NUMBER OF MOTORIST INJURED\n",
       "17      NUMBER OF MOTORIST KILLED\n",
       "18  CONTRIBUTING FACTOR VEHICLE 1\n",
       "19  CONTRIBUTING FACTOR VEHICLE 2\n",
       "20  CONTRIBUTING FACTOR VEHICLE 3\n",
       "21  CONTRIBUTING FACTOR VEHICLE 4\n",
       "22  CONTRIBUTING FACTOR VEHICLE 5\n",
       "23                     UNIQUE KEY\n",
       "24            VEHICLE TYPE CODE 1\n",
       "25            VEHICLE TYPE CODE 2\n",
       "26            VEHICLE TYPE CODE 3\n",
       "27            VEHICLE TYPE CODE 4\n",
       "28            VEHICLE TYPE CODE 5"
      ]
     },
     "execution_count": 6,
     "metadata": {},
     "output_type": "execute_result"
    }
   ],
   "source": [
    "pd.DataFrame(collisions.columns)"
   ]
  },
  {
   "cell_type": "code",
   "execution_count": 7,
   "metadata": {
    "collapsed": true
   },
   "outputs": [],
   "source": [
    "k = 4\n",
    "#md = KMeans(n_clusters=k).fit(cols_pass_veh[['LONGITUDE', 'LATITUDE']])\n",
    "\n",
    "def knn(k, dataset, colums):\n",
    "    md = cluster.KMeans(n_clusters=k).fit(dataset[colums])\n",
    "    return md.predict(dataset[colums]),md.cluster_centers_"
   ]
  },
  {
   "cell_type": "code",
   "execution_count": 8,
   "metadata": {
    "collapsed": false
   },
   "outputs": [],
   "source": [
    "#centoids = {}\n",
    "\n",
    "\n",
    "\n",
    "knns, centoid = knn(5, collisions.loc[mask], ['LONGITUDE', 'LATITUDE'])\n",
    "\n",
    "\n"
   ]
  },
  {
   "cell_type": "code",
   "execution_count": 9,
   "metadata": {
    "collapsed": false
   },
   "outputs": [
    {
     "name": "stdout",
     "output_type": "stream",
     "text": [
      "347331\n",
      "347331\n"
     ]
    }
   ],
   "source": [
    "k = pd.Series(knns)\n",
    "\n",
    "result = pd.DataFrame(cols_pass_veh)# = result\n",
    "result['K-mean'] = knns\n",
    "\n",
    "\n",
    "print len(cols_pass_veh) \n",
    "print len(k)\n",
    "\n",
    "result[['CONTRIBUTING FACTOR VEHICLE 1', 'LATITUDE', 'LONGITUDE']].to_csv('datasets/PASSENGER_VEHICLE_CLUSTERS.csv', sep=',')"
   ]
  }
 ],
 "metadata": {
  "kernelspec": {
   "display_name": "Python 2",
   "language": "python",
   "name": "python2"
  },
  "language_info": {
   "codemirror_mode": {
    "name": "ipython",
    "version": 2
   },
   "file_extension": ".py",
   "mimetype": "text/x-python",
   "name": "python",
   "nbconvert_exporter": "python",
   "pygments_lexer": "ipython2",
   "version": "2.7.11"
  }
 },
 "nbformat": 4,
 "nbformat_minor": 0
}
