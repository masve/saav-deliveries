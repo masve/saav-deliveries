{
 "cells": [
  {
   "cell_type": "code",
   "execution_count": null,
   "metadata": {
    "collapsed": true
   },
   "outputs": [],
   "source": [
    "import numpy as np\n",
    "import pandas as pd\n",
    "import itertools\n",
    "import geoplotlib as glp\n",
    "from collections import Counter\n",
    "from geoplotlib.utils import BoundingBox, DataAccessObject\n",
    "from __future__ import division\n",
    "\n",
    "%matplotlib inline"
   ]
  },
  {
   "cell_type": "code",
   "execution_count": null,
   "metadata": {
    "collapsed": false,
    "scrolled": true
   },
   "outputs": [],
   "source": [
    "dataset = 'datasets/NYPD_Motor_Vehicle_Collisions.csv'\n",
    "collisions = pd.read_csv(dataset)"
   ]
  },
  {
   "cell_type": "code",
   "execution_count": null,
   "metadata": {
    "collapsed": false
   },
   "outputs": [],
   "source": [
    "collisions = collisions[pd.notnull(collisions.BOROUGH)]\n",
    "collisions.head()"
   ]
  },
  {
   "cell_type": "code",
   "execution_count": null,
   "metadata": {
    "collapsed": false
   },
   "outputs": [],
   "source": [
    "print \"Number of registered collisions since 2012: \" + str(len(collisions))"
   ]
  },
  {
   "cell_type": "code",
   "execution_count": null,
   "metadata": {
    "collapsed": false
   },
   "outputs": [],
   "source": [
    "# Types of contributing factors\n",
    "collisions['NUMBER OF PERSONS KILLED'].unique()"
   ]
  },
  {
   "cell_type": "code",
   "execution_count": null,
   "metadata": {
    "collapsed": false
   },
   "outputs": [],
   "source": [
    "# KDE MAP OF ALL COLLISION INCIDENTS\n",
    "bbox = BoundingBox(north=collisions.LATITUDE.max()-0.055,\\\n",
    "                   west=collisions.LONGITUDE.min()+0.055,\\\n",
    "                   south=collisions.LATITUDE.min()-0.055,\\\n",
    "                   east=collisions.LONGITUDE.max()+0.055)\n",
    "\n",
    "#bbox = BoundingBox(north=40.915256, west=-74.255735, south=40.496044, east=-73.700272)\n",
    "\n",
    "coords = {'lat': collisions.LATITUDE.values.tolist(), 'lon': collisions.LONGITUDE.values.tolist()}\n",
    "\n",
    "glp.kde(coords, bw=2, cut_below=1e-4)\n",
    "glp.set_bbox(bbox)\n",
    "glp.inline()\n",
    "#glp.show()"
   ]
  },
  {
   "cell_type": "code",
   "execution_count": null,
   "metadata": {
    "collapsed": false,
    "scrolled": true
   },
   "outputs": [],
   "source": [
    "def filter_cause(cause):\n",
    "    return collisions[(collisions['CONTRIBUTING FACTOR VEHICLE 1'] == cause) | \\\n",
    "                (collisions['CONTRIBUTING FACTOR VEHICLE 2'] == cause) | \\\n",
    "                (collisions['CONTRIBUTING FACTOR VEHICLE 3'] == cause) | \\\n",
    "                (collisions['CONTRIBUTING FACTOR VEHICLE 4'] == cause) | \\\n",
    "                (collisions['CONTRIBUTING FACTOR VEHICLE 5'] == cause)]\n",
    "\n",
    "def draw_kde(data):\n",
    "    bbox = BoundingBox(north=data.LATITUDE.max()-0.055,\\\n",
    "                       west=data.LONGITUDE.min()+0.055,\\\n",
    "                       south=data.LATITUDE.min()-0.055,\\\n",
    "                       east=data.LONGITUDE.max()+0.055)\n",
    "\n",
    "    #bbox = BoundingBox(north=40.915256, west=-74.255735, south=40.496044, east=-73.700272)\n",
    "\n",
    "    coords = {'lat': data.LATITUDE.values.tolist(), 'lon': data.LONGITUDE.values.tolist()}\n",
    "    \n",
    "    glp.kde(coords, bw=2, cut_below=1e-4)\n",
    "    glp.set_bbox(bbox)\n",
    "    glp.inline()\n",
    "\n",
    "for c in collisions['CONTRIBUTING FACTOR VEHICLE 1'].unique().tolist():\n",
    "    filtered = filter_cause(c)\n",
    "    print \"CAUSE: \" + c\n",
    "    print \"COUNT: \" + str(len(filtered)) + \" of \" + str(len(collisions))\n",
    "    draw_kde(filtered)"
   ]
  },
  {
   "cell_type": "code",
   "execution_count": null,
   "metadata": {
    "collapsed": false
   },
   "outputs": [],
   "source": [
    "def draw_dot(data, type_color):\n",
    "    gridDots = {'lat': data.LATITUDE.values.tolist(), 'lon': data.LONGITUDE.values.tolist()}\n",
    "    \n",
    "    bbox = BoundingBox(north=collisions.LATITUDE.max()-0.055,\\\n",
    "                   west=collisions.LONGITUDE.min()+0.055,\\\n",
    "                   south=collisions.LATITUDE.min()-0.055,\\\n",
    "                   east=collisions.LONGITUDE.max()+0.055)\n",
    "    glp.set_bbox(bbox)\n",
    "    glp.dot(gridDots, color=type_color)\n",
    "\n",
    "draw_dot(collisions, 'r')\n",
    "glp.inline()\n",
    "#collisions.head()"
   ]
  },
  {
   "cell_type": "code",
   "execution_count": null,
   "metadata": {
    "collapsed": false
   },
   "outputs": [],
   "source": [
    "inj_cyclists = collisions[collisions['NUMBER OF CYCLIST INJURED'] > 0]\n",
    "inj_pedestrians = collisions[collisions['NUMBER OF PEDESTRIANS INJURED'] > 0]\n",
    "inj_motorists = collisions[collisions['NUMBER OF MOTORIST INJURED'] > 0]\n",
    "\n",
    "print \"CYCLIST INJURIES: \" + str(len(inj_cyclists))\n",
    "print \"PEDESTRIANS INJURIES: \" + str(len(inj_pedestrians))\n",
    "print \"MOTORISTS INJURIES: \" + str(len(inj_motorists))"
   ]
  },
  {
   "cell_type": "code",
   "execution_count": null,
   "metadata": {
    "collapsed": false
   },
   "outputs": [],
   "source": [
    "draw_dot(inj_motorists, 'b')\n",
    "draw_dot(inj_pedestrians, 'r')\n",
    "draw_dot(inj_cyclists, 'g')\n",
    "glp.inline()"
   ]
  },
  {
   "cell_type": "code",
   "execution_count": null,
   "metadata": {
    "collapsed": false
   },
   "outputs": [],
   "source": [
    "kill_cyclists = collisions[collisions['NUMBER OF CYCLIST KILLED'] > 0]\n",
    "kill_pedestrians = collisions[collisions['NUMBER OF PEDESTRIANS KILLED'] > 0]\n",
    "kill_motorists = collisions[collisions['NUMBER OF MOTORIST KILLED'] > 0]\n",
    "\n",
    "print \"CYCLIST KILLED: \" + str(len(kill_cyclists))\n",
    "print \"PEDESTRIANS KILLED: \" + str(len(kill_pedestrians))\n",
    "print \"MOTORISTS KILLED: \" + str(len(kill_motorists))"
   ]
  },
  {
   "cell_type": "code",
   "execution_count": null,
   "metadata": {
    "collapsed": false
   },
   "outputs": [],
   "source": [
    "draw_dot(kill_motorists, 'b')\n",
    "draw_dot(kill_pedestrians, 'r')\n",
    "draw_dot(kill_cyclists, 'g')\n",
    "glp.inline()"
   ]
  },
  {
   "cell_type": "code",
   "execution_count": null,
   "metadata": {
    "collapsed": false
   },
   "outputs": [],
   "source": [
    "# Collisions on the hour for each borough\n",
    "series = {}\n",
    "\n",
    "for b in collisions.BOROUGH.unique():\n",
    "    filtered = collisions[collisions.BOROUGH == b]\n",
    "    collisions_on_hour = Counter([int(c.split(\":\")[0]) for c in filtered.TIME.values])\n",
    "    series[b] = pd.Series([collisions_on_hour[h] for h in range(0,24)], index=range(0,24))\n",
    "\n",
    "d = pd.DataFrame(series)\n",
    "d.plot(kind='bar', figsize=(16,6), subplots=True, layout=(3,2), legend=False)\n",
    "d.plot(kind='bar', figsize=(16,6), subplots=False, legend=True)"
   ]
  },
  {
   "cell_type": "code",
   "execution_count": null,
   "metadata": {
    "collapsed": false
   },
   "outputs": [],
   "source": [
    "# GET ALL ENTRIES FROM THE DATASET WHERE CAUSATION AND KILLED ARE FILLED OUT\n",
    "killed = collisions[((collisions['NUMBER OF PERSONS KILLED'] > 0))]\n",
    "\n",
    "killed2 = killed[(killed['CONTRIBUTING FACTOR VEHICLE 1'] != \"Unspecified\") & (pd.notnull(killed['CONTRIBUTING FACTOR VEHICLE 1'])) | \\\n",
    "                (killed['CONTRIBUTING FACTOR VEHICLE 2'] != \"Unspecified\") & (pd.notnull(killed['CONTRIBUTING FACTOR VEHICLE 2'])) | \\\n",
    "                (killed['CONTRIBUTING FACTOR VEHICLE 3'] != \"Unspecified\") & (pd.notnull(killed['CONTRIBUTING FACTOR VEHICLE 3'])) | \\\n",
    "                (killed['CONTRIBUTING FACTOR VEHICLE 4'] != \"Unspecified\") & (pd.notnull(killed['CONTRIBUTING FACTOR VEHICLE 4'])) | \\\n",
    "                (killed['CONTRIBUTING FACTOR VEHICLE 5'] != \"Unspecified\") & (pd.notnull(killed['CONTRIBUTING FACTOR VEHICLE 5']))]\n",
    "\n",
    "print str(len(killed2)) + \" of \" + str(len(killed)) +  \" KILLS\"\n",
    "killed2.head()[['CONTRIBUTING FACTOR VEHICLE 1', 'CONTRIBUTING FACTOR VEHICLE 2', 'CONTRIBUTING FACTOR VEHICLE 3', 'CONTRIBUTING FACTOR VEHICLE 4', 'CONTRIBUTING FACTOR VEHICLE 5']]"
   ]
  },
  {
   "cell_type": "code",
   "execution_count": null,
   "metadata": {
    "collapsed": false,
    "scrolled": true
   },
   "outputs": [],
   "source": [
    "# GET ALL ENTRIES FROM THE DATASET WHERE CAUSATION AND INJURED ARE FILLED OUT\n",
    "injured = collisions[((collisions['NUMBER OF PERSONS INJURED'] > 0))]\n",
    "\n",
    "injured2 = injured[(injured['CONTRIBUTING FACTOR VEHICLE 1'] != \"Unspecified\") & (pd.notnull(injured['CONTRIBUTING FACTOR VEHICLE 1'])) | \\\n",
    "                (injured['CONTRIBUTING FACTOR VEHICLE 2'] != \"Unspecified\") & (pd.notnull(injured['CONTRIBUTING FACTOR VEHICLE 2'])) | \\\n",
    "                (injured['CONTRIBUTING FACTOR VEHICLE 3'] != \"Unspecified\") & (pd.notnull(injured['CONTRIBUTING FACTOR VEHICLE 3'])) | \\\n",
    "                (injured['CONTRIBUTING FACTOR VEHICLE 4'] != \"Unspecified\") & (pd.notnull(injured['CONTRIBUTING FACTOR VEHICLE 4'])) | \\\n",
    "                (killed['CONTRIBUTING FACTOR VEHICLE 5'] != \"Unspecified\") & (pd.notnull(injured['CONTRIBUTING FACTOR VEHICLE 5']))]\n",
    "injured\n",
    "print str(len(injured2)) + \" of \" + str(len(injured)) +  \" INJURED\"\n",
    "injured2.head()[['CONTRIBUTING FACTOR VEHICLE 1', 'CONTRIBUTING FACTOR VEHICLE 2', 'CONTRIBUTING FACTOR VEHICLE 3', 'CONTRIBUTING FACTOR VEHICLE 4', 'CONTRIBUTING FACTOR VEHICLE 5']]"
   ]
  },
  {
   "cell_type": "code",
   "execution_count": null,
   "metadata": {
    "collapsed": false
   },
   "outputs": [],
   "source": [
    "collisions.columns"
   ]
  },
  {
   "cell_type": "code",
   "execution_count": null,
   "metadata": {
    "collapsed": false
   },
   "outputs": [],
   "source": [
    "print \"TOP THREE MOST DANGEROUS STREET BY KILL COUNT\"\n",
    "collisions.groupby(by='ON STREET NAME').sum().sort_values(by='NUMBER OF PERSONS KILLED', ascending=False).head(3)"
   ]
  },
  {
   "cell_type": "code",
   "execution_count": null,
   "metadata": {
    "collapsed": false
   },
   "outputs": [],
   "source": [
    "print \"TOP THREE MOST DANGEROUS STREET BY INJURY COUNT\"\n",
    "collisions.groupby(by='ON STREET NAME').sum().sort_values(by='NUMBER OF PERSONS INJURED', ascending=False).head(3)"
   ]
  },
  {
   "cell_type": "code",
   "execution_count": null,
   "metadata": {
    "collapsed": false
   },
   "outputs": [],
   "source": [
    "collisions[pd.isnull(collisions['ON STREET NAME'])].fillna(0)['NUMBER OF PERSONS INJURED'].sum()"
   ]
  },
  {
   "cell_type": "code",
   "execution_count": null,
   "metadata": {
    "collapsed": false
   },
   "outputs": [],
   "source": [
    "collisions[collisions['ON STREET NAME']].fillna(0)['NUMBER OF PERSONS INJURED'].sum()"
   ]
  },
  {
   "cell_type": "code",
   "execution_count": null,
   "metadata": {
    "collapsed": false
   },
   "outputs": [],
   "source": []
  },
  {
   "cell_type": "code",
   "execution_count": null,
   "metadata": {
    "collapsed": true
   },
   "outputs": [],
   "source": []
  }
 ],
 "metadata": {
  "kernelspec": {
   "display_name": "Python 2",
   "language": "python",
   "name": "python2"
  },
  "language_info": {
   "codemirror_mode": {
    "name": "ipython",
    "version": 2
   },
   "file_extension": ".py",
   "mimetype": "text/x-python",
   "name": "python",
   "nbconvert_exporter": "python",
   "pygments_lexer": "ipython2",
   "version": "2.7.11"
  }
 },
 "nbformat": 4,
 "nbformat_minor": 0
}
