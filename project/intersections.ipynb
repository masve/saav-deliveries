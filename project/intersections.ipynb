{
 "cells": [
  {
   "cell_type": "code",
   "execution_count": null,
   "metadata": {
    "collapsed": true
   },
   "outputs": [],
   "source": [
    "import numpy as np\n",
    "import pandas as pd\n",
    "import itertools\n",
    "from __future__ import division\n",
    "import geoplotlib as glp\n",
    "import geoplotlib as gpl\n",
    "from geoplotlib.utils import BoundingBox, DataAccessObject\n",
    "\n",
    "%matplotlib inline\n",
    "pd.set_option('display.max_columns', None)"
   ]
  },
  {
   "cell_type": "code",
   "execution_count": null,
   "metadata": {
    "collapsed": false
   },
   "outputs": [],
   "source": []
  },
  {
   "cell_type": "code",
   "execution_count": null,
   "metadata": {
    "collapsed": false,
    "scrolled": true
   },
   "outputs": [],
   "source": [
    "filePath = 'datasets/NYPD_Motor_Vehicle_Collisions.csv'\n",
    "\n",
    "collisions = pd.read_csv(filePath)\n",
    "collisions = collisions[pd.notnull(collisions.BOROUGH)]\n",
    "collisions.head()"
   ]
  },
  {
   "cell_type": "code",
   "execution_count": null,
   "metadata": {
    "collapsed": true
   },
   "outputs": [],
   "source": []
  },
  {
   "cell_type": "code",
   "execution_count": null,
   "metadata": {
    "collapsed": false,
    "scrolled": true
   },
   "outputs": [],
   "source": [
    "collisions['CROSS STREET NAME'].value_counts()"
   ]
  },
  {
   "cell_type": "code",
   "execution_count": null,
   "metadata": {
    "collapsed": false
   },
   "outputs": [],
   "source": [
    "mask = ((collisions['CROSS STREET NAME'] == 'BUSHWICK AVENUE') & (collisions['ON STREET NAME'] == 'COOK STREET'))\n",
    "#mask = ((collisions['CROSS STREET NAME'] == 'BUSHWICK AVENUE'))\n",
    "\n",
    "bushwick = collisions[mask]\n",
    "bushwick"
   ]
  },
  {
   "cell_type": "code",
   "execution_count": null,
   "metadata": {
    "collapsed": false,
    "scrolled": true
   },
   "outputs": [],
   "source": [
    "locationMask = (collisions.LOCATION == '(40.702713, -73.9373173)')\n",
    "\n",
    "collisions[locationMask]"
   ]
  },
  {
   "cell_type": "code",
   "execution_count": null,
   "metadata": {
    "collapsed": false,
    "scrolled": true
   },
   "outputs": [],
   "source": [
    "locationsCounts = collisions.LOCATION.value_counts()\n",
    "locationsCountsFrame  = locationsCounts.to_frame()\n",
    "locationsCountsFrame\n",
    "#locationsCountsFrame.count"
   ]
  },
  {
   "cell_type": "code",
   "execution_count": null,
   "metadata": {
    "collapsed": false
   },
   "outputs": [],
   "source": [
    "locationsCountsFrame['LAT'] = locationsCountsFrame.index.str.split(',').str.get(0).str.replace('(', '')\n",
    "locationsCountsFrame['LON'] = locationsCountsFrame.index.str.split(',').str.get(1).str.replace(')', '')\n",
    "\n",
    "#locationsCountsFrame.index"
   ]
  },
  {
   "cell_type": "code",
   "execution_count": null,
   "metadata": {
    "collapsed": false,
    "scrolled": true
   },
   "outputs": [],
   "source": [
    "#locationsCountsFrame\n",
    "\n",
    "sums = collisions.groupby(['LOCATION'])[['NUMBER OF PERSONS INJURED', 'NUMBER OF PERSONS KILLED']].sum()\n"
   ]
  },
  {
   "cell_type": "code",
   "execution_count": null,
   "metadata": {
    "collapsed": false,
    "scrolled": true
   },
   "outputs": [],
   "source": [
    "result = locationsCountsFrame.combine_first(sums)\n",
    "result"
   ]
  },
  {
   "cell_type": "code",
   "execution_count": null,
   "metadata": {
    "collapsed": false
   },
   "outputs": [],
   "source": []
  },
  {
   "cell_type": "code",
   "execution_count": null,
   "metadata": {
    "collapsed": false,
    "scrolled": true
   },
   "outputs": [],
   "source": [
    "result.sort_values(by='LOCATION')"
   ]
  },
  {
   "cell_type": "code",
   "execution_count": null,
   "metadata": {
    "collapsed": true
   },
   "outputs": [],
   "source": [
    "intersections = result"
   ]
  },
  {
   "cell_type": "code",
   "execution_count": null,
   "metadata": {
    "collapsed": false
   },
   "outputs": [],
   "source": [
    "result.to_csv('datasets/collision_counts.csv', sep=',')"
   ]
  },
  {
   "cell_type": "code",
   "execution_count": null,
   "metadata": {
    "collapsed": false
   },
   "outputs": [],
   "source": [
    "collisions['year'] = collisions.DATE.str.split('/').str.get(2)\n",
    "\n",
    "top10Intersections = collisions.LOCATION.value_counts()[:10]\n",
    "\n",
    "\n",
    "top10 = collisions[collisions.LOCATION.isin(top10Intersections.index)]"
   ]
  },
  {
   "cell_type": "code",
   "execution_count": null,
   "metadata": {
    "collapsed": false
   },
   "outputs": [],
   "source": []
  },
  {
   "cell_type": "code",
   "execution_count": null,
   "metadata": {
    "collapsed": false
   },
   "outputs": [],
   "source": [
    "top10Intersections.to_frame()"
   ]
  },
  {
   "cell_type": "code",
   "execution_count": null,
   "metadata": {
    "collapsed": false
   },
   "outputs": [],
   "source": [
    "def addStreetName(e):\n",
    "    return top10[top10.LOCATION == e.name][['ON STREET NAME', 'CROSS STREET NAME']].iloc[0]\n",
    "    \n",
    "top10InDf = top10Intersections.to_frame()\n",
    "    \n",
    "    \n",
    "top10InDf[['ON STREET NAME', 'CROSS STREET NAME']] = top10InDf.apply(addStreetName, axis=1)\n",
    "top10InDf.rename(columns={'LOCATION': 'COLLISIONS'}, inplace=True)\n",
    "top10InDf.index.name = \"LOCATION\"\n",
    "top10InDf.to_csv('datasets/intersection_top_10.csv', sep=',')"
   ]
  },
  {
   "cell_type": "code",
   "execution_count": null,
   "metadata": {
    "collapsed": false,
    "scrolled": false
   },
   "outputs": [],
   "source": [
    "\n",
    "series = {};\n",
    "\n",
    "for location in top10.LOCATION:\n",
    "    a_location = top10[top10.LOCATION == location]\n",
    "    #print a_location.year\n",
    "    index = []\n",
    "    data = []\n",
    "    key = a_location['ON STREET NAME'].iloc[0] + ' / ' + a_location['CROSS STREET NAME'].iloc[0]\n",
    "    for year in range(2012, 2016):\n",
    "        index.append(year)\n",
    "        data.append(len(a_location[a_location.year == str(year)].index))\n",
    "    series[key] = pd.Series(data, index=index);\n",
    "    \n"
   ]
  },
  {
   "cell_type": "markdown",
   "metadata": {},
   "source": [
    "## Here are the top 10 most dangerous intersection plotted by year\n",
    "\n",
    "Note that 2012 and 2016 are not complete."
   ]
  },
  {
   "cell_type": "code",
   "execution_count": null,
   "metadata": {
    "collapsed": false,
    "scrolled": false
   },
   "outputs": [],
   "source": [
    "pd.DataFrame(series).plot(kind='bar',figsize=(15,10), subplots=True, layout=(5,2), legend=False, sharey=True)"
   ]
  },
  {
   "cell_type": "markdown",
   "metadata": {},
   "source": [
    "## Here we see the location of these 10 intersection"
   ]
  },
  {
   "cell_type": "code",
   "execution_count": null,
   "metadata": {
    "collapsed": false,
    "scrolled": false
   },
   "outputs": [],
   "source": [
    "lat = top10.LATITUDE.values\n",
    "lon = top10.LONGITUDE.values\n",
    "\n",
    "glp.dot({'lat': lat, 'lon': lon}, color=\"r\")\n",
    "glp.inline()\n",
    "\n",
    "lat"
   ]
  },
  {
   "cell_type": "markdown",
   "metadata": {},
   "source": [
    "### That the intersections with the most collions\n",
    "## However how many get injured or killed in these?"
   ]
  },
  {
   "cell_type": "code",
   "execution_count": null,
   "metadata": {
    "collapsed": false,
    "scrolled": false
   },
   "outputs": [],
   "source": [
    "top10Injuries = collisions.groupby(['LOCATION'])['NUMBER OF PERSONS INJURED'].sum().sort_values(ascending=False)[:10]\n",
    "top10Injuries"
   ]
  },
  {
   "cell_type": "code",
   "execution_count": null,
   "metadata": {
    "collapsed": false
   },
   "outputs": [],
   "source": [
    "top10Injuries"
   ]
  },
  {
   "cell_type": "code",
   "execution_count": null,
   "metadata": {
    "collapsed": false
   },
   "outputs": [],
   "source": [
    "top10Killed = collisions.groupby(['LOCATION'])['NUMBER OF PERSONS KILLED'].sum().sort_values(ascending=False)[:11]\n",
    "top10Killed\n"
   ]
  },
  {
   "cell_type": "code",
   "execution_count": null,
   "metadata": {
    "collapsed": false
   },
   "outputs": [],
   "source": [
    "def splitLocation(df):\n",
    "    result = df.copy()\n",
    "    result['LAT'] = result.index.str.split(',').str.get(0).str.replace('(', '')\n",
    "    result['LON'] = result.index.str.split(',').str.get(1).str.replace(')', '')\n",
    "    return result\n",
    "    \n",
    "\n",
    "top10KilledDf = splitLocation(top10Killed.to_frame())\n",
    "top10InjuredDf = splitLocation(top10Injuries.to_frame())"
   ]
  },
  {
   "cell_type": "code",
   "execution_count": null,
   "metadata": {
    "collapsed": false
   },
   "outputs": [],
   "source": [
    "lon = top10KilledDf.LON.astype(float).values\n",
    "lat = top10KilledDf.LAT.astype(float).values\n",
    "\n",
    "glp.dot({'lat': lat, 'lon': lon}, color=\"r\")\n",
    "glp.dot({'lat': top10.LATITUDE.values, 'lon': top10.LONGITUDE.values}, color='g')\n",
    "glp.dot({'lat': top10InjuredDf.LAT.astype(float).values, 'lon': top10InjuredDf.LON.astype(float).values}, color='b')\n",
    "\n",
    "glp.inline()"
   ]
  },
  {
   "cell_type": "markdown",
   "metadata": {},
   "source": [
    "## Lets save them"
   ]
  },
  {
   "cell_type": "code",
   "execution_count": null,
   "metadata": {
    "collapsed": false
   },
   "outputs": [],
   "source": [
    "def get_intersection_name(e):\n",
    "    name = collisions[collisions.LOCATION == e.name][['CROSS STREET NAME','ON STREET NAME']].iloc[0]\n",
    "    return name['ON STREET NAME'] + ' / '+ name['CROSS STREET NAME']\n",
    "    \n",
    "top10InjuredDf['NAME'] = top10InjuredDf.apply(get_intersection_name, axis=1, raw=True)\n",
    "top10KilledDf['NAME'] = top10KilledDf.apply(get_intersection_name, axis=1, raw=True)"
   ]
  },
  {
   "cell_type": "code",
   "execution_count": null,
   "metadata": {
    "collapsed": false,
    "scrolled": true
   },
   "outputs": [],
   "source": [
    "top10InjuredDf"
   ]
  },
  {
   "cell_type": "code",
   "execution_count": null,
   "metadata": {
    "collapsed": false,
    "scrolled": true
   },
   "outputs": [],
   "source": [
    "top10KilledDf"
   ]
  },
  {
   "cell_type": "code",
   "execution_count": null,
   "metadata": {
    "collapsed": true
   },
   "outputs": [],
   "source": [
    "top10InjuredDf.to_csv('datasets/intersection_top10_injuries.csv', sep=',')\n",
    "top10KilledDf.to_csv('datasets/intersection_top10_killed.csv', sep=',')"
   ]
  },
  {
   "cell_type": "markdown",
   "metadata": {},
   "source": [
    "# Finding outliers\n",
    "\n",
    "## Finding the intersection with the most injured, relative to the collisions\n"
   ]
  },
  {
   "cell_type": "code",
   "execution_count": null,
   "metadata": {
    "collapsed": false
   },
   "outputs": [],
   "source": [
    "# Lets find the average collisions per intersection\n",
    "\n",
    "means = intersection.mean()\n",
    "means"
   ]
  },
  {
   "cell_type": "code",
   "execution_count": null,
   "metadata": {
    "collapsed": false
   },
   "outputs": [],
   "source": [
    "print \"For each collision %f number of persons gets injured\" % (means['NUMBER OF PERSONS INJURED'] / means.LOCATION)"
   ]
  },
  {
   "cell_type": "code",
   "execution_count": null,
   "metadata": {
    "collapsed": false
   },
   "outputs": [],
   "source": [
    "top10InjuredDf"
   ]
  },
  {
   "cell_type": "code",
   "execution_count": null,
   "metadata": {
    "collapsed": false
   },
   "outputs": [],
   "source": [
    "\n",
    "top10Means = top10.mean()\n",
    "top10InjuredMeans = top10InjuredDf.mean()\n",
    "\n",
    "top10KilledMean = top10KilledDf.mean()\n",
    "print \"In the intersections with the most collisions, only %f amount of persons where injured\\n\" % top10Means['NUMBER OF PERSONS INJURED']\n",
    "\n",
    "print \"However looking at the top most intersection with the most injured,\\n then we have %f persons injured per collison.\\n\"\\\n",
    "% (top10InjuredMeans['NUMBER OF PERSONS INJURED'] / top10InjuredMeans['COLLISIONS'])\n",
    "\n",
    "#print \"And lastly looking at the intersections with the most killed people, only %f persons get injured (not including killed) per collision\"\\\n",
    "#% (top10KilledMean['NUMBER OF PERSONS INJURED'] / top10KilledMean['COLLISIONS'])\n"
   ]
  },
  {
   "cell_type": "code",
   "execution_count": null,
   "metadata": {
    "collapsed": false
   },
   "outputs": [],
   "source": [
    "loc_count = collisions.LOCATION.value_counts()\n",
    "\n",
    "\n",
    "def get_collision_count(e):\n",
    "    return loc_count[e.name]\n",
    "    \n",
    "\n",
    "top10InjuredDf['COLLISIONS'] = top10InjuredDf.copy().apply(get_collision_count, axis=1)\n",
    "\n",
    "top10KilledDf['COLLISIONS'] = top10KilledDf.copy().apply(get_collision_count, axis=1)"
   ]
  },
  {
   "cell_type": "code",
   "execution_count": null,
   "metadata": {
    "collapsed": false,
    "scrolled": true
   },
   "outputs": [],
   "source": [
    "collisions.groupby(['LOCATION']).value_counts()"
   ]
  },
  {
   "cell_type": "markdown",
   "metadata": {},
   "source": [
    "### Look for some intersections that have a perticular high ration\n",
    "Meaning where is it perticular dangous to drive.\n",
    "\n",
    "\n"
   ]
  },
  {
   "cell_type": "code",
   "execution_count": null,
   "metadata": {
    "collapsed": false,
    "scrolled": true
   },
   "outputs": [],
   "source": [
    "def calc_collision_inju_ration(e):\n",
    "    return (e['NUMBER OF PERSONS INJURED'] / e.LOCATION)\n",
    "\n",
    "intersection[intersection.LOCATION > 20].apply(calc_collision_inju_ration, axis=1, raw=True).sort_values()"
   ]
  },
  {
   "cell_type": "code",
   "execution_count": null,
   "metadata": {
    "collapsed": false,
    "scrolled": true
   },
   "outputs": [],
   "source": [
    "collisions[collisions.LOCATION == '(40.6790346, -73.9385077)']"
   ]
  },
  {
   "cell_type": "code",
   "execution_count": null,
   "metadata": {
    "collapsed": false,
    "scrolled": true
   },
   "outputs": [],
   "source": [
    "top10['CONTRIBUTING FACTOR VEHICLE 1'].value_counts()"
   ]
  },
  {
   "cell_type": "code",
   "execution_count": null,
   "metadata": {
    "collapsed": false,
    "scrolled": true
   },
   "outputs": [],
   "source": [
    "def causesTop(n):\n",
    "    danger_zone = collisions.LOCATION.value_counts()[n-1:n]\n",
    "    return collisions[collisions.LOCATION.isin(danger_zone.index)]['CONTRIBUTING FACTOR VEHICLE 1'].value_counts()\n",
    "\n",
    "\n",
    "series = {}\n",
    "\n",
    "for i in range(1,10):\n",
    "    series[i] = causesTop(i)\n",
    "    \n",
    "pd.DataFrame(series).plot(kind='bar', figsize=(15,10), subplots=True)"
   ]
  },
  {
   "cell_type": "code",
   "execution_count": null,
   "metadata": {
    "collapsed": false
   },
   "outputs": [],
   "source": [
    "numberTop6 = collisions[collisions.LOCATION.isin(collisions.LOCATION.value_counts()[5:6].index)]"
   ]
  },
  {
   "cell_type": "code",
   "execution_count": null,
   "metadata": {
    "collapsed": false,
    "scrolled": true
   },
   "outputs": [],
   "source": [
    "pd.to_datetime(numberTop6.DATE).value_counts().plot(figsize=(15,15))\n",
    "\n",
    "\n",
    "#pd.Series(range(0,numberTop6['NUMBER OF PERSONS INJURED'].size), index=pd.to_datetime(numberTop6.DATE)).plot(kind='bar',figsize=(15,15))"
   ]
  },
  {
   "cell_type": "code",
   "execution_count": null,
   "metadata": {
    "collapsed": false
   },
   "outputs": [],
   "source": [
    "numberTop6.size"
   ]
  },
  {
   "cell_type": "code",
   "execution_count": null,
   "metadata": {
    "collapsed": false
   },
   "outputs": [],
   "source": [
    "top10"
   ]
  },
  {
   "cell_type": "code",
   "execution_count": null,
   "metadata": {
    "collapsed": false
   },
   "outputs": [],
   "source": [
    "#top10['HOUR'] = top10.TIME.str.split(':').str.get(0).astype('int')\n",
    "#top1['HOUR'] = top1.TIME.str.split(':').str.get(0).astype('int')\n",
    "collisions['HOUR'] = collisions.TIME.str.split(':').str.get(0).astype('int')"
   ]
  },
  {
   "cell_type": "code",
   "execution_count": null,
   "metadata": {
    "collapsed": false
   },
   "outputs": [],
   "source": [
    "top10.HOUR.value_counts().sort_index().plot(figsize=(15,10), kind='bar')\n"
   ]
  },
  {
   "cell_type": "code",
   "execution_count": null,
   "metadata": {
    "collapsed": false
   },
   "outputs": [],
   "source": [
    "top1.HOUR.value_counts().sort_index().plot(figsize=(15,10), kind='bar')"
   ]
  },
  {
   "cell_type": "code",
   "execution_count": null,
   "metadata": {
    "collapsed": false
   },
   "outputs": [],
   "source": [
    "top10.HOUR.value_counts().index"
   ]
  },
  {
   "cell_type": "code",
   "execution_count": null,
   "metadata": {
    "collapsed": true
   },
   "outputs": [],
   "source": [
    "top1 = collisions[collisions.LOCATION.isin(collisions.LOCATION.value_counts()[0:1].index)]"
   ]
  },
  {
   "cell_type": "code",
   "execution_count": null,
   "metadata": {
    "collapsed": false,
    "scrolled": true
   },
   "outputs": [],
   "source": [
    "series = {}\n",
    "\n",
    "for r in collisions['CONTRIBUTING FACTOR VEHICLE 1'].unique():\n",
    "    series[r] = collisions[collisions['CONTRIBUTING FACTOR VEHICLE 1'] == r].HOUR.value_counts().sort_index()\n",
    "series['Combined'] = collisions.HOUR.value_counts().sort_index()\n",
    "pd.DataFrame(series).plot(figsize=(15,100), subplots=True)"
   ]
  },
  {
   "cell_type": "code",
   "execution_count": null,
   "metadata": {
    "collapsed": false
   },
   "outputs": [],
   "source": [
    "collisions['CONTRIBUTING FACTOR VEHICLE 1'].unique()"
   ]
  },
  {
   "cell_type": "code",
   "execution_count": null,
   "metadata": {
    "collapsed": false
   },
   "outputs": [],
   "source": [
    "collisions"
   ]
  },
  {
   "cell_type": "code",
   "execution_count": null,
   "metadata": {
    "collapsed": true
   },
   "outputs": [],
   "source": [
    "collisions.['']"
   ]
  }
 ],
 "metadata": {
  "kernelspec": {
   "display_name": "Python 2",
   "language": "python",
   "name": "python2"
  },
  "language_info": {
   "codemirror_mode": {
    "name": "ipython",
    "version": 2
   },
   "file_extension": ".py",
   "mimetype": "text/x-python",
   "name": "python",
   "nbconvert_exporter": "python",
   "pygments_lexer": "ipython2",
   "version": "2.7.11"
  }
 },
 "nbformat": 4,
 "nbformat_minor": 0
}
