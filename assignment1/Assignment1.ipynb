{
 "cells": [
  {
   "cell_type": "markdown",
   "metadata": {
    "collapsed": true
   },
   "source": [
    "# Assignment 1\n",
    "- s113604 Mark Ian Svenningsen\n",
    "- s113627 Casper Clemmensen\n",
    "- s146893 Kasper Hoa Quoc Duong"
   ]
  },
  {
   "cell_type": "markdown",
   "metadata": {},
   "source": [
    "## Assignment 1A: Anscombe's quartet"
   ]
  },
  {
   "cell_type": "markdown",
   "metadata": {},
   "source": [
    "## Assignment 1B: Slicing data"
   ]
  },
  {
   "cell_type": "markdown",
   "metadata": {},
   "source": [
    "### We'll be combining information about PdDistrict and Category to explore differences between SF's neighborhoods. First, simply list the names of SF's 10 police districts."
   ]
  },
  {
   "cell_type": "markdown",
   "metadata": {},
   "source": [
    "We begin by loading the cvs file. Containing all the crime records, and parse it into a dictonary, for easy access.\n",
    "\n",
    "Note that we ignore any crime that do not have a district."
   ]
  },
  {
   "cell_type": "code",
   "execution_count": 1,
   "metadata": {
    "collapsed": true
   },
   "outputs": [],
   "source": [
    "from csv import reader\n",
    "\n",
    "def parseCrimeCsv(row):\n",
    "    return {\n",
    "        'IncidntNum': line[0],\n",
    "        'Category': line[1],\n",
    "        'Descript': line[2],\n",
    "        'DayOfWeek': line[3],\n",
    "        'Date': line[4],\n",
    "        'Time': line[5],\n",
    "        'PdDistrict': line[6],\n",
    "        'Resolution': line[7],\n",
    "        'Address': line[8],\n",
    "        'X': line[9],\n",
    "        'Y': line[10],\n",
    "        'Location': line[11],\n",
    "        'PdId': line[12]\n",
    "    }\n",
    "\n",
    "with open('../SFPD_Incidents_-_from_1_January_2003.csv', 'r') as infile:    \n",
    "    data = [parseCrimeCsv(line) for line in list(reader(infile))[1:] if not line[6] == '']"
   ]
  },
  {
   "cell_type": "markdown",
   "metadata": {},
   "source": [
    "Now that the file have been loaded into memory we can extract all the districts.\n",
    "We do this by taking value ` PdDistrict ` of all records, and insert them into a set."
   ]
  },
  {
   "cell_type": "code",
   "execution_count": 2,
   "metadata": {
    "collapsed": false
   },
   "outputs": [
    {
     "data": {
      "text/plain": [
       "{'BAYVIEW',\n",
       " 'CENTRAL',\n",
       " 'INGLESIDE',\n",
       " 'MISSION',\n",
       " 'NORTHERN',\n",
       " 'PARK',\n",
       " 'RICHMOND',\n",
       " 'SOUTHERN',\n",
       " 'TARAVAL',\n",
       " 'TENDERLOIN'}"
      ]
     },
     "execution_count": 2,
     "metadata": {},
     "output_type": "execute_result"
    }
   ],
   "source": [
    "PdDistrictSet = set([i['PdDistrict'] for i in data])\n",
    "PdDistrictSet"
   ]
  },
  {
   "cell_type": "markdown",
   "metadata": {},
   "source": [
    "### Which has the most crimes? Which has the most focus crimes?"
   ]
  },
  {
   "cell_type": "markdown",
   "metadata": {},
   "source": [
    "If we being finding the district with the most overall crimes.\n",
    "We begin with creating a `Counter` object, were we input the districts of the dataset.\n",
    "This object, helps us counting the occorences of the given values.\n",
    "\n",
    "Lastly we call the ` most_common(1) ` on the `Counter` to extract the district with the most crimes overall."
   ]
  },
  {
   "cell_type": "code",
   "execution_count": 7,
   "metadata": {
    "collapsed": false
   },
   "outputs": [
    {
     "data": {
      "text/plain": [
       "[('SOUTHERN', 335978)]"
      ]
     },
     "execution_count": 7,
     "metadata": {},
     "output_type": "execute_result"
    }
   ],
   "source": [
    "from collections import Counter\n",
    "\n",
    "DistrictCrimeCounter = Counter([d['PdDistrict'] for d in data])\n",
    "\n",
    "DistrictCrimeCounter.most_common(1)"
   ]
  },
  {
   "cell_type": "markdown",
   "metadata": {},
   "source": [
    "By looking at hthe output above, we can se that **Southern** is the district with the most crimes overall with a total count of 335978 crimes from Jan 2003 to Jan 2016."
   ]
  },
  {
   "cell_type": "markdown",
   "metadata": {},
   "source": [
    "** Which has the most focus crimes?**\n",
    "To do this we first define the focus crimes, these are taken from the exercises from [week 3](http://nbviewer.jupyter.org/github/suneman/socialdataanalysis2016/blob/master/lectures/Week3.ipynb):"
   ]
  },
  {
   "cell_type": "code",
   "execution_count": 4,
   "metadata": {
    "collapsed": true
   },
   "outputs": [],
   "source": [
    "focuscrimes = set([\n",
    "        'WEAPON LAWS',\n",
    "        'PROSTITUTION',\n",
    "        'DRIVING UNDER THE INFLUENCE',\n",
    "        'ROBBERY',\n",
    "        'BURGLARY',\n",
    "        'ASSAULT',\n",
    "        'DRUNKENNESS',\n",
    "        'DRUG/NARCOTIC',\n",
    "        'TRESPASS',\n",
    "        'LARCENY/THEFT',\n",
    "        'VANDALISM',\n",
    "        'VEHICLE THEFT',\n",
    "        'STOLEN PROPERTY',\n",
    "        'DISORDERLY CONDUCT'\n",
    "    ])"
   ]
  },
  {
   "cell_type": "markdown",
   "metadata": {},
   "source": [
    "Now that we have defined the focus crimes, we can filter our dataset. So that we get a new data set that only contains the records for these crimes. We do this by utilizing the build in filter function.\n",
    "\n",
    "Then we do the same operatios a above, to get the district with the most focus crimes."
   ]
  },
  {
   "cell_type": "code",
   "execution_count": 8,
   "metadata": {
    "collapsed": false
   },
   "outputs": [
    {
     "data": {
      "text/plain": [
       "[('SOUTHERN', 191521)]"
      ]
     },
     "execution_count": 8,
     "metadata": {},
     "output_type": "execute_result"
    }
   ],
   "source": [
    "data_filtered_for_focus_crimes = filter(lambda c: c['Category'] in list(focuscrimes), data)\n",
    "\n",
    "       \n",
    "most_common_focus_crime_by_dist = Counter([d['PdDistrict'] for d in data_filtered_for_focus_crimes])\n",
    "most_common_focus_crime_by_dist.most_common(1)"
   ]
  },
  {
   "cell_type": "markdown",
   "metadata": {},
   "source": [
    "We see that it is again the district south that have the most focus crimes, just as it also had with all crimes.\n",
    "However this time around we are down to 191521 crimes commited between Jan 2003 and Jan 2016."
   ]
  },
  {
   "cell_type": "markdown",
   "metadata": {},
   "source": [
    "### Next, we want to generate a slightly more complicated graphic. I'm interested to know if there are certain crimes that happen much more in certain neighborhoods than what's typical. Below I describe how to get that plot going\n",
    "\n",
    "#### First, we need to calculate the relative probabilities of seeing each type of crime in the dataset as a whole. That's simply a normalized version of this plot. Let's call it P(crime)."
   ]
  },
  {
   "cell_type": "markdown",
   "metadata": {},
   "source": [
    "Firstly we have to create a `Counter` for the categories. Then we can use list comprehention, over the output of `most common`, to create a nicely structred dataset. "
   ]
  },
  {
   "cell_type": "code",
   "execution_count": 55,
   "metadata": {
    "collapsed": false,
    "scrolled": true
   },
   "outputs": [
    {
     "data": {
      "text/plain": [
       "{'ARSON': 0.0017349745013750567,\n",
       " 'ASSAULT': 0.0875342429177903,\n",
       " 'BAD CHECKS': 0.0004571062398205751,\n",
       " 'BRIBERY': 0.0003551117400475262,\n",
       " 'BURGLARY': 0.04178837476303634,\n",
       " 'DISORDERLY CONDUCT': 0.004770779376818946,\n",
       " 'DRIVING UNDER THE INFLUENCE': 0.002626224868501856,\n",
       " 'DRUG/NARCOTIC': 0.05924919232104237,\n",
       " 'DRUNKENNESS': 0.004795343497183136,\n",
       " 'EMBEZZLEMENT': 0.0013745227351614022,\n",
       " 'EXTORTION': 0.00032574159613382107,\n",
       " 'FAMILY OFFENSES': 0.0005751208180920087,\n",
       " 'FORGERY/COUNTERFEITING': 0.011604944864229834,\n",
       " 'FRAUD': 0.019067631431394012,\n",
       " 'GAMBLING': 0.00016340480068352336,\n",
       " 'KIDNAPPING': 0.0025781646330067017,\n",
       " 'LARCENY/THEFT': 0.20380476864336636,\n",
       " 'LIQUOR LAWS': 0.0020521720556430727,\n",
       " 'LOITERING': 0.0012511681307238406,\n",
       " 'MISSING PERSON': 0.029413932128267428,\n",
       " 'NON-CRIMINAL': 0.10625637465623582,\n",
       " 'OTHER OFFENSES': 0.1426449149600833,\n",
       " 'PORNOGRAPHY/OBSCENE MAT': 2.4564120364189783e-05,\n",
       " 'PROSTITUTION': 0.00831068272234534,\n",
       " 'RECOVERED VEHICLE': 0.0033887806050249647,\n",
       " 'ROBBERY': 0.02584999866499346,\n",
       " 'RUNAWAY': 0.0021253304141190294,\n",
       " 'SECONDARY CODES': 0.011447948094945665,\n",
       " 'SEX OFFENSES, FORCIBLE': 0.005046324726991162,\n",
       " 'SEX OFFENSES, NON FORCIBLE': 0.0001767548660988439,\n",
       " 'STOLEN PROPERTY': 0.005342162176594665,\n",
       " 'SUICIDE': 0.0005996849384561985,\n",
       " 'SUSPICIOUS OCC': 0.03587482978666595,\n",
       " 'TREA': 5.340026166128214e-06,\n",
       " 'TRESPASS': 0.008350732918591302,\n",
       " 'VANDALISM': 0.05101914399380557,\n",
       " 'VEHICLE THEFT': 0.060621045043120714,\n",
       " 'WARRANTS': 0.047586575174218354,\n",
       " 'WEAPON LAWS': 0.009805890048861239}"
      ]
     },
     "execution_count": 55,
     "metadata": {},
     "output_type": "execute_result"
    }
   ],
   "source": [
    "from __future__ import division\n",
    "\n",
    "# DistrictCrimeCounter\n",
    "\n",
    "CatetoryCrimeCounter = Counter([d['Category'] for d in data])\n",
    "\n",
    "p_crime = {}\n",
    "for k,v in CatetoryCrimeCounter.most_common():\n",
    "    p_crime[k] = v/len(data)\n",
    "\n",
    "p_crime"
   ]
  },
  {
   "cell_type": "markdown",
   "metadata": {},
   "source": [
    "#### Next, we calculate that same probability distribution but for each PD district, let's call that P(crime|district)."
   ]
  },
  {
   "cell_type": "markdown",
   "metadata": {},
   "source": [
    "Now we do the same, however we do it per district instead.\n",
    "\n",
    "Our result is a dictonary, with the district as key, followed by a list, containing dictionaries again, with the crime category as key and properbility as value."
   ]
  },
  {
   "cell_type": "code",
   "execution_count": 58,
   "metadata": {
    "collapsed": false
   },
   "outputs": [
    {
     "data": {
      "text/plain": [
       "{'BAYVIEW': {'ARSON': 0.004446580305134691,\n",
       "  'ASSAULT': 0.10975448750785545,\n",
       "  'BAD CHECKS': 0.0003538252736864897,\n",
       "  'BRIBERY': 0.0006337169080952054,\n",
       "  'BURGLARY': 0.044397150386303263,\n",
       "  'DISORDERLY CONDUCT': 0.002476776915805428,\n",
       "  'DRIVING UNDER THE INFLUENCE': 0.002091265796714178,\n",
       "  'DRUG/NARCOTIC': 0.04878035900062844,\n",
       "  'DRUNKENNESS': 0.00274610660174589,\n",
       "  'EMBEZZLEMENT': 0.0012938386873610444,\n",
       "  'EXTORTION': 0.00020595799513094175,\n",
       "  'FAMILY OFFENSES': 0.0008343939289920205,\n",
       "  'FORGERY/COUNTERFEITING': 0.008502368516944006,\n",
       "  'FRAUD': 0.010113065658352653,\n",
       "  'GAMBLING': 0.0002693296859404623,\n",
       "  'KIDNAPPING': 0.0037072439123569515,\n",
       "  'LARCENY/THEFT': 0.11580120300593054,\n",
       "  'LIQUOR LAWS': 0.0013255245327658046,\n",
       "  'LOITERING': 0.0005016925522420376,\n",
       "  'MISSING PERSON': 0.05471089306555273,\n",
       "  'NON-CRIMINAL': 0.07021055244271464,\n",
       "  'OTHER OFFENSES': 0.18928595947380372,\n",
       "  'PORNOGRAPHY/OBSCENE MAT': 2.640487117063356e-05,\n",
       "  'PROSTITUTION': 0.0006918076246705992,\n",
       "  'RECOVERED VEHICLE': 0.007509545360928184,\n",
       "  'ROBBERY': 0.029795256628942907,\n",
       "  'RUNAWAY': 0.002724982704809383,\n",
       "  'SECONDARY CODES': 0.01886892093853474,\n",
       "  'SEX OFFENSES, FORCIBLE': 0.004678943171436267,\n",
       "  'SEX OFFENSES, NON FORCIBLE': 0.000274610660174589,\n",
       "  'STOLEN PROPERTY': 0.0044201754339640575,\n",
       "  'SUICIDE': 0.00037494917062299654,\n",
       "  'SUSPICIOUS OCC': 0.04386905296289059,\n",
       "  'TREA': 1.5842922702380134e-05,\n",
       "  'TRESPASS': 0.007182124958412328,\n",
       "  'VANDALISM': 0.061502225930639684,\n",
       "  'VEHICLE THEFT': 0.07777290754598408,\n",
       "  'WARRANTS': 0.048743392180989546,\n",
       "  'WEAPON LAWS': 0.019106564779070443},\n",
       " 'CENTRAL': {'ARSON': 0.001202040219615997,\n",
       "  'ASSAULT': 0.08095903316981255,\n",
       "  'BAD CHECKS': 0.0006714098523981244,\n",
       "  'BRIBERY': 0.0001949254410188103,\n",
       "  'BURGLARY': 0.05192055705359367,\n",
       "  'DISORDERLY CONDUCT': 0.00520884095166932,\n",
       "  'DRIVING UNDER THE INFLUENCE': 0.0019005230499334004,\n",
       "  'DRUG/NARCOTIC': 0.019719957116402977,\n",
       "  'DRUNKENNESS': 0.006042688671583119,\n",
       "  'EMBEZZLEMENT': 0.0021766674247100486,\n",
       "  'EXTORTION': 0.0006822390435658361,\n",
       "  'FAMILY OFFENSES': 0.0002869735659443596,\n",
       "  'FORGERY/COUNTERFEITING': 0.012805518555819066,\n",
       "  'FRAUD': 0.026753516779831715,\n",
       "  'GAMBLING': 0.00033029033061520634,\n",
       "  'KIDNAPPING': 0.0021441798512069135,\n",
       "  'LARCENY/THEFT': 0.2985012399423887,\n",
       "  'LIQUOR LAWS': 0.0013915510650509514,\n",
       "  'LOITERING': 0.0007851163596590971,\n",
       "  'MISSING PERSON': 0.015778131531355922,\n",
       "  'NON-CRIMINAL': 0.127291727580867,\n",
       "  'OTHER OFFENSES': 0.10426886715831195,\n",
       "  'PORNOGRAPHY/OBSCENE MAT': 2.707297791927921e-05,\n",
       "  'PROSTITUTION': 0.009242714661641923,\n",
       "  'RECOVERED VEHICLE': 0.00218749661587776,\n",
       "  'ROBBERY': 0.02342895509134423,\n",
       "  'RUNAWAY': 0.00041692385995689983,\n",
       "  'SECONDARY CODES': 0.008560475618076087,\n",
       "  'SEX OFFENSES, FORCIBLE': 0.004521187312519628,\n",
       "  'SEX OFFENSES, NON FORCIBLE': 5.414595583855842e-05,\n",
       "  'STOLEN PROPERTY': 0.006075176245086254,\n",
       "  'SUICIDE': 0.0006714098523981244,\n",
       "  'SUSPICIOUS OCC': 0.03344054232589368,\n",
       "  'TREA': 1.0829191167711683e-05,\n",
       "  'TRESPASS': 0.010856264145630963,\n",
       "  'VANDALISM': 0.05254323554573709,\n",
       "  'VEHICLE THEFT': 0.04840106992408737,\n",
       "  'WARRANTS': 0.032964057914514365,\n",
       "  'WEAPON LAWS': 0.005582448046955373},\n",
       " 'INGLESIDE': {'ARSON': 0.0023914763499646038,\n",
       "  'ASSAULT': 0.11107277345818188,\n",
       "  'BAD CHECKS': 0.000416426230093339,\n",
       "  'BRIBERY': 0.0007733629987447724,\n",
       "  'BURGLARY': 0.04158313354789199,\n",
       "  'DISORDERLY CONDUCT': 0.0020285906351689797,\n",
       "  'DRIVING UNDER THE INFLUENCE': 0.0026889236571741317,\n",
       "  'DRUG/NARCOTIC': 0.02856089043825886,\n",
       "  'DRUNKENNESS': 0.002546148949713558,\n",
       "  'EMBEZZLEMENT': 0.0009518313830704891,\n",
       "  'EXTORTION': 0.0003688346609398145,\n",
       "  'FAMILY OFFENSES': 0.0009637292753588702,\n",
       "  'FORGERY/COUNTERFEITING': 0.012040666995841687,\n",
       "  'FRAUD': 0.015752809389816595,\n",
       "  'GAMBLING': 0.0002082131150466695,\n",
       "  'KIDNAPPING': 0.004021487593472817,\n",
       "  'LARCENY/THEFT': 0.12866380720655335,\n",
       "  'LIQUOR LAWS': 0.0012314318518474453,\n",
       "  'LOITERING': 0.0002796004687769562,\n",
       "  'MISSING PERSON': 0.040179182257863016,\n",
       "  'NON-CRIMINAL': 0.08831210551050882,\n",
       "  'OTHER OFFENSES': 0.16874780632610933,\n",
       "  'PORNOGRAPHY/OBSCENE MAT': 2.9744730720952783e-05,\n",
       "  'PROSTITUTION': 0.0003985793916607673,\n",
       "  'RECOVERED VEHICLE': 0.007715783149015152,\n",
       "  'ROBBERY': 0.03425403189824922,\n",
       "  'RUNAWAY': 0.0019155606584293592,\n",
       "  'SECONDARY CODES': 0.0170734754338269,\n",
       "  'SEX OFFENSES, FORCIBLE': 0.006644972843060852,\n",
       "  'SEX OFFENSES, NON FORCIBLE': 0.0003747836070840051,\n",
       "  'STOLEN PROPERTY': 0.004669922723189587,\n",
       "  'SUICIDE': 0.0008031077294657252,\n",
       "  'SUSPICIOUS OCC': 0.03993527546595121,\n",
       "  'TRESPASS': 0.0048900337305246375,\n",
       "  'VANDALISM': 0.06823441227386569,\n",
       "  'VEHICLE THEFT': 0.11246482685592248,\n",
       "  'WARRANTS': 0.03230277756295472,\n",
       "  'WEAPON LAWS': 0.014509479645680768},\n",
       " 'MISSION': {'ARSON': 0.001294508599799509,\n",
       "  'ASSAULT': 0.09371768661841201,\n",
       "  'BAD CHECKS': 0.0003236271499498773,\n",
       "  'BRIBERY': 0.0005170141054077307,\n",
       "  'BURGLARY': 0.03131684676649117,\n",
       "  'DISORDERLY CONDUCT': 0.009187853720528223,\n",
       "  'DRIVING UNDER THE INFLUENCE': 0.002995524473316547,\n",
       "  'DRUG/NARCOTIC': 0.0713084798206632,\n",
       "  'DRUNKENNESS': 0.006409396238031715,\n",
       "  'EMBEZZLEMENT': 0.0010142948480136398,\n",
       "  'EXTORTION': 0.0002091736456993109,\n",
       "  'FAMILY OFFENSES': 0.001160321732747121,\n",
       "  'FORGERY/COUNTERFEITING': 0.010360015470956437,\n",
       "  'FRAUD': 0.016524718010245562,\n",
       "  'GAMBLING': 0.00016181357497493864,\n",
       "  'KIDNAPPING': 0.002502190403271002,\n",
       "  'LARCENY/THEFT': 0.15173771992832844,\n",
       "  'LIQUOR LAWS': 0.0039545659054850855,\n",
       "  'LOITERING': 0.001483948882696998,\n",
       "  'MISSING PERSON': 0.027713534718878514,\n",
       "  'NON-CRIMINAL': 0.10562479773303128,\n",
       "  'OTHER OFFENSES': 0.16031778607456054,\n",
       "  'PORNOGRAPHY/OBSCENE MAT': 2.368003536218614e-05,\n",
       "  'PROSTITUTION': 0.028005588488345477,\n",
       "  'RECOVERED VEHICLE': 0.0026363772703233905,\n",
       "  'ROBBERY': 0.02990393798988073,\n",
       "  'RUNAWAY': 0.0022259233240454973,\n",
       "  'SECONDARY CODES': 0.011650577398195581,\n",
       "  'SEX OFFENSES, FORCIBLE': 0.00601472898199528,\n",
       "  'SEX OFFENSES, NON FORCIBLE': 0.000221013663380404,\n",
       "  'STOLEN PROPERTY': 0.005359581336974797,\n",
       "  'SUICIDE': 0.000619627591977204,\n",
       "  'SUSPICIOUS OCC': 0.032603462021169954,\n",
       "  'TREA': 3.9466725603643566e-06,\n",
       "  'TRESPASS': 0.008564279455990654,\n",
       "  'VANDALISM': 0.04462502664003978,\n",
       "  'VEHICLE THEFT': 0.06077481075705073,\n",
       "  'WARRANTS': 0.05559282968529233,\n",
       "  'WEAPON LAWS': 0.011338790265926798},\n",
       " 'NORTHERN': {'ARSON': 0.0014210061782877316,\n",
       "  'ASSAULT': 0.07824801412180053,\n",
       "  'BAD CHECKS': 0.0005692850838481906,\n",
       "  'BRIBERY': 0.00017210944395410415,\n",
       "  'BURGLARY': 0.05461165048543689,\n",
       "  'DISORDERLY CONDUCT': 0.004329214474845543,\n",
       "  'DRIVING UNDER THE INFLUENCE': 0.0023654015887025594,\n",
       "  'DRUG/NARCOTIC': 0.04202559576345984,\n",
       "  'DRUNKENNESS': 0.003212709620476611,\n",
       "  'EMBEZZLEMENT': 0.0013018534863195057,\n",
       "  'EXTORTION': 0.00024271844660194174,\n",
       "  'FAMILY OFFENSES': 0.00022506619593998234,\n",
       "  'FORGERY/COUNTERFEITING': 0.011712268314210062,\n",
       "  'FRAUD': 0.019849955869373347,\n",
       "  'GAMBLING': 9.70873786407767e-05,\n",
       "  'KIDNAPPING': 0.0021624007060900264,\n",
       "  'LARCENY/THEFT': 0.2780847308031774,\n",
       "  'LIQUOR LAWS': 0.0011076787290379524,\n",
       "  'LOITERING': 0.0017431597528684906,\n",
       "  'MISSING PERSON': 0.018172992056487203,\n",
       "  'NON-CRIMINAL': 0.09720211827007944,\n",
       "  'OTHER OFFENSES': 0.11582082965578111,\n",
       "  'PORNOGRAPHY/OBSCENE MAT': 2.64783759929391e-05,\n",
       "  'PROSTITUTION': 0.01709179170344219,\n",
       "  'RECOVERED VEHICLE': 0.0024271844660194173,\n",
       "  'ROBBERY': 0.024761694616063548,\n",
       "  'RUNAWAY': 0.0008473080317740512,\n",
       "  'SECONDARY CODES': 0.00939982347749338,\n",
       "  'SEX OFFENSES, FORCIBLE': 0.004342453662842013,\n",
       "  'SEX OFFENSES, NON FORCIBLE': 0.00010150044130626655,\n",
       "  'STOLEN PROPERTY': 0.006676963812886143,\n",
       "  'SUICIDE': 0.000706090026478376,\n",
       "  'SUSPICIOUS OCC': 0.031248896734333627,\n",
       "  'TREA': 4.41306266548985e-06,\n",
       "  'TRESPASS': 0.007546337157987643,\n",
       "  'VANDALISM': 0.051403353927625774,\n",
       "  'VEHICLE THEFT': 0.058667255075022066,\n",
       "  'WARRANTS': 0.04258605472197705,\n",
       "  'WEAPON LAWS': 0.007484554280670785},\n",
       " 'PARK': {'ARSON': 0.0012030979772915257,\n",
       "  'ASSAULT': 0.06954470260921874,\n",
       "  'BAD CHECKS': 0.00028197608842770133,\n",
       "  'BRIBERY': 0.00022558087074216106,\n",
       "  'BURGLARY': 0.05825625986916309,\n",
       "  'DISORDERLY CONDUCT': 0.005385743288969095,\n",
       "  'DRIVING UNDER THE INFLUENCE': 0.0034025114670275963,\n",
       "  'DRUG/NARCOTIC': 0.051075268817204304,\n",
       "  'DRUNKENNESS': 0.007143394240168434,\n",
       "  'EMBEZZLEMENT': 0.0009305210918114144,\n",
       "  'EXTORTION': 0.0001503872471614407,\n",
       "  'FAMILY OFFENSES': 0.00041356492969396195,\n",
       "  'FORGERY/COUNTERFEITING': 0.009389803744642454,\n",
       "  'FRAUD': 0.0190709827806602,\n",
       "  'GAMBLING': 1.879840589518009e-05,\n",
       "  'KIDNAPPING': 0.0016166629069854876,\n",
       "  'LARCENY/THEFT': 0.1918283329573652,\n",
       "  'LIQUOR LAWS': 0.002528385592901722,\n",
       "  'LOITERING': 0.0003571697120084217,\n",
       "  'MISSING PERSON': 0.05462816753139334,\n",
       "  'NON-CRIMINAL': 0.12124971802391157,\n",
       "  'OTHER OFFENSES': 0.1282145274080758,\n",
       "  'PORNOGRAPHY/OBSCENE MAT': 1.879840589518009e-05,\n",
       "  'PROSTITUTION': 0.00013158884126626062,\n",
       "  'RECOVERED VEHICLE': 0.002293405519211971,\n",
       "  'ROBBERY': 0.01857282502443793,\n",
       "  'RUNAWAY': 0.009850364689074367,\n",
       "  'SECONDARY CODES': 0.008957440409053313,\n",
       "  'SEX OFFENSES, FORCIBLE': 0.004107451688096849,\n",
       "  'SEX OFFENSES, NON FORCIBLE': 0.00011279043537108053,\n",
       "  'STOLEN PROPERTY': 0.0039006692232498685,\n",
       "  'SUICIDE': 0.0005169561621174524,\n",
       "  'SUSPICIOUS OCC': 0.03292540792540793,\n",
       "  'TRESPASS': 0.006259869163094969,\n",
       "  'VANDALISM': 0.0515546281675314,\n",
       "  'VEHICLE THEFT': 0.08038198360779006,\n",
       "  'WARRANTS': 0.04617828408150989,\n",
       "  'WEAPON LAWS': 0.007321979096172645},\n",
       " 'RICHMOND': {'ARSON': 0.0021137267904509285,\n",
       "  'ASSAULT': 0.07038502984084881,\n",
       "  'BAD CHECKS': 0.000621684350132626,\n",
       "  'BRIBERY': 0.00020722811671087534,\n",
       "  'BURGLARY': 0.058365799071618034,\n",
       "  'DISORDERLY CONDUCT': 0.002175895225464191,\n",
       "  'DRIVING UNDER THE INFLUENCE': 0.00726334549071618,\n",
       "  'DRUG/NARCOTIC': 0.020940401193633953,\n",
       "  'DRUNKENNESS': 0.003284565649867374,\n",
       "  'EMBEZZLEMENT': 0.0011190318302387269,\n",
       "  'EXTORTION': 0.0005698773209549072,\n",
       "  'FAMILY OFFENSES': 0.0005284316976127321,\n",
       "  'FORGERY/COUNTERFEITING': 0.013283322281167109,\n",
       "  'FRAUD': 0.02486737400530504,\n",
       "  'GAMBLING': 0.0001243368700265252,\n",
       "  'KIDNAPPING': 0.001999751326259947,\n",
       "  'LARCENY/THEFT': 0.22721526856763927,\n",
       "  'LIQUOR LAWS': 0.001823607427055703,\n",
       "  'LOITERING': 0.0002486737400530504,\n",
       "  'MISSING PERSON': 0.02619363395225464,\n",
       "  'NON-CRIMINAL': 0.12841926392572944,\n",
       "  'OTHER OFFENSES': 0.12326964522546419,\n",
       "  'PORNOGRAPHY/OBSCENE MAT': 4.1445623342175064e-05,\n",
       "  'PROSTITUTION': 0.0005387931034482759,\n",
       "  'RECOVERED VEHICLE': 0.0027768567639257294,\n",
       "  'ROBBERY': 0.017179210875331564,\n",
       "  'RUNAWAY': 0.002082642572944297,\n",
       "  'SECONDARY CODES': 0.011428630636604774,\n",
       "  'SEX OFFENSES, FORCIBLE': 0.004662632625994695,\n",
       "  'SEX OFFENSES, NON FORCIBLE': 0.00016578249336870026,\n",
       "  'STOLEN PROPERTY': 0.004569379973474801,\n",
       "  'SUICIDE': 0.0008185510610079575,\n",
       "  'SUSPICIOUS OCC': 0.047330901856763925,\n",
       "  'TRESPASS': 0.00533612400530504,\n",
       "  'VANDALISM': 0.06925563660477453,\n",
       "  'VEHICLE THEFT': 0.08979194297082228,\n",
       "  'WARRANTS': 0.02216304708222812,\n",
       "  'WEAPON LAWS': 0.006838527851458886},\n",
       " 'SOUTHERN': {'ARSON': 0.0011310264362547548,\n",
       "  'ASSAULT': 0.07692765597747471,\n",
       "  'BAD CHECKS': 0.00048812719880468364,\n",
       "  'BRIBERY': 0.0002738274529879933,\n",
       "  'BURGLARY': 0.031320503128181014,\n",
       "  'DISORDERLY CONDUCT': 0.003342480757668657,\n",
       "  'DRIVING UNDER THE INFLUENCE': 0.0019465560245016042,\n",
       "  'DRUG/NARCOTIC': 0.05639654977409235,\n",
       "  'DRUNKENNESS': 0.005911101322110376,\n",
       "  'EMBEZZLEMENT': 0.001672728571513611,\n",
       "  'EXTORTION': 0.00024108721404377667,\n",
       "  'FAMILY OFFENSES': 0.000330378774800731,\n",
       "  'FORGERY/COUNTERFEITING': 0.014340224657566864,\n",
       "  'FRAUD': 0.021921078165832285,\n",
       "  'GAMBLING': 0.00010417348754978004,\n",
       "  'KIDNAPPING': 0.002086446136354166,\n",
       "  'LARCENY/THEFT': 0.27396436671448726,\n",
       "  'LIQUOR LAWS': 0.0023215805796808126,\n",
       "  'LOITERING': 0.0023840846722106806,\n",
       "  'MISSING PERSON': 0.019906065278083685,\n",
       "  'NON-CRIMINAL': 0.12540702069778378,\n",
       "  'OTHER OFFENSES': 0.13278845638702533,\n",
       "  'PORNOGRAPHY/OBSCENE MAT': 1.488192679282572e-05,\n",
       "  'PROSTITUTION': 0.0011935305287846228,\n",
       "  'RECOVERED VEHICLE': 0.001982272648804386,\n",
       "  'ROBBERY': 0.0244986278863497,\n",
       "  'RUNAWAY': 0.0006786158617528528,\n",
       "  'SECONDARY CODES': 0.0075064438743012935,\n",
       "  'SEX OFFENSES, FORCIBLE': 0.005306895094321652,\n",
       "  'SEX OFFENSES, NON FORCIBLE': 0.0001607248093625178,\n",
       "  'STOLEN PROPERTY': 0.006690914286054444,\n",
       "  'SUICIDE': 0.00041669395019912017,\n",
       "  'SUSPICIOUS OCC': 0.031641952746906045,\n",
       "  'TREA': 2.9763853585651442e-06,\n",
       "  'TRESPASS': 0.009342873640535987,\n",
       "  'VANDALISM': 0.0416366547809678,\n",
       "  'VEHICLE THEFT': 0.029853145146408397,\n",
       "  'WARRANTS': 0.05685193673395282,\n",
       "  'WEAPON LAWS': 0.007015340290138045},\n",
       " 'TARAVAL': {'ARSON': 0.0020673927406807476,\n",
       "  'ASSAULT': 0.08227654752516748,\n",
       "  'BAD CHECKS': 0.0006536087015210612,\n",
       "  'BRIBERY': 0.00027707325390566724,\n",
       "  'BURGLARY': 0.05270075378133947,\n",
       "  'DISORDERLY CONDUCT': 0.0023515704369942523,\n",
       "  'DRIVING UNDER THE INFLUENCE': 0.0034172367981698958,\n",
       "  'DRUG/NARCOTIC': 0.022258218063755265,\n",
       "  'DRUNKENNESS': 0.004127681038953657,\n",
       "  'EMBEZZLEMENT': 0.0014919329056459004,\n",
       "  'EXTORTION': 0.0006891309135602492,\n",
       "  'FAMILY OFFENSES': 0.000618086489481873,\n",
       "  'FORGERY/COUNTERFEITING': 0.015551624430756552,\n",
       "  'FRAUD': 0.023764359854216842,\n",
       "  'GAMBLING': 0.00012787996334107717,\n",
       "  'KIDNAPPING': 0.0029341347144369373,\n",
       "  'LARCENY/THEFT': 0.18472971148859382,\n",
       "  'LIQUOR LAWS': 0.0017192750626967043,\n",
       "  'LOITERING': 0.0004902065261407958,\n",
       "  'MISSING PERSON': 0.04983766349098091,\n",
       "  'NON-CRIMINAL': 0.10807277790802589,\n",
       "  'OTHER OFFENSES': 0.131737675568533,\n",
       "  'PORNOGRAPHY/OBSCENE MAT': 3.5522212039188104e-05,\n",
       "  'PROSTITUTION': 0.0017547972747358925,\n",
       "  'RECOVERED VEHICLE': 0.003893234439495016,\n",
       "  'ROBBERY': 0.021284909453881513,\n",
       "  'RUNAWAY': 0.005797225004795499,\n",
       "  'SECONDARY CODES': 0.015622668854834928,\n",
       "  'SEX OFFENSES, FORCIBLE': 0.005548569520521182,\n",
       "  'SEX OFFENSES, NON FORCIBLE': 0.00025575992668215434,\n",
       "  'STOLEN PROPERTY': 0.0038221900154166402,\n",
       "  'SUICIDE': 0.0009164730706110531,\n",
       "  'SUSPICIOUS OCC': 0.04610072678445832,\n",
       "  'TREA': 1.4208884815675242e-05,\n",
       "  'TRESPASS': 0.0060600893738854906,\n",
       "  'VANDALISM': 0.07208877711232833,\n",
       "  'VEHICLE THEFT': 0.09173256036999936,\n",
       "  'WARRANTS': 0.024794504003353295,\n",
       "  'WEAPON LAWS': 0.008383242041248393},\n",
       " 'TENDERLOIN': {'ARSON': 0.0007607188207687941,\n",
       "  'ASSAULT': 0.0960787870630987,\n",
       "  'BAD CHECKS': 0.00022236396299395522,\n",
       "  'BRIBERY': 0.0001989572300472231,\n",
       "  'BURGLARY': 0.018649314475308824,\n",
       "  'DISORDERLY CONDUCT': 0.009456320110479779,\n",
       "  'DRIVING UNDER THE INFLUENCE': 0.0013224804114903652,\n",
       "  'DRUG/NARCOTIC': 0.21151494227314488,\n",
       "  'DRUNKENNESS': 0.005383548577748389,\n",
       "  'EMBEZZLEMENT': 0.0013809972438571954,\n",
       "  'EXTORTION': 0.00015214376415375883,\n",
       "  'FAMILY OFFENSES': 0.0003862110936210801,\n",
       "  'FORGERY/COUNTERFEITING': 0.006823062653972415,\n",
       "  'FRAUD': 0.013921154420068933,\n",
       "  'GAMBLING': 0.00016969881386380792,\n",
       "  'KIDNAPPING': 0.0026391091397440472,\n",
       "  'LARCENY/THEFT': 0.12360510500845569,\n",
       "  'LIQUOR LAWS': 0.002387486760566677,\n",
       "  'LOITERING': 0.00206564418254911,\n",
       "  'MISSING PERSON': 0.010948499335833953,\n",
       "  'NON-CRIMINAL': 0.09305931851297025,\n",
       "  'OTHER OFFENSES': 0.16441474390108315,\n",
       "  'PORNOGRAPHY/OBSCENE MAT': 1.7555049710049096e-05,\n",
       "  'PROSTITUTION': 0.011557074392448989,\n",
       "  'RECOVERED VEHICLE': 0.0016326196230345659,\n",
       "  'ROBBERY': 0.027104996752315803,\n",
       "  'RUNAWAY': 9.362693178692851e-05,\n",
       "  'SECONDARY CODES': 0.009099367433042115,\n",
       "  'SEX OFFENSES, FORCIBLE': 0.00382114915355402,\n",
       "  'SEX OFFENSES, NON FORCIBLE': 5.266514913014729e-05,\n",
       "  'STOLEN PROPERTY': 0.004371207377802225,\n",
       "  'SUICIDE': 0.00042717287627786133,\n",
       "  'SUSPICIOUS OCC': 0.03190337700639589,\n",
       "  'TRESPASS': 0.01403233640156591,\n",
       "  'VANDALISM': 0.020252675682159972,\n",
       "  'VEHICLE THEFT': 0.012276831430561,\n",
       "  'WARRANTS': 0.08769332498493192,\n",
       "  'WEAPON LAWS': 0.010123411999461646}}"
      ]
     },
     "execution_count": 58,
     "metadata": {},
     "output_type": "execute_result"
    }
   ],
   "source": [
    "p_crime_district = {}\n",
    "l = len(data)\n",
    "for district in list(PdDistrictSet):\n",
    "    counter = Counter([d['Category'] for d in data if d['PdDistrict'] == district])\n",
    "    p_crime_district[district] = {}\n",
    "    for k,v in counter.most_common():\n",
    "            p_crime_district[district][k] = v / len(list(counter.elements()));\n",
    "    \n",
    "    \n",
    "p_crime_district"
   ]
  },
  {
   "cell_type": "markdown",
   "metadata": {},
   "source": [
    "#### Now we look at the ratio P(crime|district)/P(crime). That ratio is equal to 1 if the crime occurs at the same level within a district as in the city as a whole. If it's greater than one, it means that the crime occurs more frequently within that district. If it's smaller than one, it means that the crime is rarer within the district in question than in the city as a whole. \n",
    "\n",
    "#### For each district plot these ratios for the 14 focus crimes. My plot looks like this"
   ]
  },
  {
   "cell_type": "code",
   "execution_count": 60,
   "metadata": {
    "collapsed": false
   },
   "outputs": [
    {
     "data": {
      "text/plain": [
       "array([[<matplotlib.axes._subplots.AxesSubplot object at 0x000000003975E8D0>,\n",
       "        <matplotlib.axes._subplots.AxesSubplot object at 0x000000015E812C88>],\n",
       "       [<matplotlib.axes._subplots.AxesSubplot object at 0x000000015EA2A208>,\n",
       "        <matplotlib.axes._subplots.AxesSubplot object at 0x000000015E8BF898>],\n",
       "       [<matplotlib.axes._subplots.AxesSubplot object at 0x000000015EB03080>,\n",
       "        <matplotlib.axes._subplots.AxesSubplot object at 0x000000015EA739B0>],\n",
       "       [<matplotlib.axes._subplots.AxesSubplot object at 0x000000015ECE53C8>,\n",
       "        <matplotlib.axes._subplots.AxesSubplot object at 0x000000015ED97F28>],\n",
       "       [<matplotlib.axes._subplots.AxesSubplot object at 0x000000015EE76F28>,\n",
       "        <matplotlib.axes._subplots.AxesSubplot object at 0x000000015EF7AAC8>],\n",
       "       [<matplotlib.axes._subplots.AxesSubplot object at 0x000000015EC61A90>,\n",
       "        <matplotlib.axes._subplots.AxesSubplot object at 0x000000015F10CF28>],\n",
       "       [<matplotlib.axes._subplots.AxesSubplot object at 0x000000015F1CBC88>,\n",
       "        <matplotlib.axes._subplots.AxesSubplot object at 0x000000015F2F86A0>]], dtype=object)"
      ]
     },
     "execution_count": 60,
     "metadata": {},
     "output_type": "execute_result"
    },
    {
     "data": {
      "image/png": "[encoded data removed]",
      "text/plain": [
       "<matplotlib.figure.Figure at 0x31f6c668>"
      ]
     },
     "metadata": {},
     "output_type": "display_data"
    }
   ],
   "source": [
    "import pandas as pd\n",
    "%matplotlib inline\n",
    "\n",
    "def calcRatioForDistrict(districtCounter, overAllCounter, district):\n",
    "    ys = []\n",
    "    xs = []\n",
    "    for fc in list(focuscrimes):\n",
    "        ys.append(districtCounter[fc] / overAllCounter[fc])\n",
    "        xs.append(fc)\n",
    "    return pd.Series(ys, index=xs)\n",
    "    \n",
    "series = {}\n",
    "for district in list(PdDistrictSet):\n",
    "    series[district] = calcRatioForDistrict(p_crime_district[district], p_crime, district)\n",
    "\n",
    "df = pd.DataFrame(series)\n",
    "df.plot(kind=\"bar\", subplots=True, figsize=(14,14),layout=(7,2), legend=False,sharey=True)"
   ]
  },
  {
   "cell_type": "markdown",
   "metadata": {},
   "source": [
    "#### Comment on the top crimes in Tenderloin, Mission, and Richmond. Does this fit with the impression you get of these neighborhoods on Wikipedia?"
   ]
  },
  {
   "cell_type": "markdown",
   "metadata": {},
   "source": [
    "#### Even though we only plotted the ratios for our 14 focus crimes, I asked you to calculate the ratios based on all crime categories. Why do you think I wanted to include all crime types in the calculation?"
   ]
  },
  {
   "cell_type": "markdown",
   "metadata": {},
   "source": [
    "## Assignment 1C: KNN"
   ]
  },
  {
   "cell_type": "markdown",
   "metadata": {},
   "source": [
    "## Assignment 1D: Multiple regression and the Red Baron"
   ]
  },
  {
   "cell_type": "code",
   "execution_count": null,
   "metadata": {
    "collapsed": true
   },
   "outputs": [],
   "source": []
  }
 ],
 "metadata": {
  "kernelspec": {
   "display_name": "Python 2",
   "language": "python",
   "name": "python2"
  },
  "language_info": {
   "codemirror_mode": {
    "name": "ipython",
    "version": 2
   },
   "file_extension": ".py",
   "mimetype": "text/x-python",
   "name": "python",
   "nbconvert_exporter": "python",
   "pygments_lexer": "ipython2",
   "version": "2.7.11"
  }
 },
 "nbformat": 4,
 "nbformat_minor": 0
}
