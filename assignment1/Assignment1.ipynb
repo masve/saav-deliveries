{
 "cells": [
  {
   "cell_type": "markdown",
   "metadata": {
    "collapsed": true
   },
   "source": [
    "# Assignment 1\n",
    "- s113604 Mark Ian Svenningsen\n",
    "- s113627 Casper Clemmensen\n",
    "- s146893 Kasper Hoa Quoc Duong"
   ]
  },
  {
   "cell_type": "markdown",
   "metadata": {},
   "source": [
    "## Assignment 1A: Anscombe's quartet\n",
    "\n",
    "### Using the `numpy` function `mean`, calculate the mean of both $x$-values and $y$-values for each dataset.\n",
    "\n",
    "We start out by downloading the data `data` to memory. Afterwards we transform the data `data_t` to a more appropriate format we can work with in Python. "
   ]
  },
  {
   "cell_type": "code",
   "execution_count": 65,
   "metadata": {
    "collapsed": false,
    "scrolled": true
   },
   "outputs": [],
   "source": [
    "import urllib2\n",
    "import numpy as np\n",
    "\n",
    "# Downloads data given a url using urllib2\n",
    "def getTsv(url):\n",
    "    req = urllib2.Request(url)\n",
    "    response = urllib2.urlopen(req)\n",
    "    return response.read()\n",
    "\n",
    "# Transforms the input data from a tabular seperated \n",
    "# file and casts the values to floats.\n",
    "def transform(data):\n",
    "    return np.array([[float(x) for x in line.split('\\t')] for line in data.split('\\n')])\n",
    "    \n",
    "\n",
    "data = [\n",
    "    getTsv('https://dl.dropboxusercontent.com/u/153071/teaching/02806_2016/data1.tsv'),\n",
    "    getTsv('https://dl.dropboxusercontent.com/u/153071/teaching/02806_2016/data2.tsv'),\n",
    "    getTsv('https://dl.dropboxusercontent.com/u/153071/teaching/02806_2016/data3.tsv'),\n",
    "    getTsv('https://dl.dropboxusercontent.com/u/153071/teaching/02806_2016/data4.tsv')\n",
    "    ]\n",
    "\n",
    "data_t = [transform(d) for d in data]"
   ]
  },
  {
   "cell_type": "markdown",
   "metadata": {},
   "source": [
    "`data_t` now represents 4 lists containing a list of two elements (x,y) for each row of the tsv files.\n",
    "\n",
    "Next, we calculate all the mean values. We use numpy as it has an easy way to calculate the mean of values in a numpy array. More specifically we can call a function on each of the four lists getting the mean across indexes. \n",
    "\n",
    "See the documentation [here](http://docs.scipy.org/doc/numpy-1.10.0/reference/generated/numpy.mean.html) for more details."
   ]
  },
  {
   "cell_type": "code",
   "execution_count": 66,
   "metadata": {
    "collapsed": true
   },
   "outputs": [],
   "source": [
    "import numpy as np\n",
    "\n",
    "# Calculates the mean values of a lists sublists/tuples \n",
    "# on the axis 0, i.e. up/down (axis=1, right,left)\n",
    "\n",
    "means = [dt.mean(axis=0) for dt in data_t]"
   ]
  },
  {
   "cell_type": "markdown",
   "metadata": {},
   "source": [
    "### Use python string formatting to print precisely two decimal places of these results to the output cell. Check out this stackoverflow page for help with the string formatting."
   ]
  },
  {
   "cell_type": "code",
   "execution_count": 67,
   "metadata": {
    "collapsed": false,
    "scrolled": true
   },
   "outputs": [
    {
     "name": "stdout",
     "output_type": "stream",
     "text": [
      "Mean:       9.00,      7.50\n",
      "Mean:       9.00,      7.50\n",
      "Mean:       9.00,      7.50\n",
      "Mean:       9.00,      7.50\n"
     ]
    }
   ],
   "source": [
    "for m in means:\n",
    "    print \"Mean: {:10.2f},{:10.2f}\".format(*m)"
   ]
  },
  {
   "cell_type": "markdown",
   "metadata": {},
   "source": [
    "### Now calculate the variance for all of the various sets of x- and y-values (to three decimal places)."
   ]
  },
  {
   "cell_type": "markdown",
   "metadata": {},
   "source": [
    "As we did with the means we can calculate the variance in x- and y-values the same way for each dataset."
   ]
  },
  {
   "cell_type": "code",
   "execution_count": 68,
   "metadata": {
    "collapsed": false
   },
   "outputs": [
    {
     "name": "stdout",
     "output_type": "stream",
     "text": [
      "Variance:     10.000,     3.752\n",
      "Variance:     10.000,     3.752\n",
      "Variance:     10.000,     3.748\n",
      "Variance:     10.000,     3.748\n"
     ]
    }
   ],
   "source": [
    "variance = [dt.var(axis=0) for dt in data_t]\n",
    "\n",
    "for v in variance:\n",
    "    print \"Variance: {:10.3f},{:10.3f}\".format(*v)"
   ]
  },
  {
   "cell_type": "markdown",
   "metadata": {},
   "source": [
    "### Use `numpy` to calculate the [Pearson correlation](https://en.wikipedia.org/wiki/Pearson_product-moment_correlation_coefficient) between $x$- and $y$-values for all four data sets (also to three decimal places)."
   ]
  },
  {
   "cell_type": "markdown",
   "metadata": {},
   "source": [
    "As before we use a list comprehension on the transformed data `data_t` calling a simple function that calculates the pearson correlation on each of the 4 datasets."
   ]
  },
  {
   "cell_type": "code",
   "execution_count": 69,
   "metadata": {
    "collapsed": false,
    "scrolled": true
   },
   "outputs": [
    {
     "name": "stdout",
     "output_type": "stream",
     "text": [
      "Pearson:      0.816\n",
      "Pearson:      0.816\n",
      "Pearson:      0.816\n",
      "Pearson:      0.817\n"
     ]
    }
   ],
   "source": [
    "# Calculates the pearson correlation for \n",
    "# each dataset\n",
    "def calc_pearson(data):\n",
    "    data_xs = data[:,0] # all xs across sublists/tuples\n",
    "    data_ys = data[:,1] # all xs across sublists/tuples\n",
    "    return np.corrcoef(data_xs, data_ys)[0][1]\n",
    "    \n",
    "pears = [calc_pearson(x) for x in data_t]\n",
    "\n",
    "for pear in pears:\n",
    "    print \"Pearson: {:10.3f}\".format(pear)"
   ]
  },
  {
   "cell_type": "markdown",
   "metadata": {},
   "source": [
    "### The next step is use _linear regression_ to fit a straight line $f(x) = a x + b$ through each dataset and report $a$ and $b$ (to two decimal places). An easy way to fit a straight line in Python is using `scipy`'s `linregress`."
   ]
  },
  {
   "cell_type": "markdown",
   "metadata": {},
   "source": [
    "Before we start plotting, lets first generate the straigt lines needed for each dataset.\n",
    "\n",
    "Because we use a single list comprehension for all datasets we return a dictionary from `lin_reg()` for easy lookup later on."
   ]
  },
  {
   "cell_type": "code",
   "execution_count": 70,
   "metadata": {
    "collapsed": false
   },
   "outputs": [],
   "source": [
    "from scipy import stats\n",
    "\n",
    "# Calculates the linear regression for each dataset\n",
    "# and returns a dictionary containing lin reg values\n",
    "def lin_reg(data):\n",
    "    data_xs = data[:,0]\n",
    "    data_ys = data[:,1]\n",
    "    slope, intercept, r_value, p_value, std_err = stats.linregress(data_xs,data_ys)\n",
    "    \n",
    "    return {'slope': slope, 'intercept': intercept, 'r_value': r_value, 'p_value': p_value, 'std_err': std_err}\n",
    "\n",
    "lin_regs = [lin_reg(x) for x in data_t]"
   ]
  },
  {
   "cell_type": "markdown",
   "metadata": {},
   "source": [
    "### Finally, it's time to plot the four datasets using `matplotlib.pyplot`. Use a two-by-two [`subplot`](http://matplotlib.org/examples/pylab_examples/subplot_demo.html) to put all of the plots nicely in a grid and use the same $x$ and $y$ range for all four plots. And include the linear fit in all four plots. (To get a sense of what I think the plot should look like, you can take a look at my version [here](https://dl.dropboxusercontent.com/u/153071/teaching/02806_2016/anscombe.png).)\n",
    "\n",
    "Now that the regressions have been calculated, a plot for each dataset can be made.\n",
    "\n",
    "Because the datasets are kept in a single list we can use a `for loop` to generate each subplot."
   ]
  },
  {
   "cell_type": "code",
   "execution_count": 71,
   "metadata": {
    "collapsed": false,
    "scrolled": true
   },
   "outputs": [
    {
     "data": {
      "image/png": "[encoded data removed]",
      "text/plain": [
       "<matplotlib.figure.Figure at 0x10b148c10>"
      ]
     },
     "metadata": {},
     "output_type": "display_data"
    }
   ],
   "source": [
    "import matplotlib.pyplot as plt\n",
    "%matplotlib inline\n",
    "\n",
    "for i in range(0, len(data_t)):\n",
    "    d = data_t[i] # Get the individual dataset\n",
    "    xs = d[:,0]\n",
    "    ys = d[:,1]\n",
    "    predict_y = lin_regs[i][\"intercept\"] + lin_regs[i][\"slope\"] * xs # Straigt line function\n",
    "\n",
    "    plt.subplot(221+i) # 2 rows, 2 columns, current plot + i (starts at zero)\n",
    "    plt.scatter(xs,ys)\n",
    "    plt.plot(xs,predict_y, 'r')\n",
    "    plt.xlim(xmin=0, xmax=20) # Standadize x axis min\n",
    "    plt.ylim(ymin=2, ymax=14) # Standadize y axis min\n",
    "    \n",
    "plt.show()"
   ]
  },
  {
   "cell_type": "markdown",
   "metadata": {},
   "source": [
    "### Explain - in your own words - what you think my point with this exercise is.\n",
    "\n",
    "Other than learning how to, extract and transform data, use numpy and matlibplot, we think it is fair to say that up until the plotting the data looks very similiar. And indeed they do on the mean, variance, pearson correlation which we have calculated.\n",
    "\n",
    "However, looking at the data plots it is easy to see how different each dataset really is. Visualization is a really important factor to help understand your data better."
   ]
  },
  {
   "cell_type": "markdown",
   "metadata": {},
   "source": [
    "## Assignment 1B: Slicing data|"
   ]
  },
  {
   "cell_type": "markdown",
   "metadata": {},
   "source": [
    "## Assignment 1C: KNN"
   ]
  },
  {
   "cell_type": "markdown",
   "metadata": {},
   "source": [
    "## Assignment 1D: Multiple regression and the Red Baron"
   ]
  },
  {
   "cell_type": "code",
   "execution_count": null,
   "metadata": {
    "collapsed": true
   },
   "outputs": [],
   "source": []
  }
 ],
 "metadata": {
  "kernelspec": {
   "display_name": "Python 2",
   "language": "python",
   "name": "python2"
  },
  "language_info": {
   "codemirror_mode": {
    "name": "ipython",
    "version": 2
   },
   "file_extension": ".py",
   "mimetype": "text/x-python",
   "name": "python",
   "nbconvert_exporter": "python",
   "pygments_lexer": "ipython2",
   "version": "2.7.11"
  }
 },
 "nbformat": 4,
 "nbformat_minor": 0
}
