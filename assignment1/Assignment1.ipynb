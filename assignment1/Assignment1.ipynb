{
 "cells": [
  {
   "cell_type": "markdown",
   "metadata": {
    "collapsed": true
   },
   "source": [
    "# Assignment 1\n",
    "- s113604 Mark Ian Svenningsen\n",
    "- s113627 Casper Clemmensen\n",
    "- s146893 Kasper Hoa Quoc Duong"
   ]
  },
  {
   "cell_type": "markdown",
   "metadata": {},
   "source": [
    "## Assignment 1A: Anscombe's quartet"
   ]
  },
  {
   "cell_type": "markdown",
   "metadata": {},
   "source": [
    "## Assignment 1B: Slicing data"
   ]
  },
  {
   "cell_type": "markdown",
   "metadata": {},
   "source": [
    "### We'll be combining information about PdDistrict and Category to explore differences between SF's neighborhoods. First, simply list the names of SF's 10 police districts."
   ]
  },
  {
   "cell_type": "markdown",
   "metadata": {},
   "source": [
    "We begin by loading the cvs file. Containing all the crime records, and parse it into a dictonary, for easy access.\n",
    "\n",
    "Note that we ignore any crime that do not have a district."
   ]
  },
  {
   "cell_type": "code",
   "execution_count": 1,
   "metadata": {
    "collapsed": true
   },
   "outputs": [],
   "source": [
    "from csv import reader\n",
    "\n",
    "def parseCrimeCsv(row):\n",
    "    return {\n",
    "        'IncidntNum': line[0],\n",
    "        'Category': line[1],\n",
    "        'Descript': line[2],\n",
    "        'DayOfWeek': line[3],\n",
    "        'Date': line[4],\n",
    "        'Time': line[5],\n",
    "        'PdDistrict': line[6],\n",
    "        'Resolution': line[7],\n",
    "        'Address': line[8],\n",
    "        'X': line[9],\n",
    "        'Y': line[10],\n",
    "        'Location': line[11],\n",
    "        'PdId': line[12]\n",
    "    }\n",
    "\n",
    "with open('../SFPD_Incidents_-_from_1_January_2003.csv', 'r') as infile:    \n",
    "    data = [parseCrimeCsv(line) for line in list(reader(infile))[1:] if not line[6] == '']"
   ]
  },
  {
   "cell_type": "markdown",
   "metadata": {},
   "source": [
    "Now that the file have been loaded into memory we can extract all the districts.\n",
    "We do this by taking value ` PdDistrict ` of all records, and insert them into a set."
   ]
  },
  {
   "cell_type": "code",
   "execution_count": 2,
   "metadata": {
    "collapsed": false
   },
   "outputs": [
    {
     "data": {
      "text/plain": [
       "{'BAYVIEW',\n",
       " 'CENTRAL',\n",
       " 'INGLESIDE',\n",
       " 'MISSION',\n",
       " 'NORTHERN',\n",
       " 'PARK',\n",
       " 'RICHMOND',\n",
       " 'SOUTHERN',\n",
       " 'TARAVAL',\n",
       " 'TENDERLOIN'}"
      ]
     },
     "execution_count": 2,
     "metadata": {},
     "output_type": "execute_result"
    }
   ],
   "source": [
    "PdDistrictSet = set([i['PdDistrict'] for i in data])\n",
    "PdDistrictSet"
   ]
  },
  {
   "cell_type": "markdown",
   "metadata": {},
   "source": [
    "### Which has the most crimes? Which has the most focus crimes?"
   ]
  },
  {
   "cell_type": "markdown",
   "metadata": {},
   "source": [
    "If we being finding the district with the most overall crimes.\n",
    "We begin with creating a `Counter` object, were we input the districts of the dataset.\n",
    "This object, helps us counting the occorences of the given values.\n",
    "\n",
    "Lastly we call the ` most_common(1) ` on the `Counter` to extract the district with the most crimes overall."
   ]
  },
  {
   "cell_type": "code",
   "execution_count": 7,
   "metadata": {
    "collapsed": false
   },
   "outputs": [
    {
     "data": {
      "text/plain": [
       "[('SOUTHERN', 335978)]"
      ]
     },
     "execution_count": 7,
     "metadata": {},
     "output_type": "execute_result"
    }
   ],
   "source": [
    "from collections import Counter\n",
    "\n",
    "DistrictCrimeCounter = Counter([d['PdDistrict'] for d in data])\n",
    "\n",
    "DistrictCrimeCounter.most_common(1)"
   ]
  },
  {
   "cell_type": "markdown",
   "metadata": {},
   "source": [
    "By looking at hthe output above, we can se that **Southern** is the district with the most crimes overall with a total count of 335978 crimes from Jan 2003 to Jan 2016."
   ]
  },
  {
   "cell_type": "markdown",
   "metadata": {},
   "source": [
    "** Which has the most focus crimes?**\n",
    "To do this we first define the focus crimes, these are taken from the exercises from [week 3](http://nbviewer.jupyter.org/github/suneman/socialdataanalysis2016/blob/master/lectures/Week3.ipynb):"
   ]
  },
  {
   "cell_type": "code",
   "execution_count": 4,
   "metadata": {
    "collapsed": true
   },
   "outputs": [],
   "source": [
    "focuscrimes = set([\n",
    "        'WEAPON LAWS',\n",
    "        'PROSTITUTION',\n",
    "        'DRIVING UNDER THE INFLUENCE',\n",
    "        'ROBBERY',\n",
    "        'BURGLARY',\n",
    "        'ASSAULT',\n",
    "        'DRUNKENNESS',\n",
    "        'DRUG/NARCOTIC',\n",
    "        'TRESPASS',\n",
    "        'LARCENY/THEFT',\n",
    "        'VANDALISM',\n",
    "        'VEHICLE THEFT',\n",
    "        'STOLEN PROPERTY',\n",
    "        'DISORDERLY CONDUCT'\n",
    "    ])"
   ]
  },
  {
   "cell_type": "markdown",
   "metadata": {},
   "source": [
    "Now that we have defined the focus crimes, we can filter our dataset. So that we get a new data set that only contains the records for these crimes. We do this by utilizing the build in filter function.\n",
    "\n",
    "Then we do the same operatios a above, to get the district with the most focus crimes."
   ]
  },
  {
   "cell_type": "code",
   "execution_count": 8,
   "metadata": {
    "collapsed": false
   },
   "outputs": [
    {
     "data": {
      "text/plain": [
       "[('SOUTHERN', 191521)]"
      ]
     },
     "execution_count": 8,
     "metadata": {},
     "output_type": "execute_result"
    }
   ],
   "source": [
    "data_filtered_for_focus_crimes = filter(lambda c: c['Category'] in list(focuscrimes), data)\n",
    "\n",
    "       \n",
    "most_common_focus_crime_by_dist = Counter([d['PdDistrict'] for d in data_filtered_for_focus_crimes])\n",
    "most_common_focus_crime_by_dist.most_common(1)"
   ]
  },
  {
   "cell_type": "markdown",
   "metadata": {},
   "source": [
    "We see that it is again the district south that have the most focus crimes, just as it also had with all crimes.\n",
    "However this time around we are down to 191521 crimes commited between Jan 2003 and Jan 2016."
   ]
  },
  {
   "cell_type": "markdown",
   "metadata": {},
   "source": [
    "### Next, we want to generate a slightly more complicated graphic. I'm interested to know if there are certain crimes that happen much more in certain neighborhoods than what's typical. Below I describe how to get that plot going\n",
    "\n",
    "#### First, we need to calculate the relative probabilities of seeing each type of crime in the dataset as a whole. That's simply a normalized version of this plot. Let's call it P(crime)."
   ]
  },
  {
   "cell_type": "markdown",
   "metadata": {},
   "source": [
    "Firstly we have to create a `Counter` for the categories. Then we can use list comprehention, over the output of `most common`, to create a nicely structred dataset. "
   ]
  },
  {
   "cell_type": "code",
   "execution_count": 13,
   "metadata": {
    "collapsed": false,
    "scrolled": true
   },
   "outputs": [
    {
     "data": {
      "text/plain": [
       "[{'LARCENY/THEFT': 0.20380476864336636},\n",
       " {'OTHER OFFENSES': 0.1426449149600833},\n",
       " {'NON-CRIMINAL': 0.10625637465623582},\n",
       " {'ASSAULT': 0.0875342429177903},\n",
       " {'VEHICLE THEFT': 0.060621045043120714},\n",
       " {'DRUG/NARCOTIC': 0.05924919232104237},\n",
       " {'VANDALISM': 0.05101914399380557},\n",
       " {'WARRANTS': 0.047586575174218354},\n",
       " {'BURGLARY': 0.04178837476303634},\n",
       " {'SUSPICIOUS OCC': 0.03587482978666595},\n",
       " {'MISSING PERSON': 0.029413932128267428},\n",
       " {'ROBBERY': 0.02584999866499346},\n",
       " {'FRAUD': 0.019067631431394012},\n",
       " {'FORGERY/COUNTERFEITING': 0.011604944864229834},\n",
       " {'SECONDARY CODES': 0.011447948094945665},\n",
       " {'WEAPON LAWS': 0.009805890048861239},\n",
       " {'TRESPASS': 0.008350732918591302},\n",
       " {'PROSTITUTION': 0.00831068272234534},\n",
       " {'STOLEN PROPERTY': 0.005342162176594665},\n",
       " {'SEX OFFENSES, FORCIBLE': 0.005046324726991162},\n",
       " {'DRUNKENNESS': 0.004795343497183136},\n",
       " {'DISORDERLY CONDUCT': 0.004770779376818946},\n",
       " {'RECOVERED VEHICLE': 0.0033887806050249647},\n",
       " {'DRIVING UNDER THE INFLUENCE': 0.002626224868501856},\n",
       " {'KIDNAPPING': 0.0025781646330067017},\n",
       " {'RUNAWAY': 0.0021253304141190294},\n",
       " {'LIQUOR LAWS': 0.0020521720556430727},\n",
       " {'ARSON': 0.0017349745013750567},\n",
       " {'EMBEZZLEMENT': 0.0013745227351614022},\n",
       " {'LOITERING': 0.0012511681307238406},\n",
       " {'SUICIDE': 0.0005996849384561985},\n",
       " {'FAMILY OFFENSES': 0.0005751208180920087},\n",
       " {'BAD CHECKS': 0.0004571062398205751},\n",
       " {'BRIBERY': 0.0003551117400475262},\n",
       " {'EXTORTION': 0.00032574159613382107},\n",
       " {'SEX OFFENSES, NON FORCIBLE': 0.0001767548660988439},\n",
       " {'GAMBLING': 0.00016340480068352336},\n",
       " {'PORNOGRAPHY/OBSCENE MAT': 2.4564120364189783e-05},\n",
       " {'TREA': 5.340026166128214e-06}]"
      ]
     },
     "execution_count": 13,
     "metadata": {},
     "output_type": "execute_result"
    }
   ],
   "source": [
    "from __future__ import division\n",
    "\n",
    "# DistrictCrimeCounter\n",
    "\n",
    "CatetoryCrimeCounter = Counter([d['Category'] for d in data])\n",
    "\n",
    "p_crime = [{k: v/len(data)} for k,v in CatetoryCrimeCounter.most_common()]\n",
    "p_crime"
   ]
  },
  {
   "cell_type": "markdown",
   "metadata": {},
   "source": [
    "#### Next, we calculate that same probability distribution but for each PD district, let's call that P(crime|district)."
   ]
  },
  {
   "cell_type": "markdown",
   "metadata": {},
   "source": [
    "Now we do the same, however we do it per district instead.\n",
    "\n",
    "Our result is a dictonary, with the district as key, followed by a list, containing dictionaries again, with the crime category as key and properbility as value."
   ]
  },
  {
   "cell_type": "code",
   "execution_count": 16,
   "metadata": {
    "collapsed": false
   },
   "outputs": [
    {
     "data": {
      "text/plain": [
       "{'BAYVIEW': [{'OTHER OFFENSES': 0.019140255787253358},\n",
       "  {'LARCENY/THEFT': 0.011709609377085949},\n",
       "  {'ASSAULT': 0.011098176381064266},\n",
       "  {'VEHICLE THEFT': 0.007864256534857022},\n",
       "  {'NON-CRIMINAL': 0.0070995647878674606},\n",
       "  {'VANDALISM': 0.006218994473072918},\n",
       "  {'MISSING PERSON': 0.00553226710810883},\n",
       "  {'DRUG/NARCOTIC': 0.004932582169652631},\n",
       "  {'WARRANTS': 0.004928844151336342},\n",
       "  {'BURGLARY': 0.004489359997863989},\n",
       "  {'SUSPICIOUS OCC': 0.004435959736202707},\n",
       "  {'ROBBERY': 0.0030128427629295385},\n",
       "  {'WEAPON LAWS': 0.0019320214669051878},\n",
       "  {'SECONDARY CODES': 0.001907991349157611},\n",
       "  {'FRAUD': 0.001022615010813553},\n",
       "  {'FORGERY/COUNTERFEITING': 0.0008597442127466424},\n",
       "  {'RECOVERED VEHICLE': 0.000759351720823432},\n",
       "  {'TRESPASS': 0.0007262435585934371},\n",
       "  {'SEX OFFENSES, FORCIBLE': 0.00047312631831895977},\n",
       "  {'ARSON': 0.00044963020318799563},\n",
       "  {'STOLEN PROPERTY': 0.0004469601901049315},\n",
       "  {'KIDNAPPING': 0.00037486983686220064},\n",
       "  {'DRUNKENNESS': 0.00027768136063866715},\n",
       "  {'RUNAWAY': 0.00027554535017221585},\n",
       "  {'DISORDERLY CONDUCT': 0.00025044722719141325},\n",
       "  {'DRIVING UNDER THE INFLUENCE': 0.00021146503617867728},\n",
       "  {'LIQUOR LAWS': 0.00013403465676981816},\n",
       "  {'EMBEZZLEMENT': 0.00013083064107014125},\n",
       "  {'FAMILY OFFENSES': 8.437241342482578e-05},\n",
       "  {'PROSTITUTION': 6.99543427762796e-05},\n",
       "  {'BRIBERY': 6.408031399353856e-05},\n",
       "  {'LOITERING': 5.073024857821803e-05},\n",
       "  {'SUICIDE': 3.791418577951032e-05},\n",
       "  {'BAD CHECKS': 3.5778175313059034e-05},\n",
       "  {'SEX OFFENSES, NON FORCIBLE': 2.7768136063866712e-05},\n",
       "  {'GAMBLING': 2.7234133447253892e-05},\n",
       "  {'EXTORTION': 2.0826102047900034e-05},\n",
       "  {'PORNOGRAPHY/OBSCENE MAT': 2.670013083064107e-06},\n",
       "  {'TREA': 1.6020078498384642e-06}],\n",
       " 'CENTRAL': [{'LARCENY/THEFT': 0.029439030251248232},\n",
       "  {'NON-CRIMINAL': 0.01255386751395082},\n",
       "  {'OTHER OFFENSES': 0.010283288388113102},\n",
       "  {'ASSAULT': 0.007984407123594906},\n",
       "  {'VANDALISM': 0.005181961391610819},\n",
       "  {'BURGLARY': 0.005120551090700344},\n",
       "  {'VEHICLE THEFT': 0.004773449389902011},\n",
       "  {'SUSPICIOUS OCC': 0.003298000160200785},\n",
       "  {'WARRANTS': 0.0032510079299388566},\n",
       "  {'FRAUD': 0.0026385069286839506},\n",
       "  {'ROBBERY': 0.002310629322083678},\n",
       "  {'DRUG/NARCOTIC': 0.0019448375297038956},\n",
       "  {'MISSING PERSON': 0.0015560836248097616},\n",
       "  {'FORGERY/COUNTERFEITING': 0.0012629161882893227},\n",
       "  {'TRESPASS': 0.0010706752463087068},\n",
       "  {'PROSTITUTION': 0.0009115424665580861},\n",
       "  {'SECONDARY CODES': 0.0008442581368648706},\n",
       "  {'STOLEN PROPERTY': 0.0005991509358395856},\n",
       "  {'DRUNKENNESS': 0.0005959469201399087},\n",
       "  {'WEAPON LAWS': 0.0005505566977278189},\n",
       "  {'DISORDERLY CONDUCT': 0.0005137105171815342},\n",
       "  {'SEX OFFENSES, FORCIBLE': 0.00044589218487170587},\n",
       "  {'RECOVERED VEHICLE': 0.00021573705711157984},\n",
       "  {'EMBEZZLEMENT': 0.0002146690518783542},\n",
       "  {'KIDNAPPING': 0.00021146503617867728},\n",
       "  {'DRIVING UNDER THE INFLUENCE': 0.00018743491843110032},\n",
       "  {'LIQUOR LAWS': 0.0001372386724694951},\n",
       "  {'ARSON': 0.00011854858088804635},\n",
       "  {'LOITERING': 7.74303794088591e-05},\n",
       "  {'EXTORTION': 6.728432969321549e-05},\n",
       "  {'SUICIDE': 6.621632445998986e-05},\n",
       "  {'BAD CHECKS': 6.621632445998986e-05},\n",
       "  {'RUNAWAY': 4.1118201479187245e-05},\n",
       "  {'GAMBLING': 3.2574159613382106e-05},\n",
       "  {'FAMILY OFFENSES': 2.8302138680479536e-05},\n",
       "  {'BRIBERY': 1.922409419806157e-05},\n",
       "  {'SEX OFFENSES, NON FORCIBLE': 5.340026166128214e-06},\n",
       "  {'PORNOGRAPHY/OBSCENE MAT': 2.670013083064107e-06},\n",
       "  {'TREA': 1.0680052332256428e-06}],\n",
       " 'INGLESIDE': [{'OTHER OFFENSES': 0.015147518222839293},\n",
       "  {'LARCENY/THEFT': 0.0115494085921021},\n",
       "  {'VEHICLE THEFT': 0.010095319467065388},\n",
       "  {'ASSAULT': 0.009970362854777988},\n",
       "  {'NON-CRIMINAL': 0.007927268843617333},\n",
       "  {'VANDALISM': 0.006125010012549062},\n",
       "  {'BURGLARY': 0.0037326782901236214},\n",
       "  {'MISSING PERSON': 0.003606653672602996},\n",
       "  {'SUSPICIOUS OCC': 0.00358475956532187},\n",
       "  {'ROBBERY': 0.0030747870664566256},\n",
       "  {'WARRANTS': 0.0028996342082076203},\n",
       "  {'DRUG/NARCOTIC': 0.0025637465623581557},\n",
       "  {'SECONDARY CODES': 0.0015325875096787974},\n",
       "  {'FRAUD': 0.0014140389287907512},\n",
       "  {'WEAPON LAWS': 0.0013024323819186715},\n",
       "  {'FORGERY/COUNTERFEITING': 0.0010808212960243505},\n",
       "  {'RECOVERED VEHICLE': 0.0006926013937468293},\n",
       "  {'SEX OFFENSES, FORCIBLE': 0.0005964809227565215},\n",
       "  {'TRESPASS': 0.0004389501508557392},\n",
       "  {'STOLEN PROPERTY': 0.0004191920540410648},\n",
       "  {'KIDNAPPING': 0.0003609857688302673},\n",
       "  {'DRIVING UNDER THE INFLUENCE': 0.00024136918270899527},\n",
       "  {'DRUNKENNESS': 0.00022855311991028756},\n",
       "  {'ARSON': 0.0002146690518783542},\n",
       "  {'DISORDERLY CONDUCT': 0.0001820948922649721},\n",
       "  {'RUNAWAY': 0.00017194884254932848},\n",
       "  {'LIQUOR LAWS': 0.00011053854163885403},\n",
       "  {'FAMILY OFFENSES': 8.650842389127707e-05},\n",
       "  {'EMBEZZLEMENT': 8.544041865805142e-05},\n",
       "  {'SUICIDE': 7.209035324273089e-05},\n",
       "  {'BRIBERY': 6.942034015966679e-05},\n",
       "  {'BAD CHECKS': 3.73801831628975e-05},\n",
       "  {'PROSTITUTION': 3.5778175313059034e-05},\n",
       "  {'SEX OFFENSES, NON FORCIBLE': 3.3642164846607746e-05},\n",
       "  {'EXTORTION': 3.310816222999493e-05},\n",
       "  {'LOITERING': 2.5098122980802607e-05},\n",
       "  {'GAMBLING': 1.869009158144875e-05},\n",
       "  {'PORNOGRAPHY/OBSCENE MAT': 2.670013083064107e-06}],\n",
       " 'MISSION': [{'OTHER OFFENSES': 0.02169172028942942},\n",
       "  {'LARCENY/THEFT': 0.020530798600913145},\n",
       "  {'NON-CRIMINAL': 0.01429151202840894},\n",
       "  {'ASSAULT': 0.012680426134088056},\n",
       "  {'DRUG/NARCOTIC': 0.009648359276960457},\n",
       "  {'VEHICLE THEFT': 0.008223106293220837},\n",
       "  {'WARRANTS': 0.007521960857608203},\n",
       "  {'VANDALISM': 0.006037967586041171},\n",
       "  {'SUSPICIOUS OCC': 0.004411395615838518},\n",
       "  {'BURGLARY': 0.0042373107628227375},\n",
       "  {'ROBBERY': 0.004046137826075348},\n",
       "  {'PROSTITUTION': 0.0037892825674845807},\n",
       "  {'MISSING PERSON': 0.003749766373855232},\n",
       "  {'FRAUD': 0.0022358689557578832},\n",
       "  {'SECONDARY CODES': 0.0015763757242410487},\n",
       "  {'WEAPON LAWS': 0.0015341895175286359},\n",
       "  {'FORGERY/COUNTERFEITING': 0.0014017568686086562},\n",
       "  {'DISORDERLY CONDUCT': 0.0012431580914746482},\n",
       "  {'TRESPASS': 0.0011587856780498225},\n",
       "  {'DRUNKENNESS': 0.000867220249379222},\n",
       "  {'SEX OFFENSES, FORCIBLE': 0.0008138199877179398},\n",
       "  {'STOLEN PROPERTY': 0.0007251755533602115},\n",
       "  {'LIQUOR LAWS': 0.000535070621846047},\n",
       "  {'DRIVING UNDER THE INFLUENCE': 0.0004053079860091314},\n",
       "  {'RECOVERED VEHICLE': 0.0003567137478973647},\n",
       "  {'KIDNAPPING': 0.0003385576589325288},\n",
       "  {'RUNAWAY': 0.0003011774757696313},\n",
       "  {'LOITERING': 0.00020078498384642086},\n",
       "  {'ARSON': 0.00017515285824900543},\n",
       "  {'FAMILY OFFENSES': 0.0001569967692841695},\n",
       "  {'EMBEZZLEMENT': 0.0001372386724694951},\n",
       "  {'SUICIDE': 8.383841080821296e-05},\n",
       "  {'BRIBERY': 6.99543427762796e-05},\n",
       "  {'BAD CHECKS': 4.3788214562251357e-05},\n",
       "  {'SEX OFFENSES, NON FORCIBLE': 2.9904146530317997e-05},\n",
       "  {'EXTORTION': 2.8302138680479536e-05},\n",
       "  {'GAMBLING': 2.1894107281125678e-05},\n",
       "  {'PORNOGRAPHY/OBSCENE MAT': 3.2040156996769284e-06},\n",
       "  {'TREA': 5.340026166128214e-07}],\n",
       " 'NORTHERN': [{'LARCENY/THEFT': 0.03364964088324033},\n",
       "  {'OTHER OFFENSES': 0.014014898673003498},\n",
       "  {'NON-CRIMINAL': 0.011761941633514005},\n",
       "  {'ASSAULT': 0.009468400395161936},\n",
       "  {'VEHICLE THEFT': 0.007099030785250848},\n",
       "  {'BURGLARY': 0.0066082823805836645},\n",
       "  {'VANDALISM': 0.006220062478306144},\n",
       "  {'WARRANTS': 0.005153125250313727},\n",
       "  {'DRUG/NARCOTIC': 0.005085306918003898},\n",
       "  {'SUSPICIOUS OCC': 0.003781272528235388},\n",
       "  {'ROBBERY': 0.0029962886818145408},\n",
       "  {'FRAUD': 0.0024019437695244708},\n",
       "  {'MISSING PERSON': 0.0021990227752115986},\n",
       "  {'PROSTITUTION': 0.0020681921341414574},\n",
       "  {'FORGERY/COUNTERFEITING': 0.001417242944490428},\n",
       "  {'SECONDARY CODES': 0.0011374255733853096},\n",
       "  {'TRESPASS': 0.0009131444744079246},\n",
       "  {'WEAPON LAWS': 0.0009056684377753452},\n",
       "  {'STOLEN PROPERTY': 0.0008079459589351987},\n",
       "  {'SEX OFFENSES, FORCIBLE': 0.0005254585747470163},\n",
       "  {'DISORDERLY CONDUCT': 0.0005238565668971778},\n",
       "  {'DRUNKENNESS': 0.000388753904894134},\n",
       "  {'RECOVERED VEHICLE': 0.00029370143913705175},\n",
       "  {'DRIVING UNDER THE INFLUENCE': 0.0002862254025044723},\n",
       "  {'KIDNAPPING': 0.0002616612821402825},\n",
       "  {'LOITERING': 0.00021093103356206445},\n",
       "  {'ARSON': 0.00017194884254932848},\n",
       "  {'EMBEZZLEMENT': 0.00015753077190078232},\n",
       "  {'LIQUOR LAWS': 0.00013403465676981816},\n",
       "  {'RUNAWAY': 0.00010252850238966171},\n",
       "  {'SUICIDE': 8.544041865805142e-05},\n",
       "  {'BAD CHECKS': 6.888633754305396e-05},\n",
       "  {'EXTORTION': 2.9370143913705177e-05},\n",
       "  {'FAMILY OFFENSES': 2.7234133447253892e-05},\n",
       "  {'BRIBERY': 2.0826102047900034e-05},\n",
       "  {'SEX OFFENSES, NON FORCIBLE': 1.2282060182094892e-05},\n",
       "  {'GAMBLING': 1.1748057565482071e-05},\n",
       "  {'PORNOGRAPHY/OBSCENE MAT': 3.2040156996769284e-06},\n",
       "  {'TREA': 5.340026166128214e-07}],\n",
       " 'PARK': [{'LARCENY/THEFT': 0.010898459402451072},\n",
       "  {'OTHER OFFENSES': 0.007284329693215497},\n",
       "  {'NON-CRIMINAL': 0.006888633754305396},\n",
       "  {'VEHICLE THEFT': 0.004566790377272849},\n",
       "  {'ASSAULT': 0.003951085360318266},\n",
       "  {'BURGLARY': 0.003309748217766267},\n",
       "  {'MISSING PERSON': 0.003103623207753718},\n",
       "  {'VANDALISM': 0.0029290043521213254},\n",
       "  {'DRUG/NARCOTIC': 0.0029017702186740716},\n",
       "  {'WARRANTS': 0.0026235548554187915},\n",
       "  {'SUSPICIOUS OCC': 0.0018706111659947133},\n",
       "  {'FRAUD': 0.0010834913091074146},\n",
       "  {'ROBBERY': 0.0010551891704269351},\n",
       "  {'RUNAWAY': 0.0005596347422102368},\n",
       "  {'FORGERY/COUNTERFEITING': 0.0005334686139962086},\n",
       "  {'SECONDARY CODES': 0.0005089044936320187},\n",
       "  {'WEAPON LAWS': 0.00041598803834138785},\n",
       "  {'DRUNKENNESS': 0.00040584198862574425},\n",
       "  {'TRESPASS': 0.00035564574266413904},\n",
       "  {'DISORDERLY CONDUCT': 0.00030598349931914665},\n",
       "  {'SEX OFFENSES, FORCIBLE': 0.00023335914345980294},\n",
       "  {'STOLEN PROPERTY': 0.00022161108589432087},\n",
       "  {'DRIVING UNDER THE INFLUENCE': 0.00019330894721384135},\n",
       "  {'LIQUOR LAWS': 0.00014364670386884896},\n",
       "  {'RECOVERED VEHICLE': 0.00013029663845352842},\n",
       "  {'KIDNAPPING': 9.184845005740528e-05},\n",
       "  {'ARSON': 6.835233492644114e-05},\n",
       "  {'EMBEZZLEMENT': 5.286625904466932e-05},\n",
       "  {'SUICIDE': 2.9370143913705177e-05},\n",
       "  {'FAMILY OFFENSES': 2.3496115130964143e-05},\n",
       "  {'LOITERING': 2.0292099431287214e-05},\n",
       "  {'BAD CHECKS': 1.602007849838464e-05},\n",
       "  {'BRIBERY': 1.2816062798707714e-05},\n",
       "  {'EXTORTION': 8.544041865805143e-06},\n",
       "  {'PROSTITUTION': 7.476036632579499e-06},\n",
       "  {'SEX OFFENSES, NON FORCIBLE': 6.408031399353857e-06},\n",
       "  {'PORNOGRAPHY/OBSCENE MAT': 1.0680052332256428e-06},\n",
       "  {'GAMBLING': 1.0680052332256428e-06}],\n",
       " 'RICHMOND': [{'LARCENY/THEFT': 0.01171014337970256},\n",
       "  {'NON-CRIMINAL': 0.006618428430299308},\n",
       "  {'OTHER OFFENSES': 0.006353029129842736},\n",
       "  {'VEHICLE THEFT': 0.00462766667556671},\n",
       "  {'ASSAULT': 0.003627479774650896},\n",
       "  {'VANDALISM': 0.0035692734894400982},\n",
       "  {'BURGLARY': 0.003008036739380023},\n",
       "  {'SUSPICIOUS OCC': 0.002439323952687368},\n",
       "  {'MISSING PERSON': 0.0013499586147972125},\n",
       "  {'FRAUD': 0.0012816062798707713},\n",
       "  {'WARRANTS': 0.001142231596934825},\n",
       "  {'DRUG/NARCOTIC': 0.001079219288174512},\n",
       "  {'ROBBERY': 0.0008853763383440579},\n",
       "  {'FORGERY/COUNTERFEITING': 0.000684591354497637},\n",
       "  {'SECONDARY CODES': 0.000589004886123942},\n",
       "  {'DRIVING UNDER THE INFLUENCE': 0.0003743358342455878},\n",
       "  {'WEAPON LAWS': 0.00035244172696446215},\n",
       "  {'TRESPASS': 0.00027501134755560303},\n",
       "  {'SEX OFFENSES, FORCIBLE': 0.00024030117747576962},\n",
       "  {'STOLEN PROPERTY': 0.00023549515392625424},\n",
       "  {'DRUNKENNESS': 0.0001692788294662644},\n",
       "  {'RECOVERED VEHICLE': 0.00014311270125223614},\n",
       "  {'DISORDERLY CONDUCT': 0.0001121405494886925},\n",
       "  {'ARSON': 0.00010893653378901557},\n",
       "  {'RUNAWAY': 0.0001073345259391771},\n",
       "  {'KIDNAPPING': 0.00010306250500627453},\n",
       "  {'LIQUOR LAWS': 9.398446052385657e-05},\n",
       "  {'EMBEZZLEMENT': 5.767228259418471e-05},\n",
       "  {'SUICIDE': 4.218620671241289e-05},\n",
       "  {'BAD CHECKS': 3.204015699676928e-05},\n",
       "  {'EXTORTION': 2.9370143913705177e-05},\n",
       "  {'PROSTITUTION': 2.7768136063866712e-05},\n",
       "  {'FAMILY OFFENSES': 2.7234133447253892e-05},\n",
       "  {'LOITERING': 1.2816062798707714e-05},\n",
       "  {'BRIBERY': 1.0680052332256427e-05},\n",
       "  {'SEX OFFENSES, NON FORCIBLE': 8.544041865805143e-06},\n",
       "  {'GAMBLING': 6.408031399353857e-06},\n",
       "  {'PORNOGRAPHY/OBSCENE MAT': 2.1360104664512856e-06}],\n",
       " 'SOUTHERN': [{'LARCENY/THEFT': 0.04915280484874376},\n",
       "  {'OTHER OFFENSES': 0.023823992737564414},\n",
       "  {'NON-CRIMINAL': 0.02249966624836462},\n",
       "  {'ASSAULT': 0.013801831628974982},\n",
       "  {'WARRANTS': 0.0101999839799215},\n",
       "  {'DRUG/NARCOTIC': 0.01011828157957974},\n",
       "  {'VANDALISM': 0.007470162603796759},\n",
       "  {'SUSPICIOUS OCC': 0.005676981817210904},\n",
       "  {'BURGLARY': 0.005619309534616719},\n",
       "  {'VEHICLE THEFT': 0.005356046244626599},\n",
       "  {'ROBBERY': 0.004395375537340133},\n",
       "  {'FRAUD': 0.003932929271353429},\n",
       "  {'MISSING PERSON': 0.0035714094999065495},\n",
       "  {'FORGERY/COUNTERFEITING': 0.0025728246068405735},\n",
       "  {'TRESPASS': 0.0016762342135476463},\n",
       "  {'SECONDARY CODES': 0.0013467545990975356},\n",
       "  {'WEAPON LAWS': 0.0012586441673564201},\n",
       "  {'STOLEN PROPERTY': 0.0012004378821456226},\n",
       "  {'DRUNKENNESS': 0.0010605291965930634},\n",
       "  {'SEX OFFENSES, FORCIBLE': 0.0009521266654206606},\n",
       "  {'DISORDERLY CONDUCT': 0.0005996849384561985},\n",
       "  {'LOITERING': 0.00042773609590686997},\n",
       "  {'LIQUOR LAWS': 0.00041652204095800067},\n",
       "  {'KIDNAPPING': 0.0003743358342455878},\n",
       "  {'RECOVERED VEHICLE': 0.00035564574266413904},\n",
       "  {'DRIVING UNDER THE INFLUENCE': 0.0003492377112647852},\n",
       "  {'EMBEZZLEMENT': 0.00030010947053640564},\n",
       "  {'PROSTITUTION': 0.00021413504926174137},\n",
       "  {'ARSON': 0.00020292099431287213},\n",
       "  {'RUNAWAY': 0.00012175259658772328},\n",
       "  {'BAD CHECKS': 8.757642912450271e-05},\n",
       "  {'SUICIDE': 7.4760366325795e-05},\n",
       "  {'FAMILY OFFENSES': 5.927429044402318e-05},\n",
       "  {'BRIBERY': 4.912824072837957e-05},\n",
       "  {'EXTORTION': 4.325421194563853e-05},\n",
       "  {'SEX OFFENSES, NON FORCIBLE': 2.8836141297092356e-05},\n",
       "  {'GAMBLING': 1.869009158144875e-05},\n",
       "  {'PORNOGRAPHY/OBSCENE MAT': 2.670013083064107e-06},\n",
       "  {'TREA': 5.340026166128214e-07}],\n",
       " 'TARAVAL': [{'LARCENY/THEFT': 0.013885136037166582},\n",
       "  {'OTHER OFFENSES': 0.009902010519851547},\n",
       "  {'NON-CRIMINAL': 0.008123247803914239},\n",
       "  {'VEHICLE THEFT': 0.00689504178570475},\n",
       "  {'ASSAULT': 0.006184284302993085},\n",
       "  {'VANDALISM': 0.005418524550770298},\n",
       "  {'BURGLARY': 0.0039612314100339096},\n",
       "  {'MISSING PERSON': 0.0037460283555389422},\n",
       "  {'SUSPICIOUS OCC': 0.0034651429792005983},\n",
       "  {'WARRANTS': 0.0018636691319787466},\n",
       "  {'FRAUD': 0.0017862387525698876},\n",
       "  {'DRUG/NARCOTIC': 0.0016730301978479694},\n",
       "  {'ROBBERY': 0.001599871839372013},\n",
       "  {'SECONDARY CODES': 0.0011742717539315942},\n",
       "  {'FORGERY/COUNTERFEITING': 0.001168931727765466},\n",
       "  {'WEAPON LAWS': 0.0006301230876031293},\n",
       "  {'TRESPASS': 0.00045550423197073664},\n",
       "  {'RUNAWAY': 0.00043574613515606227},\n",
       "  {'SEX OFFENSES, FORCIBLE': 0.0004170560435746135},\n",
       "  {'DRUNKENNESS': 0.00031025552025204924},\n",
       "  {'RECOVERED VEHICLE': 0.0002926334339038261},\n",
       "  {'STOLEN PROPERTY': 0.0002872934077376979},\n",
       "  {'DRIVING UNDER THE INFLUENCE': 0.0002568552585907671},\n",
       "  {'KIDNAPPING': 0.00022054308066109523},\n",
       "  {'DISORDERLY CONDUCT': 0.0001767548660988439},\n",
       "  {'ARSON': 0.00015539476143433103},\n",
       "  {'PROSTITUTION': 0.0001318986463033669},\n",
       "  {'LIQUOR LAWS': 0.00012922863322030277},\n",
       "  {'EMBEZZLEMENT': 0.0001121405494886925},\n",
       "  {'SUICIDE': 6.888633754305396e-05},\n",
       "  {'EXTORTION': 5.179825381144368e-05},\n",
       "  {'BAD CHECKS': 4.912824072837957e-05},\n",
       "  {'FAMILY OFFENSES': 4.645822764531546e-05},\n",
       "  {'LOITERING': 3.6846180546284675e-05},\n",
       "  {'BRIBERY': 2.0826102047900034e-05},\n",
       "  {'SEX OFFENSES, NON FORCIBLE': 1.922409419806157e-05},\n",
       "  {'GAMBLING': 9.612047099030785e-06},\n",
       "  {'PORNOGRAPHY/OBSCENE MAT': 2.670013083064107e-06},\n",
       "  {'TREA': 1.0680052332256428e-06}],\n",
       " 'TENDERLOIN': [{'DRUG/NARCOTIC': 0.01930205858008704},\n",
       "  {'OTHER OFFENSES': 0.015003871518970443},\n",
       "  {'LARCENY/THEFT': 0.011279737270712626},\n",
       "  {'ASSAULT': 0.008767788962165915},\n",
       "  {'NON-CRIMINAL': 0.008492243611993699},\n",
       "  {'WARRANTS': 0.008002563212559741},\n",
       "  {'SUSPICIOUS OCC': 0.0029113822657731024},\n",
       "  {'ROBBERY': 0.0024735001201505887},\n",
       "  {'VANDALISM': 0.001848183056096975},\n",
       "  {'BURGLARY': 0.0017018663391450619},\n",
       "  {'TRESPASS': 0.0012805382746375457},\n",
       "  {'FRAUD': 0.001270392224921902},\n",
       "  {'VEHICLE THEFT': 0.0011203374896536992},\n",
       "  {'PROSTITUTION': 0.0010546551678103223},\n",
       "  {'MISSING PERSON': 0.0009991188956825889},\n",
       "  {'WEAPON LAWS': 0.000923824526740181},\n",
       "  {'DISORDERLY CONDUCT': 0.0008629482284463194},\n",
       "  {'SECONDARY CODES': 0.0008303740688329373},\n",
       "  {'FORGERY/COUNTERFEITING': 0.0006226470509705498},\n",
       "  {'DRUNKENNESS': 0.0004912824072837957},\n",
       "  {'STOLEN PROPERTY': 0.0003988999546097776},\n",
       "  {'SEX OFFENSES, FORCIBLE': 0.0003487037086481724},\n",
       "  {'KIDNAPPING': 0.00024083518009238245},\n",
       "  {'LIQUOR LAWS': 0.00021787306757803114},\n",
       "  {'LOITERING': 0.00018850292366432597},\n",
       "  {'RECOVERED VEHICLE': 0.00014898673003497717},\n",
       "  {'EMBEZZLEMENT': 0.00012602461752062586},\n",
       "  {'DRIVING UNDER THE INFLUENCE': 0.00012068459135449764},\n",
       "  {'ARSON': 6.942034015966679e-05},\n",
       "  {'SUICIDE': 3.898219101273596e-05},\n",
       "  {'FAMILY OFFENSES': 3.524417269644621e-05},\n",
       "  {'BAD CHECKS': 2.0292099431287214e-05},\n",
       "  {'BRIBERY': 1.815608896483593e-05},\n",
       "  {'GAMBLING': 1.548607588177182e-05},\n",
       "  {'EXTORTION': 1.3884068031933356e-05},\n",
       "  {'RUNAWAY': 8.544041865805143e-06},\n",
       "  {'SEX OFFENSES, NON FORCIBLE': 4.8060235495153924e-06},\n",
       "  {'PORNOGRAPHY/OBSCENE MAT': 1.6020078498384642e-06}]}"
      ]
     },
     "execution_count": 16,
     "metadata": {},
     "output_type": "execute_result"
    }
   ],
   "source": [
    "p_crime_district = {}\n",
    "for district in list(PdDistrictSet):\n",
    "    counter = Counter([d['Category'] for d in data if d['PdDistrict'] == district])\n",
    "    p_crime_district[district] = [{k: v/len(data)} for k,v in counter.most_common()]\n",
    "    \n",
    "    \n",
    "p_crime_district"
   ]
  },
  {
   "cell_type": "code",
   "execution_count": null,
   "metadata": {
    "collapsed": true
   },
   "outputs": [],
   "source": []
  },
  {
   "cell_type": "markdown",
   "metadata": {},
   "source": [
    "#### Now we look at the ratio P(crime|district)/P(crime). That ratio is equal to 1 if the crime occurs at the same level within a district as in the city as a whole. If it's greater than one, it means that the crime occurs more frequently within that district. If it's smaller than one, it means that the crime is rarer within the district in question than in the city as a whole."
   ]
  },
  {
   "cell_type": "markdown",
   "metadata": {},
   "source": [
    "#### For each district plot these ratios for the 14 focus crimes. My plot looks like this\n"
   ]
  },
  {
   "cell_type": "markdown",
   "metadata": {},
   "source": [
    "#### Comment on the top crimes in Tenderloin, Mission, and Richmond. Does this fit with the impression you get of these neighborhoods on Wikipedia?"
   ]
  },
  {
   "cell_type": "markdown",
   "metadata": {},
   "source": [
    "#### Even though we only plotted the ratios for our 14 focus crimes, I asked you to calculate the ratios based on all crime categories. Why do you think I wanted to include all crime types in the calculation?"
   ]
  },
  {
   "cell_type": "markdown",
   "metadata": {},
   "source": [
    "## Assignment 1C: KNN"
   ]
  },
  {
   "cell_type": "markdown",
   "metadata": {},
   "source": [
    "## Assignment 1D: Multiple regression and the Red Baron"
   ]
  },
  {
   "cell_type": "code",
   "execution_count": null,
   "metadata": {
    "collapsed": true
   },
   "outputs": [],
   "source": []
  }
 ],
 "metadata": {
  "kernelspec": {
   "display_name": "Python 2",
   "language": "python",
   "name": "python2"
  },
  "language_info": {
   "codemirror_mode": {
    "name": "ipython",
    "version": 2
   },
   "file_extension": ".py",
   "mimetype": "text/x-python",
   "name": "python",
   "nbconvert_exporter": "python",
   "pygments_lexer": "ipython2",
   "version": "2.7.11"
  }
 },
 "nbformat": 4,
 "nbformat_minor": 0
}
