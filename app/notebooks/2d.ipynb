{
 "cells": [
  {
   "cell_type": "code",
   "execution_count": 19,
   "metadata": {
    "collapsed": true
   },
   "outputs": [],
   "source": [
    "import numpy as np\n",
    "import pandas as pd\n",
    "import itertools\n",
    "from __future__ import division\n",
    "import os\n",
    "from sklearn import cluster\n",
    "import json"
   ]
  },
  {
   "cell_type": "markdown",
   "metadata": {},
   "source": [
    "# Creating datasets for 2D\n",
    "\n",
    "We begin by reading the csv file, into a data frame. This makes it easier to create."
   ]
  },
  {
   "cell_type": "code",
   "execution_count": 4,
   "metadata": {
    "collapsed": true
   },
   "outputs": [],
   "source": [
    "data_path = '../../SFPD_Incidents_-_from_1_January_2003.csv'\n",
    "\n",
    "data = pd.read_csv(data_path)"
   ]
  },
  {
   "cell_type": "markdown",
   "metadata": {},
   "source": [
    "Then we want to filter the data set.\n",
    "We do this by only taking the rows with the category ``PROSTITUTION`` as well as removing some rows with invalid Y coordinate."
   ]
  },
  {
   "cell_type": "code",
   "execution_count": 5,
   "metadata": {
    "collapsed": false
   },
   "outputs": [],
   "source": [
    "mask = (data.Category == 'PROSTITUTION') & (data.Y != 90)\n",
    "\n",
    "filterByCat = data[mask]"
   ]
  },
  {
   "cell_type": "markdown",
   "metadata": {},
   "source": [
    "To reduce the amount of data we need to load on the page, we only extract the columns that we need.\n",
    "In this case it is the district, longtitude and latitude.\n",
    "If this file were written to the disk at this point, the size would be around ``700KB`` (e.i. very small)."
   ]
  },
  {
   "cell_type": "code",
   "execution_count": 6,
   "metadata": {
    "collapsed": false
   },
   "outputs": [],
   "source": [
    "reducted = filterByCat[['PdDistrict','X','Y']]"
   ]
  },
  {
   "cell_type": "markdown",
   "metadata": {},
   "source": [
    "Then we define a function that we use to calculate the clusters, as well as centoids."
   ]
  },
  {
   "cell_type": "code",
   "execution_count": 7,
   "metadata": {
    "collapsed": false,
    "scrolled": true
   },
   "outputs": [],
   "source": [
    "X = data.loc[mask][['X','Y']]\n",
    "\n",
    "centers = {}\n",
    "\n",
    "def knn(k):\n",
    "    md = cluster.KMeans(n_clusters=k).fit(X)\n",
    "    return md.predict(X),md.cluster_centers_\n"
   ]
  },
  {
   "cell_type": "markdown",
   "metadata": {},
   "source": [
    "Now we calcualte all our K nearest neighbor, for 2..6."
   ]
  },
  {
   "cell_type": "code",
   "execution_count": 8,
   "metadata": {
    "collapsed": false
   },
   "outputs": [
    {
     "name": "stderr",
     "output_type": "stream",
     "text": [
      "\n"
     ]
    }
   ],
   "source": [
    "for i in range(2,7):\n",
    "    reducted['K'+str(i)], centers[i] = knn(i)"
   ]
  },
  {
   "cell_type": "code",
   "execution_count": 9,
   "metadata": {
    "collapsed": false
   },
   "outputs": [
    {
     "data": {
      "text/plain": [
       "{2: array([[-122.41829076,   37.76059012],\n",
       "        [-122.41771519,   37.78740293]]),\n",
       " 3: array([[-122.41771969,   37.78759671],\n",
       "        [-122.41565475,   37.76154985],\n",
       "        [-122.47831658,   37.74518815]]),\n",
       " 4: array([[-122.41771794,   37.78759954],\n",
       "        [-122.41562085,   37.76167551],\n",
       "        [-122.48642315,   37.75842179],\n",
       "        [-122.45730222,   37.71961699]]),\n",
       " 5: array([[-122.41873268,   37.78764484],\n",
       "        [-122.41583586,   37.76146322],\n",
       "        [-122.48642315,   37.75842179],\n",
       "        [-122.45730222,   37.71961699],\n",
       "        [-122.4052264 ,   37.78511642]]),\n",
       " 6: array([[-122.41599101,   37.76173894],\n",
       "        [-122.41873463,   37.78764477],\n",
       "        [-122.4621254 ,   37.72049778],\n",
       "        [-122.4052441 ,   37.78512395],\n",
       "        [-122.40458723,   37.72870227],\n",
       "        [-122.48647474,   37.75851639]])}"
      ]
     },
     "execution_count": 9,
     "metadata": {},
     "output_type": "execute_result"
    }
   ],
   "source": [
    "centers"
   ]
  },
  {
   "cell_type": "markdown",
   "metadata": {},
   "source": [
    "Here is a preview of our data, now enriched with K values."
   ]
  },
  {
   "cell_type": "code",
   "execution_count": 10,
   "metadata": {
    "collapsed": false
   },
   "outputs": [
    {
     "data": {
      "text/html": [
       "<div>\n",
       "<table border=\"1\" class=\"dataframe\">\n",
       "  <thead>\n",
       "    <tr style=\"text-align: right;\">\n",
       "      <th></th>\n",
       "      <th>PdDistrict</th>\n",
       "      <th>X</th>\n",
       "      <th>Y</th>\n",
       "      <th>K2</th>\n",
       "      <th>K3</th>\n",
       "      <th>K4</th>\n",
       "      <th>K5</th>\n",
       "      <th>K6</th>\n",
       "    </tr>\n",
       "  </thead>\n",
       "  <tbody>\n",
       "    <tr>\n",
       "      <th>670</th>\n",
       "      <td>TENDERLOIN</td>\n",
       "      <td>-122.406402</td>\n",
       "      <td>37.786614</td>\n",
       "      <td>1</td>\n",
       "      <td>0</td>\n",
       "      <td>0</td>\n",
       "      <td>4</td>\n",
       "      <td>3</td>\n",
       "    </tr>\n",
       "    <tr>\n",
       "      <th>724</th>\n",
       "      <td>TENDERLOIN</td>\n",
       "      <td>-122.408202</td>\n",
       "      <td>37.786885</td>\n",
       "      <td>1</td>\n",
       "      <td>0</td>\n",
       "      <td>0</td>\n",
       "      <td>4</td>\n",
       "      <td>3</td>\n",
       "    </tr>\n",
       "    <tr>\n",
       "      <th>727</th>\n",
       "      <td>TENDERLOIN</td>\n",
       "      <td>-122.408231</td>\n",
       "      <td>37.787359</td>\n",
       "      <td>1</td>\n",
       "      <td>0</td>\n",
       "      <td>0</td>\n",
       "      <td>4</td>\n",
       "      <td>3</td>\n",
       "    </tr>\n",
       "    <tr>\n",
       "      <th>1105</th>\n",
       "      <td>SOUTHERN</td>\n",
       "      <td>-122.400916</td>\n",
       "      <td>37.785457</td>\n",
       "      <td>1</td>\n",
       "      <td>0</td>\n",
       "      <td>0</td>\n",
       "      <td>4</td>\n",
       "      <td>3</td>\n",
       "    </tr>\n",
       "    <tr>\n",
       "      <th>1106</th>\n",
       "      <td>SOUTHERN</td>\n",
       "      <td>-122.400916</td>\n",
       "      <td>37.785457</td>\n",
       "      <td>1</td>\n",
       "      <td>0</td>\n",
       "      <td>0</td>\n",
       "      <td>4</td>\n",
       "      <td>3</td>\n",
       "    </tr>\n",
       "  </tbody>\n",
       "</table>\n",
       "</div>"
      ],
      "text/plain": [
       "      PdDistrict           X          Y  K2  K3  K4  K5  K6\n",
       "670   TENDERLOIN -122.406402  37.786614   1   0   0   4   3\n",
       "724   TENDERLOIN -122.408202  37.786885   1   0   0   4   3\n",
       "727   TENDERLOIN -122.408231  37.787359   1   0   0   4   3\n",
       "1105    SOUTHERN -122.400916  37.785457   1   0   0   4   3\n",
       "1106    SOUTHERN -122.400916  37.785457   1   0   0   4   3"
      ]
     },
     "execution_count": 10,
     "metadata": {},
     "output_type": "execute_result"
    }
   ],
   "source": [
    "reducted.head()"
   ]
  },
  {
   "cell_type": "markdown",
   "metadata": {},
   "source": [
    "### Write our result\n",
    "\n",
    "Lastly we write our result to the disk, so that we can use it on our page."
   ]
  },
  {
   "cell_type": "code",
   "execution_count": 11,
   "metadata": {
    "collapsed": true
   },
   "outputs": [],
   "source": [
    "reducted.to_csv('week_8_vis_1.csv', sep=',')"
   ]
  },
  {
   "cell_type": "markdown",
   "metadata": {},
   "source": [
    "Below is the centoids printed"
   ]
  },
  {
   "cell_type": "code",
   "execution_count": 23,
   "metadata": {
    "collapsed": false
   },
   "outputs": [
    {
     "data": {
      "text/plain": [
       "{2: array([[-122.41829076,   37.76059012],\n",
       "        [-122.41771519,   37.78740293]]),\n",
       " 3: array([[-122.41771969,   37.78759671],\n",
       "        [-122.41565475,   37.76154985],\n",
       "        [-122.47831658,   37.74518815]]),\n",
       " 4: array([[-122.41771794,   37.78759954],\n",
       "        [-122.41562085,   37.76167551],\n",
       "        [-122.48642315,   37.75842179],\n",
       "        [-122.45730222,   37.71961699]]),\n",
       " 5: array([[-122.41873268,   37.78764484],\n",
       "        [-122.41583586,   37.76146322],\n",
       "        [-122.48642315,   37.75842179],\n",
       "        [-122.45730222,   37.71961699],\n",
       "        [-122.4052264 ,   37.78511642]]),\n",
       " 6: array([[-122.41599101,   37.76173894],\n",
       "        [-122.41873463,   37.78764477],\n",
       "        [-122.4621254 ,   37.72049778],\n",
       "        [-122.4052441 ,   37.78512395],\n",
       "        [-122.40458723,   37.72870227],\n",
       "        [-122.48647474,   37.75851639]])}"
      ]
     },
     "execution_count": 23,
     "metadata": {},
     "output_type": "execute_result"
    }
   ],
   "source": [
    "centers"
   ]
  }
 ],
 "metadata": {
  "kernelspec": {
   "display_name": "Python 2",
   "language": "python",
   "name": "python2"
  },
  "language_info": {
   "codemirror_mode": {
    "name": "ipython",
    "version": 2
   },
   "file_extension": ".py",
   "mimetype": "text/x-python",
   "name": "python",
   "nbconvert_exporter": "python",
   "pygments_lexer": "ipython2",
   "version": "2.7.11"
  }
 },
 "nbformat": 4,
 "nbformat_minor": 0
}
